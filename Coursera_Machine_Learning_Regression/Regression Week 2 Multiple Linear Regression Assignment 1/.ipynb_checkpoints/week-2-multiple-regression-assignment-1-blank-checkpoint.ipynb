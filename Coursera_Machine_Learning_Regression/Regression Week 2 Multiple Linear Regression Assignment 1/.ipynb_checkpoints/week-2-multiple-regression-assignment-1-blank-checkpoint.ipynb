{
 "cells": [
  {
   "cell_type": "markdown",
   "metadata": {},
   "source": [
    "# Regression Week 2: Multiple Regression (Interpretation)"
   ]
  },
  {
   "cell_type": "markdown",
   "metadata": {},
   "source": [
    "The goal of this first notebook is to explore multiple regression and feature engineering with existing graphlab functions.\n",
    "\n",
    "In this notebook you will use data on house sales in King County to predict prices using multiple regression. You will:\n",
    "* Use SFrames to do some feature engineering\n",
    "* Use built-in graphlab functions to compute the regression weights (coefficients/parameters)\n",
    "* Given the regression weights, predictors and outcome write a function to compute the Residual Sum of Squares\n",
    "* Look at coefficients and interpret their meanings\n",
    "* Evaluate multiple models via RSS"
   ]
  },
  {
   "cell_type": "markdown",
   "metadata": {},
   "source": [
    "# Import sci-kit learn"
   ]
  },
  {
   "cell_type": "code",
   "execution_count": 2,
   "metadata": {
    "collapsed": true
   },
   "outputs": [],
   "source": [
    "import pandas as pd\n",
    "import numpy as np\n",
    "from  sklearn import linear_model \n",
    "from sklearn.model_selection import train_test_split\n"
   ]
  },
  {
   "cell_type": "markdown",
   "metadata": {},
   "source": [
    "# Load in house sales data\n",
    "\n",
    "Dataset is from house sales in King County, the region where the city of Seattle, WA is located."
   ]
  },
  {
   "cell_type": "code",
   "execution_count": 3,
   "metadata": {
    "scrolled": true
   },
   "outputs": [
    {
     "data": {
      "text/html": [
       "<div>\n",
       "<style>\n",
       "    .dataframe thead tr:only-child th {\n",
       "        text-align: right;\n",
       "    }\n",
       "\n",
       "    .dataframe thead th {\n",
       "        text-align: left;\n",
       "    }\n",
       "\n",
       "    .dataframe tbody tr th {\n",
       "        vertical-align: top;\n",
       "    }\n",
       "</style>\n",
       "<table border=\"1\" class=\"dataframe\">\n",
       "  <thead>\n",
       "    <tr style=\"text-align: right;\">\n",
       "      <th></th>\n",
       "      <th>id</th>\n",
       "      <th>date</th>\n",
       "      <th>price</th>\n",
       "      <th>bedrooms</th>\n",
       "      <th>bathrooms</th>\n",
       "      <th>sqft_living</th>\n",
       "      <th>sqft_lot</th>\n",
       "      <th>floors</th>\n",
       "      <th>waterfront</th>\n",
       "      <th>view</th>\n",
       "      <th>...</th>\n",
       "      <th>grade</th>\n",
       "      <th>sqft_above</th>\n",
       "      <th>sqft_basement</th>\n",
       "      <th>yr_built</th>\n",
       "      <th>yr_renovated</th>\n",
       "      <th>zipcode</th>\n",
       "      <th>lat</th>\n",
       "      <th>long</th>\n",
       "      <th>sqft_living15</th>\n",
       "      <th>sqft_lot15</th>\n",
       "    </tr>\n",
       "  </thead>\n",
       "  <tbody>\n",
       "    <tr>\n",
       "      <th>0</th>\n",
       "      <td>7129300520</td>\n",
       "      <td>20141013T000000</td>\n",
       "      <td>221900.0</td>\n",
       "      <td>3</td>\n",
       "      <td>1.00</td>\n",
       "      <td>1180</td>\n",
       "      <td>5650</td>\n",
       "      <td>1.0</td>\n",
       "      <td>0</td>\n",
       "      <td>0</td>\n",
       "      <td>...</td>\n",
       "      <td>7</td>\n",
       "      <td>1180</td>\n",
       "      <td>0</td>\n",
       "      <td>1955</td>\n",
       "      <td>0</td>\n",
       "      <td>98178</td>\n",
       "      <td>47.5112</td>\n",
       "      <td>-122.257</td>\n",
       "      <td>1340</td>\n",
       "      <td>5650</td>\n",
       "    </tr>\n",
       "    <tr>\n",
       "      <th>1</th>\n",
       "      <td>6414100192</td>\n",
       "      <td>20141209T000000</td>\n",
       "      <td>538000.0</td>\n",
       "      <td>3</td>\n",
       "      <td>2.25</td>\n",
       "      <td>2570</td>\n",
       "      <td>7242</td>\n",
       "      <td>2.0</td>\n",
       "      <td>0</td>\n",
       "      <td>0</td>\n",
       "      <td>...</td>\n",
       "      <td>7</td>\n",
       "      <td>2170</td>\n",
       "      <td>400</td>\n",
       "      <td>1951</td>\n",
       "      <td>1991</td>\n",
       "      <td>98125</td>\n",
       "      <td>47.7210</td>\n",
       "      <td>-122.319</td>\n",
       "      <td>1690</td>\n",
       "      <td>7639</td>\n",
       "    </tr>\n",
       "    <tr>\n",
       "      <th>2</th>\n",
       "      <td>5631500400</td>\n",
       "      <td>20150225T000000</td>\n",
       "      <td>180000.0</td>\n",
       "      <td>2</td>\n",
       "      <td>1.00</td>\n",
       "      <td>770</td>\n",
       "      <td>10000</td>\n",
       "      <td>1.0</td>\n",
       "      <td>0</td>\n",
       "      <td>0</td>\n",
       "      <td>...</td>\n",
       "      <td>6</td>\n",
       "      <td>770</td>\n",
       "      <td>0</td>\n",
       "      <td>1933</td>\n",
       "      <td>0</td>\n",
       "      <td>98028</td>\n",
       "      <td>47.7379</td>\n",
       "      <td>-122.233</td>\n",
       "      <td>2720</td>\n",
       "      <td>8062</td>\n",
       "    </tr>\n",
       "    <tr>\n",
       "      <th>3</th>\n",
       "      <td>2487200875</td>\n",
       "      <td>20141209T000000</td>\n",
       "      <td>604000.0</td>\n",
       "      <td>4</td>\n",
       "      <td>3.00</td>\n",
       "      <td>1960</td>\n",
       "      <td>5000</td>\n",
       "      <td>1.0</td>\n",
       "      <td>0</td>\n",
       "      <td>0</td>\n",
       "      <td>...</td>\n",
       "      <td>7</td>\n",
       "      <td>1050</td>\n",
       "      <td>910</td>\n",
       "      <td>1965</td>\n",
       "      <td>0</td>\n",
       "      <td>98136</td>\n",
       "      <td>47.5208</td>\n",
       "      <td>-122.393</td>\n",
       "      <td>1360</td>\n",
       "      <td>5000</td>\n",
       "    </tr>\n",
       "    <tr>\n",
       "      <th>4</th>\n",
       "      <td>1954400510</td>\n",
       "      <td>20150218T000000</td>\n",
       "      <td>510000.0</td>\n",
       "      <td>3</td>\n",
       "      <td>2.00</td>\n",
       "      <td>1680</td>\n",
       "      <td>8080</td>\n",
       "      <td>1.0</td>\n",
       "      <td>0</td>\n",
       "      <td>0</td>\n",
       "      <td>...</td>\n",
       "      <td>8</td>\n",
       "      <td>1680</td>\n",
       "      <td>0</td>\n",
       "      <td>1987</td>\n",
       "      <td>0</td>\n",
       "      <td>98074</td>\n",
       "      <td>47.6168</td>\n",
       "      <td>-122.045</td>\n",
       "      <td>1800</td>\n",
       "      <td>7503</td>\n",
       "    </tr>\n",
       "  </tbody>\n",
       "</table>\n",
       "<p>5 rows × 21 columns</p>\n",
       "</div>"
      ],
      "text/plain": [
       "           id             date     price  bedrooms  bathrooms  sqft_living  \\\n",
       "0  7129300520  20141013T000000  221900.0         3       1.00         1180   \n",
       "1  6414100192  20141209T000000  538000.0         3       2.25         2570   \n",
       "2  5631500400  20150225T000000  180000.0         2       1.00          770   \n",
       "3  2487200875  20141209T000000  604000.0         4       3.00         1960   \n",
       "4  1954400510  20150218T000000  510000.0         3       2.00         1680   \n",
       "\n",
       "   sqft_lot  floors  waterfront  view     ...      grade  sqft_above  \\\n",
       "0      5650     1.0           0     0     ...          7        1180   \n",
       "1      7242     2.0           0     0     ...          7        2170   \n",
       "2     10000     1.0           0     0     ...          6         770   \n",
       "3      5000     1.0           0     0     ...          7        1050   \n",
       "4      8080     1.0           0     0     ...          8        1680   \n",
       "\n",
       "   sqft_basement  yr_built  yr_renovated  zipcode      lat     long  \\\n",
       "0              0      1955             0    98178  47.5112 -122.257   \n",
       "1            400      1951          1991    98125  47.7210 -122.319   \n",
       "2              0      1933             0    98028  47.7379 -122.233   \n",
       "3            910      1965             0    98136  47.5208 -122.393   \n",
       "4              0      1987             0    98074  47.6168 -122.045   \n",
       "\n",
       "   sqft_living15  sqft_lot15  \n",
       "0           1340        5650  \n",
       "1           1690        7639  \n",
       "2           2720        8062  \n",
       "3           1360        5000  \n",
       "4           1800        7503  \n",
       "\n",
       "[5 rows x 21 columns]"
      ]
     },
     "execution_count": 3,
     "metadata": {},
     "output_type": "execute_result"
    }
   ],
   "source": [
    "sales = pd.read_csv(\"kc_house_data.csv\", index_col=False)\n",
    "sales.head(5)"
   ]
  },
  {
   "cell_type": "markdown",
   "metadata": {},
   "source": [
    "# Split data into training and testing.\n",
    "We use seed=0 so that everyone running this notebook gets the same results.  In practice, you may set a random seed (or let GraphLab Create pick a random seed for you).  "
   ]
  },
  {
   "cell_type": "code",
   "execution_count": 4,
   "metadata": {
    "collapsed": true
   },
   "outputs": [],
   "source": [
    "train_data,test_data = train_test_split(sales, test_size = 0.25, random_state = 5)"
   ]
  },
  {
   "cell_type": "markdown",
   "metadata": {},
   "source": [
    "# Learning a multiple regression model"
   ]
  },
  {
   "cell_type": "markdown",
   "metadata": {},
   "source": [
    "Recall we can use the following code to learn a multiple regression model predicting 'price' based on the following features:\n",
    "example_features = ['sqft_living', 'bedrooms', 'bathrooms'] on training data with the following code:\n",
    "\n",
    "(Aside: We set validation_set = None to ensure that the results are always the same)"
   ]
  },
  {
   "cell_type": "code",
   "execution_count": 5,
   "metadata": {},
   "outputs": [
    {
     "name": "stdout",
     "output_type": "stream",
     "text": [
      "LinearRegression Model score 0.51565046159\n",
      "Ridge Model score 0.51565039472\n",
      "Lasso Model score 0.515650433961\n"
     ]
    }
   ],
   "source": [
    "example_features = ['sqft_living', 'bedrooms', 'bathrooms']\n",
    "\n",
    "\n",
    "LinearRegression_model = linear_model.LinearRegression()\n",
    "LinearRegression_model.fit(train_data[example_features], train_data['price'], )\n",
    "LinearRegression_model_score = LinearRegression_model.score(test_data[example_features],test_data['price'])\n",
    "print('LinearRegression Model score', LinearRegression_model_score)\n",
    "\n",
    "Ridge_model = linear_model.Ridge(alpha=0.5)\n",
    "Ridge_model.fit(train_data[example_features], train_data['price'], )\n",
    "Ridge_model_score = Ridge_model.score(test_data[example_features],test_data['price'])\n",
    "print('Ridge Model score', Ridge_model_score)\n",
    "\n",
    "Lasso_model = linear_model.Lasso(alpha=0.1)\n",
    "Lasso_model.fit(train_data[example_features], train_data['price'], )\n",
    "Lasso_model_score = Lasso_model.score(test_data[example_features],test_data['price'])\n",
    "print('Lasso Model score', Lasso_model_score)\n"
   ]
  },
  {
   "cell_type": "markdown",
   "metadata": {},
   "source": [
    "Now that we have fitted the model we can extract the regression weights (coefficients) as an SFrame as follows:"
   ]
  },
  {
   "cell_type": "code",
   "execution_count": 6,
   "metadata": {},
   "outputs": [
    {
     "name": "stdout",
     "output_type": "stream",
     "text": [
      "LinearRegression model weight [   312.20544621 -57492.66964459   3680.40090507]\n",
      "Ridge model weight [   312.20436153 -57489.54096282   3679.26673889]\n",
      "Lasso model weight [   312.20560052 -57492.45718436   3679.96372531]\n"
     ]
    }
   ],
   "source": [
    "LinearRegression_model_weight = LinearRegression_model.coef_\n",
    "Ridge_model_weight = Ridge_model.coef_\n",
    "Lasso_model_weight = Lasso_model.coef_\n",
    "print ('LinearRegression model weight', LinearRegression_model_weight)\n",
    "print ('Ridge model weight', Ridge_model_weight)\n",
    "print ('Lasso model weight', Lasso_model_weight)"
   ]
  },
  {
   "cell_type": "markdown",
   "metadata": {},
   "source": [
    "# Making Predictions\n",
    "\n",
    "In the gradient descent notebook we use numpy to do our regression. In this book we will use existing graphlab create functions to analyze multiple regressions. \n",
    "\n",
    "Recall that once a model is built we can use the .predict() function to find the predicted values for data we pass. For example using the example model above:"
   ]
  },
  {
   "cell_type": "code",
   "execution_count": 7,
   "metadata": {},
   "outputs": [
    {
     "name": "stdout",
     "output_type": "stream",
     "text": [
      "595616.907914\n"
     ]
    }
   ],
   "source": [
    "LinearRegression_model_predictions = LinearRegression_model.predict(train_data[example_features])\n",
    "print(LinearRegression_model_predictions[0])\n"
   ]
  },
  {
   "cell_type": "markdown",
   "metadata": {},
   "source": [
    "# Compute RSS"
   ]
  },
  {
   "cell_type": "markdown",
   "metadata": {},
   "source": [
    "Now that we can make predictions given the model, let's write a function to compute the RSS of the model. Complete the function below to calculate RSS given the model, data, and the outcome."
   ]
  },
  {
   "cell_type": "code",
   "execution_count": 8,
   "metadata": {
    "collapsed": true
   },
   "outputs": [],
   "source": [
    "def get_residual_sum_of_squares(model, data, outcome):\n",
    "    # First get the predictions\n",
    "    predictions = model.predict(data)\n",
    "    # Then compute the residuals/errors\n",
    "    residuals = outcome - predictions\n",
    "    # Then square and add them up\n",
    "    RSS = (residuals * residuals ).sum()\n",
    "    return RSS"
   ]
  },
  {
   "cell_type": "markdown",
   "metadata": {},
   "source": [
    "Test your function by computing the RSS on TEST data for the example model:"
   ]
  },
  {
   "cell_type": "code",
   "execution_count": 9,
   "metadata": {},
   "outputs": [
    {
     "name": "stdout",
     "output_type": "stream",
     "text": [
      "RSS: 3.47526033386e+14\n"
     ]
    }
   ],
   "source": [
    "rss_example_train = get_residual_sum_of_squares(LinearRegression_model, test_data[example_features], test_data['price'])\n",
    "print('RSS:', rss_example_train) # should be 2.7376153833e+14"
   ]
  },
  {
   "cell_type": "markdown",
   "metadata": {},
   "source": [
    "# Create some new features"
   ]
  },
  {
   "cell_type": "markdown",
   "metadata": {},
   "source": [
    "Although we often think of multiple regression as including multiple different features (e.g. # of bedrooms, squarefeet, and # of bathrooms) but we can also consider transformations of existing features e.g. the log of the squarefeet or even \"interaction\" features such as the product of bedrooms and bathrooms."
   ]
  },
  {
   "cell_type": "markdown",
   "metadata": {},
   "source": [
    "You will use the logarithm function to create a new feature. so first you should import it from the math library."
   ]
  },
  {
   "cell_type": "code",
   "execution_count": 10,
   "metadata": {
    "collapsed": true
   },
   "outputs": [],
   "source": [
    "from math import log\n",
    "import numpy as np"
   ]
  },
  {
   "cell_type": "markdown",
   "metadata": {},
   "source": [
    "Next create the following 4 new features as column in both TEST and TRAIN data:\n",
    "* bedrooms_squared = bedrooms\\*bedrooms\n",
    "* bed_bath_rooms = bedrooms\\*bathrooms\n",
    "* log_sqft_living = log(sqft_living)\n",
    "* lat_plus_long = lat + long \n",
    "As an example here's the first one:"
   ]
  },
  {
   "cell_type": "code",
   "execution_count": 11,
   "metadata": {},
   "outputs": [
    {
     "name": "stderr",
     "output_type": "stream",
     "text": [
      "/Users/MH/anaconda/envs/py36/lib/python3.6/site-packages/pandas/core/indexing.py:337: SettingWithCopyWarning: \n",
      "A value is trying to be set on a copy of a slice from a DataFrame.\n",
      "Try using .loc[row_indexer,col_indexer] = value instead\n",
      "\n",
      "See the caveats in the documentation: http://pandas.pydata.org/pandas-docs/stable/indexing.html#indexing-view-versus-copy\n",
      "  self.obj[key] = _infer_fill_value(value)\n",
      "/Users/MH/anaconda/envs/py36/lib/python3.6/site-packages/pandas/core/indexing.py:517: SettingWithCopyWarning: \n",
      "A value is trying to be set on a copy of a slice from a DataFrame.\n",
      "Try using .loc[row_indexer,col_indexer] = value instead\n",
      "\n",
      "See the caveats in the documentation: http://pandas.pydata.org/pandas-docs/stable/indexing.html#indexing-view-versus-copy\n",
      "  self.obj[item] = s\n"
     ]
    }
   ],
   "source": [
    "train_data.loc[:,('bedrooms_squared')] = train_data['bedrooms'].pow(2)\n",
    "test_data.loc[:,('bedrooms_squared')] = test_data['bedrooms'].pow(2)"
   ]
  },
  {
   "cell_type": "code",
   "execution_count": 12,
   "metadata": {},
   "outputs": [
    {
     "name": "stderr",
     "output_type": "stream",
     "text": [
      "/Users/MH/anaconda/envs/py36/lib/python3.6/site-packages/pandas/core/indexing.py:337: SettingWithCopyWarning: \n",
      "A value is trying to be set on a copy of a slice from a DataFrame.\n",
      "Try using .loc[row_indexer,col_indexer] = value instead\n",
      "\n",
      "See the caveats in the documentation: http://pandas.pydata.org/pandas-docs/stable/indexing.html#indexing-view-versus-copy\n",
      "  self.obj[key] = _infer_fill_value(value)\n",
      "/Users/MH/anaconda/envs/py36/lib/python3.6/site-packages/pandas/core/indexing.py:517: SettingWithCopyWarning: \n",
      "A value is trying to be set on a copy of a slice from a DataFrame.\n",
      "Try using .loc[row_indexer,col_indexer] = value instead\n",
      "\n",
      "See the caveats in the documentation: http://pandas.pydata.org/pandas-docs/stable/indexing.html#indexing-view-versus-copy\n",
      "  self.obj[item] = s\n"
     ]
    }
   ],
   "source": [
    "# create the remaining 3 features in both TEST and TRAIN data\n",
    "train_data.loc[:,'bed_bath_rooms'] = train_data.eval('bedrooms*bathrooms')\n",
    "test_data.loc[:,'bed_bath_rooms'] = test_data.eval('bedrooms*bathrooms')\n",
    "\n",
    "train_data.loc[:,'log_sqft_living'] = train_data['sqft_living'].apply(lambda x: log(x))\n",
    "test_data.loc[:,'log_sqft_living'] = test_data['sqft_living'].apply(lambda x: log(x))\n",
    "\n",
    "train_data.loc[:,'lat_plus_long'] = train_data['lat'] + train_data['long']\n",
    "test_data.loc[:,'lat_plus_long'] = test_data['lat'] + test_data['long']\n"
   ]
  },
  {
   "cell_type": "markdown",
   "metadata": {},
   "source": [
    "* Squaring bedrooms will increase the separation between not many bedrooms (e.g. 1) and lots of bedrooms (e.g. 4) since 1^2 = 1 but 4^2 = 16. Consequently this feature will mostly affect houses with many bedrooms.\n",
    "* bedrooms times bathrooms gives what's called an \"interaction\" feature. It is large when *both* of them are large.\n",
    "* Taking the log of squarefeet has the effect of bringing large values closer together and spreading out small values.\n",
    "* Adding latitude to longitude is totally non-sensical but we will do it anyway (you'll see why)"
   ]
  },
  {
   "cell_type": "markdown",
   "metadata": {},
   "source": [
    "**Quiz Question: What is the mean (arithmetic average) value of your 4 new features on TEST data? (round to 2 digits)**"
   ]
  },
  {
   "cell_type": "code",
   "execution_count": 13,
   "metadata": {},
   "outputs": [
    {
     "name": "stdout",
     "output_type": "stream",
     "text": [
      "bedrooms_squared mean: 12.2470392302\n",
      "bed_bath_rooms mean: 7.5174407846\n",
      "log_sqft_living mean: 7.54897213526\n",
      "lat_plus_long mean: -74.6527431532\n"
     ]
    }
   ],
   "source": [
    "print('bedrooms_squared mean:', test_data['bedrooms_squared'].mean())\n",
    "print('bed_bath_rooms mean:', test_data['bed_bath_rooms'].mean())\n",
    "print('log_sqft_living mean:', test_data['log_sqft_living'].mean())\n",
    "print('lat_plus_long mean:', test_data['lat_plus_long'].mean())"
   ]
  },
  {
   "cell_type": "markdown",
   "metadata": {},
   "source": [
    "# Learning Multiple Models"
   ]
  },
  {
   "cell_type": "markdown",
   "metadata": {},
   "source": [
    "Now we will learn the weights for three (nested) models for predicting house prices. The first model will have the fewest features the second model will add one more feature and the third will add a few more:\n",
    "* Model 1: squarefeet, # bedrooms, # bathrooms, latitude & longitude\n",
    "* Model 2: add bedrooms\\*bathrooms\n",
    "* Model 3: Add log squarefeet, bedrooms squared, and the (nonsensical) latitude + longitude"
   ]
  },
  {
   "cell_type": "code",
   "execution_count": 14,
   "metadata": {},
   "outputs": [
    {
     "data": {
      "text/html": [
       "<div>\n",
       "<style>\n",
       "    .dataframe thead tr:only-child th {\n",
       "        text-align: right;\n",
       "    }\n",
       "\n",
       "    .dataframe thead th {\n",
       "        text-align: left;\n",
       "    }\n",
       "\n",
       "    .dataframe tbody tr th {\n",
       "        vertical-align: top;\n",
       "    }\n",
       "</style>\n",
       "<table border=\"1\" class=\"dataframe\">\n",
       "  <thead>\n",
       "    <tr style=\"text-align: right;\">\n",
       "      <th></th>\n",
       "      <th>id</th>\n",
       "      <th>date</th>\n",
       "      <th>price</th>\n",
       "      <th>bedrooms</th>\n",
       "      <th>bathrooms</th>\n",
       "      <th>sqft_living</th>\n",
       "      <th>sqft_lot</th>\n",
       "      <th>floors</th>\n",
       "      <th>waterfront</th>\n",
       "      <th>view</th>\n",
       "      <th>...</th>\n",
       "      <th>yr_renovated</th>\n",
       "      <th>zipcode</th>\n",
       "      <th>lat</th>\n",
       "      <th>long</th>\n",
       "      <th>sqft_living15</th>\n",
       "      <th>sqft_lot15</th>\n",
       "      <th>bedrooms_squared</th>\n",
       "      <th>bed_bath_rooms</th>\n",
       "      <th>log_sqft_living</th>\n",
       "      <th>lat_plus_long</th>\n",
       "    </tr>\n",
       "  </thead>\n",
       "  <tbody>\n",
       "    <tr>\n",
       "      <th>10180</th>\n",
       "      <td>5201000030</td>\n",
       "      <td>20150323T000000</td>\n",
       "      <td>597000.0</td>\n",
       "      <td>4</td>\n",
       "      <td>2.50</td>\n",
       "      <td>2370</td>\n",
       "      <td>41338</td>\n",
       "      <td>2.0</td>\n",
       "      <td>0</td>\n",
       "      <td>0</td>\n",
       "      <td>...</td>\n",
       "      <td>0</td>\n",
       "      <td>98077</td>\n",
       "      <td>47.7379</td>\n",
       "      <td>-122.052</td>\n",
       "      <td>2340</td>\n",
       "      <td>46661</td>\n",
       "      <td>16</td>\n",
       "      <td>10.00</td>\n",
       "      <td>7.770645</td>\n",
       "      <td>-74.3141</td>\n",
       "    </tr>\n",
       "    <tr>\n",
       "      <th>4638</th>\n",
       "      <td>1023079147</td>\n",
       "      <td>20140820T000000</td>\n",
       "      <td>652500.0</td>\n",
       "      <td>4</td>\n",
       "      <td>2.25</td>\n",
       "      <td>2220</td>\n",
       "      <td>130244</td>\n",
       "      <td>2.0</td>\n",
       "      <td>0</td>\n",
       "      <td>0</td>\n",
       "      <td>...</td>\n",
       "      <td>0</td>\n",
       "      <td>98027</td>\n",
       "      <td>47.4989</td>\n",
       "      <td>-121.900</td>\n",
       "      <td>2680</td>\n",
       "      <td>130680</td>\n",
       "      <td>16</td>\n",
       "      <td>9.00</td>\n",
       "      <td>7.705262</td>\n",
       "      <td>-74.4011</td>\n",
       "    </tr>\n",
       "    <tr>\n",
       "      <th>15437</th>\n",
       "      <td>4094800380</td>\n",
       "      <td>20150427T000000</td>\n",
       "      <td>990000.0</td>\n",
       "      <td>3</td>\n",
       "      <td>2.25</td>\n",
       "      <td>2630</td>\n",
       "      <td>12899</td>\n",
       "      <td>2.0</td>\n",
       "      <td>0</td>\n",
       "      <td>0</td>\n",
       "      <td>...</td>\n",
       "      <td>0</td>\n",
       "      <td>98040</td>\n",
       "      <td>47.5479</td>\n",
       "      <td>-122.233</td>\n",
       "      <td>3140</td>\n",
       "      <td>15320</td>\n",
       "      <td>9</td>\n",
       "      <td>6.75</td>\n",
       "      <td>7.874739</td>\n",
       "      <td>-74.6851</td>\n",
       "    </tr>\n",
       "    <tr>\n",
       "      <th>19223</th>\n",
       "      <td>9407001830</td>\n",
       "      <td>20140717T000000</td>\n",
       "      <td>338000.0</td>\n",
       "      <td>5</td>\n",
       "      <td>2.00</td>\n",
       "      <td>1860</td>\n",
       "      <td>9000</td>\n",
       "      <td>2.0</td>\n",
       "      <td>0</td>\n",
       "      <td>0</td>\n",
       "      <td>...</td>\n",
       "      <td>0</td>\n",
       "      <td>98045</td>\n",
       "      <td>47.4484</td>\n",
       "      <td>-121.772</td>\n",
       "      <td>1390</td>\n",
       "      <td>9752</td>\n",
       "      <td>25</td>\n",
       "      <td>10.00</td>\n",
       "      <td>7.528332</td>\n",
       "      <td>-74.3236</td>\n",
       "    </tr>\n",
       "    <tr>\n",
       "      <th>16532</th>\n",
       "      <td>8910500471</td>\n",
       "      <td>20150217T000000</td>\n",
       "      <td>407000.0</td>\n",
       "      <td>3</td>\n",
       "      <td>1.00</td>\n",
       "      <td>1140</td>\n",
       "      <td>7785</td>\n",
       "      <td>1.0</td>\n",
       "      <td>0</td>\n",
       "      <td>0</td>\n",
       "      <td>...</td>\n",
       "      <td>0</td>\n",
       "      <td>98177</td>\n",
       "      <td>47.7090</td>\n",
       "      <td>-122.363</td>\n",
       "      <td>2080</td>\n",
       "      <td>10620</td>\n",
       "      <td>9</td>\n",
       "      <td>3.00</td>\n",
       "      <td>7.038784</td>\n",
       "      <td>-74.6540</td>\n",
       "    </tr>\n",
       "  </tbody>\n",
       "</table>\n",
       "<p>5 rows × 25 columns</p>\n",
       "</div>"
      ],
      "text/plain": [
       "               id             date     price  bedrooms  bathrooms  \\\n",
       "10180  5201000030  20150323T000000  597000.0         4       2.50   \n",
       "4638   1023079147  20140820T000000  652500.0         4       2.25   \n",
       "15437  4094800380  20150427T000000  990000.0         3       2.25   \n",
       "19223  9407001830  20140717T000000  338000.0         5       2.00   \n",
       "16532  8910500471  20150217T000000  407000.0         3       1.00   \n",
       "\n",
       "       sqft_living  sqft_lot  floors  waterfront  view      ...        \\\n",
       "10180         2370     41338     2.0           0     0      ...         \n",
       "4638          2220    130244     2.0           0     0      ...         \n",
       "15437         2630     12899     2.0           0     0      ...         \n",
       "19223         1860      9000     2.0           0     0      ...         \n",
       "16532         1140      7785     1.0           0     0      ...         \n",
       "\n",
       "       yr_renovated  zipcode      lat     long  sqft_living15  sqft_lot15  \\\n",
       "10180             0    98077  47.7379 -122.052           2340       46661   \n",
       "4638              0    98027  47.4989 -121.900           2680      130680   \n",
       "15437             0    98040  47.5479 -122.233           3140       15320   \n",
       "19223             0    98045  47.4484 -121.772           1390        9752   \n",
       "16532             0    98177  47.7090 -122.363           2080       10620   \n",
       "\n",
       "       bedrooms_squared  bed_bath_rooms  log_sqft_living  lat_plus_long  \n",
       "10180                16           10.00         7.770645       -74.3141  \n",
       "4638                 16            9.00         7.705262       -74.4011  \n",
       "15437                 9            6.75         7.874739       -74.6851  \n",
       "19223                25           10.00         7.528332       -74.3236  \n",
       "16532                 9            3.00         7.038784       -74.6540  \n",
       "\n",
       "[5 rows x 25 columns]"
      ]
     },
     "execution_count": 14,
     "metadata": {},
     "output_type": "execute_result"
    }
   ],
   "source": [
    "model_1_features = ['sqft_living', 'bedrooms', 'bathrooms', 'lat', 'long']\n",
    "model_2_features = model_1_features + ['bed_bath_rooms']\n",
    "model_3_features = model_2_features + ['bedrooms_squared', 'log_sqft_living', 'lat_plus_long']\n",
    "\n",
    "train_data.head(5)"
   ]
  },
  {
   "cell_type": "markdown",
   "metadata": {},
   "source": [
    "Now that you have the features, learn the weights for the three different models for predicting target = 'price' using graphlab.linear_regression.create() and look at the value of the weights/coefficients:"
   ]
  },
  {
   "cell_type": "code",
   "execution_count": 15,
   "metadata": {},
   "outputs": [
    {
     "name": "stdout",
     "output_type": "stream",
     "text": [
      "LinearRegression Model score 0.599485987041\n",
      "LinearRegression Model score 0.604786145541\n",
      "LinearRegression Model score 0.622846030002\n"
     ]
    }
   ],
   "source": [
    "# Learn the three models: (don't forget to set validation_set = None)\n",
    "LinearRegression_model_1_features = linear_model.LinearRegression()\n",
    "LinearRegression_model_1_features.fit(train_data[model_1_features], train_data['price'].to_frame())\n",
    "Model_1_features_Score = LinearRegression_model_1_features.score(test_data[model_1_features],test_data['price'].to_frame())\n",
    "print('LinearRegression Model score', Model_1_features_Score)\n",
    "\n",
    "LinearRegression_model_2_features = linear_model.LinearRegression()\n",
    "LinearRegression_model_2_features.fit(train_data[model_2_features], train_data['price'].to_frame())\n",
    "Model_2_features_Score = LinearRegression_model_2_features.score(test_data[model_2_features],test_data['price'].to_frame())\n",
    "print('LinearRegression Model score', Model_2_features_Score)\n",
    "\n",
    "LinearRegression_model_3_features = linear_model.LinearRegression()\n",
    "LinearRegression_model_3_features.fit(train_data[model_3_features], train_data['price'].to_frame())\n",
    "Model_3_features_Score = LinearRegression_model_3_features.score(test_data[model_3_features],test_data['price'].to_frame())\n",
    "print('LinearRegression Model score', Model_3_features_Score)"
   ]
  },
  {
   "cell_type": "code",
   "execution_count": 17,
   "metadata": {},
   "outputs": [
    {
     "name": "stdout",
     "output_type": "stream",
     "text": [
      "Features 1 weight [[  3.09747191e+02  -5.31194178e+04   1.31209917e+04   6.58383490e+05\n",
      "   -3.13743466e+05]]\n",
      "Features 2 weight [[  3.04172400e+02  -1.03627991e+05  -7.08178246e+04   6.55429996e+05\n",
      "   -2.98508036e+05   2.44852805e+04]]\n",
      "Features 3 weight [[  5.29189632e+02  -1.67082344e+03   9.49643027e+04   5.32038757e+05\n",
      "   -4.06634867e+05  -1.70988079e+04   8.08139522e+02  -5.53905819e+05\n",
      "    1.25403891e+05]]\n"
     ]
    }
   ],
   "source": [
    "# Examine/extract each model's coefficients:\n",
    "LinearRegression_model_1_features_weight = LinearRegression_model_1_features.coef_\n",
    "LinearRegression_model_2_features_weight = LinearRegression_model_2_features.coef_\n",
    "LinearRegression_model_3_features_weight = LinearRegression_model_3_features.coef_\n",
    "\n",
    "print ('Features 1 weight', LinearRegression_model_1_features_weight)\n",
    "print ('Features 2 weight', LinearRegression_model_2_features_weight)\n",
    "print ('Features 3 weight', LinearRegression_model_3_features_weight)"
   ]
  },
  {
   "cell_type": "markdown",
   "metadata": {},
   "source": [
    "**Quiz Question: What is the sign (positive or negative) for the coefficient/weight for 'bathrooms' in model 1?**\n",
    "\n",
    "** positive + **\n",
    "\n",
    "**Quiz Question: What is the sign (positive or negative) for the coefficient/weight for 'bathrooms' in model 2?**\n",
    "\n",
    "** negative - **\n",
    "\n",
    "Think about what this means."
   ]
  },
  {
   "cell_type": "markdown",
   "metadata": {},
   "source": [
    "# Comparing multiple models\n",
    "\n",
    "Now that you've learned three models and extracted the model weights we want to evaluate which model is best."
   ]
  },
  {
   "cell_type": "markdown",
   "metadata": {},
   "source": [
    "First use your functions from earlier to compute the RSS on TRAINING Data for each of the three models."
   ]
  },
  {
   "cell_type": "code",
   "execution_count": 23,
   "metadata": {},
   "outputs": [
    {
     "name": "stdout",
     "output_type": "stream",
     "text": [
      "Features 1 training data RSS 0.587500050874\n",
      "Features 2 training data RSS 0.591086084017\n",
      "Features 3 training data RSS 0.61434312109\n"
     ]
    }
   ],
   "source": [
    "# Compute the RSS on TRAINING data for each of the three models and record the values:\n",
    "LinearRegression_model_1_features_RSS = LinearRegression_model_1_features.score(train_data[model_1_features], train_data['price'].to_frame())\n",
    "LinearRegression_model_2_features_RSS = LinearRegression_model_2_features.score(train_data[model_2_features], train_data['price'].to_frame())\n",
    "LinearRegression_model_3_features_RSS = LinearRegression_model_3_features.score(train_data[model_3_features], train_data['price'].to_frame())\n",
    "\n",
    "print ('Features 1 training data RSS', LinearRegression_model_1_features_RSS)\n",
    "print ('Features 2 training data RSS', LinearRegression_model_2_features_RSS)\n",
    "print ('Features 3 training data RSS', LinearRegression_model_3_features_RSS)"
   ]
  },
  {
   "cell_type": "markdown",
   "metadata": {},
   "source": [
    "**Quiz Question: Which model (1, 2 or 3) has lowest RSS on TRAINING Data?** Features 3 \n",
    "\n",
    "Is this what you expected? yes"
   ]
  },
  {
   "cell_type": "markdown",
   "metadata": {},
   "source": [
    "Now compute the RSS on on TEST data for each of the three models."
   ]
  },
  {
   "cell_type": "code",
   "execution_count": 20,
   "metadata": {
    "collapsed": true
   },
   "outputs": [],
   "source": [
    "def get_residual_sum_of_squares(input_feature, output, intercept, slope):\n",
    "    # First get the predictions\n",
    "    predicted_values = []\n",
    "    for test_feature_data  in test_feature:\n",
    "        predicted_values.append((test_slope*test_feature_data).sum() + test_intercept)\n",
    "    # then compute the residuals (since we are squaring it doesn't matter which order you subtract)\n",
    "    residuals = predicted_values - output\n",
    "    # square the residuals and add them up\n",
    "    RSS = str((residuals * residuals).sum())\n",
    "    return(RSS)"
   ]
  },
  {
   "cell_type": "code",
   "execution_count": 22,
   "metadata": {
    "scrolled": true
   },
   "outputs": [
    {
     "name": "stdout",
     "output_type": "stream",
     "text": [
      "Features 1 test data RSS 5.64915460336e+19\n",
      "Features 2 test data RSS 5.66191558288e+19\n",
      "Features 3 test data RSS 5.74467627191e+19\n"
     ]
    }
   ],
   "source": [
    "# Compute the RSS on TESTING data for each of the three models and record the values:\n",
    "test_feature = train_data[model_1_features].as_matrix()\n",
    "test_output = train_data['price'].as_matrix()\n",
    "test_slope = LinearRegression_model_1_features.coef_\n",
    "test_intercept = LinearRegression_model_1_features.intercept_\n",
    "model_1_features_test_RSS = get_residual_sum_of_squares(test_feature, test_output, test_intercept, test_slope)\n",
    "\n",
    "test_feature = train_data[model_2_features].as_matrix()\n",
    "test_slope = LinearRegression_model_2_features.coef_\n",
    "test_intercept = LinearRegression_model_2_features.intercept_\n",
    "model_2_features_test_RSS = get_residual_sum_of_squares(test_feature, test_output, test_intercept, test_slope)\n",
    "\n",
    "test_feature = train_data[model_3_features].as_matrix()\n",
    "test_slope = LinearRegression_model_3_features.coef_\n",
    "test_intercept = LinearRegression_model_3_features.intercept_\n",
    "model_3_features_test_RSS = get_residual_sum_of_squares(test_feature, test_output, test_intercept, test_slope)\n",
    "\n",
    "\n",
    "print ('Features 1 test data RSS', model_1_features_test_RSS)\n",
    "print ('Features 2 test data RSS', model_2_features_test_RSS)\n",
    "print ('Features 3 test data RSS', model_3_features_test_RSS)"
   ]
  },
  {
   "cell_type": "markdown",
   "metadata": {},
   "source": [
    "**Quiz Question: Which model (1, 2 or 3) has lowest RSS on TESTING Data?** Is this what you expected? Think about the features that were added to each model from the previous."
   ]
  },
  {
   "cell_type": "markdown",
   "metadata": {
    "collapsed": true
   },
   "source": [
    "Features 1 , No, not my expection"
   ]
  },
  {
   "cell_type": "code",
   "execution_count": null,
   "metadata": {
    "collapsed": true
   },
   "outputs": [],
   "source": []
  }
 ],
 "metadata": {
  "kernelspec": {
   "display_name": "Python 3",
   "language": "python",
   "name": "python3"
  },
  "language_info": {
   "codemirror_mode": {
    "name": "ipython",
    "version": 3
   },
   "file_extension": ".py",
   "mimetype": "text/x-python",
   "name": "python",
   "nbconvert_exporter": "python",
   "pygments_lexer": "ipython3",
   "version": "3.6.1"
  }
 },
 "nbformat": 4,
 "nbformat_minor": 1
}
