{
 "cells": [
  {
   "cell_type": "markdown",
   "metadata": {},
   "source": [
    "## 3. Quiz: Scenarios for MapReduce"
   ]
  },
  {
   "cell_type": "markdown",
   "metadata": {},
   "source": [
    "![title](img/Quiz 3 Scenarios for MapReduce Ans.png)"
   ]
  },
  {
   "cell_type": "markdown",
   "metadata": {
    "collapsed": true
   },
   "source": [
    "## 11. Quiz: Mapper and Reducer with Aadhaar Data"
   ]
  },
  {
   "cell_type": "code",
   "execution_count": 29,
   "metadata": {},
   "outputs": [
    {
     "ename": "SyntaxError",
     "evalue": "invalid syntax (<ipython-input-29-4f75ad09d370>, line 84)",
     "output_type": "error",
     "traceback": [
      "\u001b[0;36m  File \u001b[0;32m\"<ipython-input-29-4f75ad09d370>\"\u001b[0;36m, line \u001b[0;32m84\u001b[0m\n\u001b[0;31m    mapper()\u001b[0m\n\u001b[0m         ^\u001b[0m\n\u001b[0;31mSyntaxError\u001b[0m\u001b[0;31m:\u001b[0m invalid syntax\n"
     ]
    }
   ],
   "source": [
    "import logging\n",
    "import sys\n",
    "import string\n",
    "from collections import defaultdict\n",
    "# from util import mapper_logfile\n",
    "# logging.basicConfig(filename=mapper_logfile, format='%(message)s',\n",
    "#                     level=logging.INFO, filemode='w')\n",
    "\n",
    "def mapper():\n",
    "\n",
    "    #Also make sure to fill out the reducer code before clicking \"Test Run\" or \"Submit\".\n",
    "\n",
    "    #Each line will be a comma-separated list of values. The\n",
    "    #header row WILL be included. Tokenize each row using the \n",
    "    #commas, and emit (i.e. print) a key-value pair containing the \n",
    "    #district (not state) and Aadhaar generated, separated by a tab. \n",
    "    #Skip rows without the correct number of tokens and also skip \n",
    "    #the header row.\n",
    "\n",
    "    #You can see a copy of the the input Aadhaar data\n",
    "    #in the link below:\n",
    "    #https://www.dropbox.com/s/vn8t4uulbsfmalo/aadhaar_data.csv\n",
    "\n",
    "    #Since you are printing the output of your program, printing a debug \n",
    "    #statement will interfere with the operation of the grader. Instead, \n",
    "    #use the logging module, which we've configured to log to a file printed \n",
    "    #when you click \"Test Run\". For example:\n",
    "    #logging.info(\"My debugging message\")\n",
    "    #\n",
    "    #Note that, unlike print, logging.info will take only a single argument.\n",
    "    #So logging.info(\"my message\") will work, but logging.info(\"my\",\"message\") will not.\n",
    "\n",
    "    for line in sys.stdin:\n",
    "        #your code here\n",
    "        data = line.strip.split(\",\")\n",
    "        if len(data) != 12 or data[0] == \"Registrar\":\n",
    "            continue\n",
    "        print(\"{0}\\t{1}\", format(data[3],data[8]))\n",
    "\n",
    "def reducer():\n",
    "    \n",
    "    #Also make sure to fill out the mapper code before clicking \"Test Run\" or \"Submit\".\n",
    "\n",
    "    #Each line will be a key-value pair separated by a tab character.\n",
    "    #Print out each key once, along with the total number of Aadhaar \n",
    "    #generated, separated by a tab. Make sure each key-value pair is \n",
    "    #formatted correctly! Here's a sample final key-value pair: 'Gujarat\\t5.0'\n",
    "\n",
    "    #Since you are printing the output of your program, printing a debug \n",
    "    #statement will interfere with the operation of the grader. Instead, \n",
    "    #use the logging module, which we've configured to log to a file printed \n",
    "    #when you click \"Test Run\". For example:\n",
    "    #logging.info(\"My debugging message\")\n",
    "    #Note that, unlike print, logging.info will take only a single argument.\n",
    "    #So logging.info(\"my message\") will work, but logging.info(\"my\",\"message\") will not.\n",
    "        \n",
    "    old_district = None\n",
    "    count = 0\n",
    "    for line in sys.stdin:\n",
    "        data_mapped = line.strip().split('\\t')\n",
    "        if len(data_mapped) != 2:\n",
    "            # Something has gone wrong. Skip this line.\n",
    "            continue\n",
    "        \n",
    "        # same district\n",
    "        if old_district and data_mapped[0] == old_district:\n",
    "            count += float(data_mapped[1])\n",
    "            \n",
    "        # new district\n",
    "        else:\n",
    "            # not the first district\n",
    "            if old_district:\n",
    "                print('{0}\\t{1}',format(old_district, count))\n",
    "                \n",
    "            old_district = data_mapped[0]\n",
    "            count = float(data_mapped[1])\n",
    "            \n",
    "    # print the last district\n",
    "    print('{0}\\t{1}', format(old_district, str(count))\n",
    "    \n",
    "#     return None\n",
    "\n",
    "mapper()\n",
    "reducer()"
   ]
  }
 ],
 "metadata": {
  "kernelspec": {
   "display_name": "Python (env-py36)",
   "language": "python",
   "name": "py36"
  },
  "language_info": {
   "codemirror_mode": {
    "name": "ipython",
    "version": 3
   },
   "file_extension": ".py",
   "mimetype": "text/x-python",
   "name": "python",
   "nbconvert_exporter": "python",
   "pygments_lexer": "ipython3",
   "version": "3.6.1"
  }
 },
 "nbformat": 4,
 "nbformat_minor": 2
}
