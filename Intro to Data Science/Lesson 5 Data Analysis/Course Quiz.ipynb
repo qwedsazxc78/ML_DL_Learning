{
 "cells": [
  {
   "cell_type": "markdown",
   "metadata": {},
   "source": [
    "## Quiz : Calculating t and v"
   ]
  },
  {
   "cell_type": "markdown",
   "metadata": {},
   "source": [
    "![title](img/Quiz 1 Calculating t and v.png )"
   ]
  },
  {
   "cell_type": "code",
   "execution_count": 7,
   "metadata": {
    "collapsed": true
   },
   "outputs": [],
   "source": [
    "import math"
   ]
  },
  {
   "cell_type": "code",
   "execution_count": 12,
   "metadata": {},
   "outputs": [
    {
     "name": "stdout",
     "output_type": "stream",
     "text": [
      "Two sample t-test: t =  -0.2796823595120407 , v =  307.19879975167277\n"
     ]
    }
   ],
   "source": [
    "N1 = 150\n",
    "N2 = 165\n",
    "u1 = .299\n",
    "u2 = .307\n",
    "varance1 = .05\n",
    "varance2 = .08 \n",
    "v1 = N1 - 1\n",
    "v2 = N2 - 1\n",
    "\n",
    "t = (u1 - u2)/ math.sqrt(varance1/N1 + varance2/N2)\n",
    "v = (varance1/N1 + varance2/N2)**2 / ((varance1/N1)**2/v1 + (varance2/N2)**2/v2)\n",
    "print('Two sample t-test: t = ', t,', v = ',v)"
   ]
  },
  {
   "cell_type": "markdown",
   "metadata": {},
   "source": [
    "![title](img/Quiz 1 t formular.png )"
   ]
  },
  {
   "cell_type": "markdown",
   "metadata": {},
   "source": [
    "![title](img/Quiz 1 v formular.png )"
   ]
  },
  {
   "cell_type": "markdown",
   "metadata": {},
   "source": [
    "## Quiz : Welch's t-Test in Python"
   ]
  },
  {
   "cell_type": "code",
   "execution_count": 15,
   "metadata": {
    "collapsed": true
   },
   "outputs": [],
   "source": [
    "import numpy as np\n",
    "import scipy.stats as sp_stats\n",
    "import math"
   ]
  },
  {
   "cell_type": "code",
   "execution_count": 20,
   "metadata": {
    "collapsed": true
   },
   "outputs": [],
   "source": [
    "# sp_stats.ttest_ind(a, b, equal_var=False)"
   ]
  },
  {
   "cell_type": "markdown",
   "metadata": {},
   "source": [
    "![title](img/Quiz 2 Welch's t-Test Prob.png)"
   ]
  },
  {
   "cell_type": "markdown",
   "metadata": {},
   "source": [
    "![title](img/Quiz 2 Welch's t-Test Ans.png )"
   ]
  },
  {
   "cell_type": "code",
   "execution_count": 37,
   "metadata": {},
   "outputs": [
    {
     "name": "stdout",
     "output_type": "stream",
     "text": [
      "(False, Ttest_indResult(statistic=9.9357022262420944, pvalue=3.8102742258887383e-23))\n"
     ]
    }
   ],
   "source": [
    "import numpy\n",
    "import scipy.stats as sp_stats\n",
    "import pandas as pd\n",
    "\n",
    "def compare_averages(filename):\n",
    "    \"\"\"\n",
    "    Performs a t-test on two sets of baseball data (left-handed and right-handed hitters).\n",
    "\n",
    "    You will be given a csv file that has three columns.  A player's\n",
    "    name, handedness (L for lefthanded or R for righthanded) and their\n",
    "    career batting average (called 'avg'). You can look at the csv\n",
    "    file by downloading the baseball_stats file from Downloadables below. \n",
    "    \n",
    "    Write a function that will read that the csv file into a pandas data frame,\n",
    "    and run Welch's t-test on the two cohorts defined by handedness.\n",
    "    \n",
    "    One cohort should be a data frame of right-handed batters. And the other\n",
    "    cohort should be a data frame of left-handed batters.\n",
    "    \n",
    "    We have included the scipy.stats library to help you write\n",
    "    or implement Welch's t-test:\n",
    "    http://docs.scipy.org/doc/scipy/reference/stats.html\n",
    "    \n",
    "    With a significance level of 95%, if there is no difference\n",
    "    between the two cohorts, return a tuple consisting of\n",
    "    True, and then the tuple returned by scipy.stats.ttest.  \n",
    "    \n",
    "    If there is a difference, return a tuple consisting of\n",
    "    False, and then the tuple returned by scipy.stats.ttest.\n",
    "    \n",
    "    For example, the tuple that you return may look like:\n",
    "    (True, (9.93570222, 0.000023))\n",
    "    \"\"\"\n",
    "    fields = ['name','handedness','avg'] \n",
    "    Baseballstat = pd.read_csv(filename, usecols = fields)\n",
    "    Rhand = Baseballstat[Baseballstat['handedness'] == 'R']\n",
    "    Lhand = Baseballstat[Baseballstat['handedness'] == 'L']\n",
    "    # print('Rhand sharp: ', Rhand.shape)\n",
    "    # print('Lhand sharp: ', Lhand.shape) \n",
    "\n",
    "    result = sp_stats.ttest_ind(Lhand['avg'], Rhand['avg'], equal_var = False)\n",
    "    # print(result)\n",
    "    \n",
    "    \"\"\"\n",
    "    if p <= 0.05 , reject null hypothesis -> u0 != u1\n",
    "    if P > 0.05  , don't reject null hypothesis -> u0 = u1\n",
    "    \"\"\"\n",
    "    if result[1] <= .05:\n",
    "        return (False,result)\n",
    "    else:\n",
    "        return (True,result)\n",
    "\n",
    "compare_result = compare_averages('baseball_stats.csv')\n",
    "print(compare_result)"
   ]
  },
  {
   "cell_type": "markdown",
   "metadata": {},
   "source": [
    "## Quiz : Gradient Descent in Python"
   ]
  },
  {
   "cell_type": "code",
   "execution_count": null,
   "metadata": {
    "collapsed": true
   },
   "outputs": [],
   "source": []
  },
  {
   "cell_type": "markdown",
   "metadata": {},
   "source": [
    "## Quiz : Calculating t and v"
   ]
  },
  {
   "cell_type": "code",
   "execution_count": null,
   "metadata": {
    "collapsed": true
   },
   "outputs": [],
   "source": []
  },
  {
   "cell_type": "markdown",
   "metadata": {},
   "source": [
    "## Quiz : Calculating t and v"
   ]
  },
  {
   "cell_type": "code",
   "execution_count": null,
   "metadata": {
    "collapsed": true
   },
   "outputs": [],
   "source": []
  }
 ],
 "metadata": {
  "kernelspec": {
   "display_name": "Python (env-py36)",
   "language": "python",
   "name": "py36"
  },
  "language_info": {
   "codemirror_mode": {
    "name": "ipython",
    "version": 3
   },
   "file_extension": ".py",
   "mimetype": "text/x-python",
   "name": "python",
   "nbconvert_exporter": "python",
   "pygments_lexer": "ipython3",
   "version": "3.6.1"
  }
 },
 "nbformat": 4,
 "nbformat_minor": 2
}
