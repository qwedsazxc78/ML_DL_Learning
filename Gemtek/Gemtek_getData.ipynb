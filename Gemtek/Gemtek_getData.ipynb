{
 "cells": [
  {
   "cell_type": "code",
   "execution_count": 1,
   "metadata": {},
   "outputs": [
    {
     "ename": "SyntaxError",
     "evalue": "Missing parentheses in call to 'print' (<ipython-input-1-6d8a1a57867e>, line 23)",
     "output_type": "error",
     "traceback": [
      "\u001b[0;36m  File \u001b[0;32m\"<ipython-input-1-6d8a1a57867e>\"\u001b[0;36m, line \u001b[0;32m23\u001b[0m\n\u001b[0;31m    print key + \" : \" + jData[key]\u001b[0m\n\u001b[0m            ^\u001b[0m\n\u001b[0;31mSyntaxError\u001b[0m\u001b[0;31m:\u001b[0m Missing parentheses in call to 'print'\n"
     ]
    }
   ],
   "source": [
    "import requests\n",
    "from requests.auth import HTTPDigestAuth\n",
    "import json\n",
    "\n",
    "# Replace with the correct URL\n",
    "url = \"http://api_url\"\n",
    "\n",
    "# It is a good practice not to hardcode the credentials. So ask the user to enter credentials at runtime\n",
    "myResponse = requests.get(url,auth=HTTPDigestAuth(raw_input(\"username: \"), raw_input(\"Password: \")), verify=True)\n",
    "#print (myResponse.status_code)\n",
    "\n",
    "# For successful API call, response code will be 200 (OK)\n",
    "if(myResponse.ok):\n",
    "\n",
    "    # Loading the response data into a dict variable\n",
    "    # json.loads takes in only binary or string variables so using content to fetch binary content\n",
    "    # Loads (Load String) takes a Json file and converts into python data structure (dict or list, depending on JSON)\n",
    "    jData = json.loads(myResponse.content)\n",
    "\n",
    "    print(\"The response contains {0} properties\".format(len(jData)))\n",
    "    print(\"\\n\")\n",
    "    for key in jData:\n",
    "        print key + \" : \" + jData[key]\n",
    "else:\n",
    "  # If response code is not ok (200), print the resulting http error code with description\n",
    "    myResponse.raise_for_status()"
   ]
  },
  {
   "cell_type": "code",
   "execution_count": 21,
   "metadata": {},
   "outputs": [
    {
     "name": "stdout",
     "output_type": "stream",
     "text": [
      "------------- RESTful API parameter --------------\n",
      "api_key:  PARK-eMPpua7y17\n",
      "api_secret:  2PHIAGI5qv5IhMGZ56iy\n",
      "unix_time:  1500884351\n",
      "api_token:  61245707ff18911c6c84fe060dc3dd7736a636b7\n",
      "--------------------------------------------------\n",
      "\n",
      "Request URL:  https://s5.securepilot.com/parking/v1/query_record  Status: OK\n",
      "['AV1zjj-Q-R03vmj0KhED', 'parking_record_index_v2', '2017-07-24T07:44:48.526Z', '2017-07-24T07:43:42.000Z', 'fc000105600bb00023', 35, 'yilan', '宜蘭市中山路二段', 'try', '192.168.0.225']\n",
      "['AV1zjj-L-R03vmj0KhEC', 'parking_record_index_v2', '2017-07-24T07:44:48.522Z', '2017-07-24T07:44:48.000Z', 'fc000105600bb00023', 35, 'yilan', '宜蘭市中山路二段', 'try', '10.5.180.16']\n",
      "['AV1zjj-B-R03vmj0KhEB', 'parking_record_index_v2', '2017-07-24T07:44:48.512Z', '2017-07-24T07:44:48.000Z', 'fc000105600bb00023', 35, 'yilan', '宜蘭市中山路二段', 'try', '192.168.0.3']\n",
      "['AV1zjj9q-R03vmj0KhEA', 'parking_record_index_v2', '2017-07-24T07:44:48.488Z', '2017-07-24T07:44:48.000Z', 'fc000105600bb00023', 35, 'yilan', '宜蘭市中山路二段', 'try', '10.5.161.125']\n",
      "['AV1zjjg1-R03vmj0KhD-', 'parking_record_index_v2', '2017-07-24T07:44:46.644Z', '2017-07-24T07:43:39.000Z', 'fc000105600bb00023', 35, 'yilan', '宜蘭市中山路二段', 'try', '192.168.0.225']\n",
      "['AV1zjjLt-R03vmj0KhD9', 'parking_record_index_v2', '2017-07-24T07:44:45.292Z', '2017-07-24T07:44:44.000Z', 'fc000105600bb00023', 35, 'yilan', '宜蘭市中山路二段', 'try', '192.168.0.3']\n",
      "['AV1zjjLA-R03vmj0KhD8', 'parking_record_index_v2', '2017-07-24T07:44:45.245Z', '2017-07-24T07:44:44.000Z', 'fc000105600bb00023', 35, 'yilan', '宜蘭市中山路二段', 'try', '10.5.180.16']\n",
      "['AV1ziJle-R03vmj0KhAf', 'parking_record_index_v2', '2017-07-24T07:38:38.301Z', '2017-07-24T07:37:32.000Z', 'fc000105600bc20022', 34, 'yilan', '宜蘭市中山路二段', '正文033', '192.168.0.225']\n",
      "['AV1ziJlI-R03vmj0KhAe', 'parking_record_index_v2', '2017-07-24T07:38:38.279Z', '2017-07-24T07:38:37.000Z', 'fc000105600bc20022', 34, 'yilan', '宜蘭市中山路二段', '正文033', '10.5.161.125']\n",
      "['AV1ziJk9-R03vmj0KhAd', 'parking_record_index_v2', '2017-07-24T07:38:38.266Z', '2017-07-24T07:38:37.000Z', 'fc000105600bc20022', 34, 'yilan', '宜蘭市中山路二段', '正文033', '10.5.180.16']\n"
     ]
    }
   ],
   "source": [
    "import requests\n",
    "import json\n",
    "import time\n",
    "import hashlib\n",
    "import pandas as pd\n",
    "\n",
    "URL = \"https://s5.securepilot.com/parking/v1/query_record\"\n",
    "api_key = \"PARK-eMPpua7y17\"\n",
    "api_secret = \"2PHIAGI5qv5IhMGZ56iy\"\n",
    "\n",
    "\n",
    "def getParkDataResponse(URL, api_key, api_secret):\n",
    "    current_unix_time = str(int(time.time()))\n",
    "    api_token = hashlib.sha1((api_secret + current_unix_time).encode('utf-8')).hexdigest()\n",
    "\n",
    "    print(\"------------- RESTful API parameter --------------\")\n",
    "    print(\"api_key: \", api_key)\n",
    "    print(\"api_secret: \", api_secret)\n",
    "    print(\"unix_time: \", current_unix_time)\n",
    "    print(\"api_token: \", api_token)\n",
    "    print(\"--------------------------------------------------\\n\")\n",
    "\n",
    "    payload = {'api_key': api_key, 'api_token': api_token, 'time': current_unix_time }\n",
    "    return requests.post(URL, data=payload)\n",
    "\n",
    "def getPraseTargetData(req):\n",
    "    prase_data = req.json()\n",
    "    prase_data = prase_data['value']['hits']\n",
    "\n",
    "    prase_data_from_json = []\n",
    "    # columes in data frame\n",
    "    prase_data_columes = ['_id', '_index', 'create_at_time','recv_at_time','data','temperature',\n",
    "                          'company','road','slot_num','gwip']\n",
    "    # get data by list\n",
    "    for each in prase_data:\n",
    "        print([ each['_id'], each['_index'], each['_source']['create_at'], each['_source']['recv'], \n",
    "                each['_source']['data'], each['_source']['dataParse']['temperature'], \n",
    "                each['_source']['extra']['company'],  each['_source']['extra']['road'], each['_source']['extra']['slot_num'],\n",
    "                each['_source']['gwip']\n",
    "              ])\n",
    "        prase_data_from_json.append([\n",
    "                each['_id'], each['_index'], each['_source']['create_at'], each['_source']['recv'],\n",
    "                each['_source']['data'], each['_source']['dataParse']['temperature'], \n",
    "                each['_source']['extra']['company'],  each['_source']['extra']['road'], each['_source']['extra']['slot_num'],\n",
    "                each['_source']['gwip']\n",
    "        ])\n",
    "       \n",
    "    return pd.DataFrame(prase_data_from_json, columns=prase_data_columes) \n",
    "\n",
    "\n",
    "# main funciton\n",
    "req = getParkDataResponse(URL, api_key, api_secret)\n",
    "\n",
    "if(req.ok):\n",
    "    print(\"Request URL: \",req.url, \" Status: OK\")\n",
    "    df = getPraseTargetData(req)\n",
    "    df.to_csv(\"temp.csv\")\n",
    "else:\n",
    "     print(\"Status: FAIL \",req.status_code)\n",
    "    \n",
    "# #     print(req.text)\n",
    "\n"
   ]
  },
  {
   "cell_type": "code",
   "execution_count": null,
   "metadata": {},
   "outputs": [],
   "source": []
  },
  {
   "cell_type": "code",
   "execution_count": null,
   "metadata": {
    "collapsed": true
   },
   "outputs": [],
   "source": []
  },
  {
   "cell_type": "code",
   "execution_count": null,
   "metadata": {
    "collapsed": true
   },
   "outputs": [],
   "source": []
  }
 ],
 "metadata": {
  "kernelspec": {
   "display_name": "Python (myenv-py36)",
   "language": "python",
   "name": "py36"
  },
  "language_info": {
   "codemirror_mode": {
    "name": "ipython",
    "version": 3
   },
   "file_extension": ".py",
   "mimetype": "text/x-python",
   "name": "python",
   "nbconvert_exporter": "python",
   "pygments_lexer": "ipython3",
   "version": "3.6.1"
  }
 },
 "nbformat": 4,
 "nbformat_minor": 2
}
