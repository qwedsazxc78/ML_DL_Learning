{
 "cells": [
  {
   "cell_type": "code",
   "execution_count": 38,
   "metadata": {},
   "outputs": [
    {
     "data": {
      "text/plain": [
       "(-1.5, 1.5)"
      ]
     },
     "execution_count": 38,
     "metadata": {},
     "output_type": "execute_result"
    },
    {
     "data": {
      "image/png": "[encoded data removed]",
      "text/plain": [
       "<matplotlib.figure.Figure at 0x10ffd3400>"
      ]
     },
     "metadata": {},
     "output_type": "display_data"
    }
   ],
   "source": [
    "#!/usr/bin/env python\n",
    "# Implementation of algorithm from http://stackoverflow.com/a/22640362/6029703\n",
    "import numpy as np\n",
    "import pylab\n",
    "import matplotlib.pyplot as plt\n",
    "%matplotlib inline\n",
    "\n",
    "\n",
    "def thresholding_algo(y, lag, threshold, influence):\n",
    "    signals = np.zeros(len(y))\n",
    "    filteredY = np.array(y)\n",
    "    avgFilter = [0]*len(y)\n",
    "    stdFilter = [0]*len(y)\n",
    "    avgFilter[lag - 1] = np.mean(y[0:lag])\n",
    "    stdFilter[lag - 1] = np.std(y[0:lag])\n",
    "    \n",
    "    for i in range(lag, len(y) - 1):\n",
    "        if abs(y[i] - avgFilter[i-1]) > threshold * stdFilter [i-1]:\n",
    "            if y[i] > avgFilter[i-1]:\n",
    "                signals[i] = 1\n",
    "            else:\n",
    "                signals[i] = -1\n",
    "\n",
    "            filteredY[i] = influence * y[i] + (1 - influence) * filteredY[i-1]\n",
    "            avgFilter[i] = np.mean(filteredY[(i-lag):i])\n",
    "            stdFilter[i] = np.std(filteredY[(i-lag):i])\n",
    "        else:\n",
    "            signals[i] = 0\n",
    "            filteredY[i] = y[i]\n",
    "            avgFilter[i] = np.mean(filteredY[(i-lag):i])\n",
    "            stdFilter[i] = np.std(filteredY[(i-lag):i])\n",
    "\n",
    "    return dict(signals = np.asarray(signals),\n",
    "                avgFilter = np.asarray(avgFilter),\n",
    "                stdFilter = np.asarray(stdFilter))\n",
    "\n",
    "\n",
    "\n",
    "# Data\n",
    "y = np.array([1,1,1.1,1,0.9,1,1,1.1,1,0.9,1,1.1,1,1,0.9,1,1,1.1,1,1,1,1,1.1,0.9,1,1.1,1,1,0.9,\n",
    "       1,1.1,1,1,1.1,1,0.8,0.9,1,1.2,0.9,1,1,1.1,1.2,1,1.5,1,3,2,5,3,2,1,1,1,0.9,1,1,3,\n",
    "       2.6,4,3,3.2,2,1,1,0.8,4,4,2,2.5,1,1,1])\n",
    "\n",
    "# Settings: lag = 30, threshold = 5, influence = 0\n",
    "lag = 10\n",
    "threshold = 5\n",
    "influence = 0.01\n",
    "\n",
    "# Run algo with settings from above\n",
    "result = thresholding_algo(y, lag=lag, threshold=threshold, influence=influence)\n",
    "\n",
    "# Plot result\n",
    "plt.subplot(211)\n",
    "plt.grid()\n",
    "plt.plot(np.arange(1, len(y)+1), y)\n",
    "\n",
    "plt.plot(np.arange(1, len(y)+1),\n",
    "           result[\"avgFilter\"], color=\"cyan\", lw=2)\n",
    "\n",
    "plt.plot(np.arange(1, len(y)+1),\n",
    "           result[\"avgFilter\"] + threshold * result[\"stdFilter\"], color=\"green\", lw=2)\n",
    "\n",
    "plt.plot(np.arange(1, len(y)+1),\n",
    "           result[\"avgFilter\"] - threshold * result[\"stdFilter\"], color=\"green\", lw=2)\n",
    "\n",
    "plt.subplot(212)\n",
    "plt.grid()\n",
    "plt.step(np.arange(1, len(y)+1), result[\"signals\"], color=\"red\", lw=2)\n",
    "plt.ylim(-1.5, 1.5)"
   ]
  },
  {
   "cell_type": "code",
   "execution_count": 2,
   "metadata": {},
   "outputs": [
    {
     "data": {
      "text/plain": [
       "{'avgFilter': array([ 0.        ,  0.        ,  0.        ,  0.        ,  0.        ,\n",
       "         0.        ,  0.        ,  0.        ,  0.        ,  0.        ,\n",
       "         0.        ,  0.        ,  0.        ,  0.        ,  0.        ,\n",
       "         0.        ,  0.        ,  0.        ,  0.        ,  0.        ,\n",
       "         0.        ,  0.        ,  0.        ,  0.        ,  0.        ,\n",
       "         0.        ,  0.        ,  0.        ,  0.        ,  1.00333333,\n",
       "         1.00333333,  1.00666667,  1.00666667,  1.00333333,  1.00666667,\n",
       "         1.01      ,  1.00333333,  1.        ,  0.99666667,  1.00333333,\n",
       "         1.00333333,  1.00333333,  1.        ,  1.00333333,  1.01      ,\n",
       "         1.01333333,  1.01333333,  1.01333333,  1.01      ,  1.01      ,\n",
       "         1.01      ,  1.01      ,  1.01      ,  1.00666667,  1.01      ,\n",
       "         1.01      ,  1.00333333,  1.00333333,  1.00333333,  1.00666667,\n",
       "         1.00666667,  1.00333333,  1.00333333,  1.00333333,  1.        ,\n",
       "         1.        ,  1.00666667,  1.00333333,  0.99666667,  0.98333333,\n",
       "         0.98      ,  0.97333333,  0.97333333,  0.        ]),\n",
       " 'signals': array([ 0.,  0.,  0.,  0.,  0.,  0.,  0.,  0.,  0.,  0.,  0.,  0.,  0.,\n",
       "         0.,  0.,  0.,  0.,  0.,  0.,  0.,  0.,  0.,  0.,  0.,  0.,  0.,\n",
       "         0.,  0.,  0.,  0.,  0.,  0.,  0.,  0.,  0.,  0.,  0.,  0.,  0.,\n",
       "         0.,  0.,  0.,  0.,  0.,  0.,  1.,  0.,  1.,  1.,  1.,  1.,  1.,\n",
       "         0.,  0.,  0.,  0.,  0.,  0.,  1.,  1.,  1.,  1.,  1.,  1.,  0.,\n",
       "         0.,  0.,  1.,  1.,  1.,  1.,  0.,  0.,  0.]),\n",
       " 'stdFilter': array([ 0.        ,  0.        ,  0.        ,  0.        ,  0.        ,\n",
       "         0.        ,  0.        ,  0.        ,  0.        ,  0.        ,\n",
       "         0.        ,  0.        ,  0.        ,  0.        ,  0.        ,\n",
       "         0.        ,  0.        ,  0.        ,  0.        ,  0.        ,\n",
       "         0.        ,  0.        ,  0.        ,  0.        ,  0.        ,\n",
       "         0.        ,  0.        ,  0.        ,  0.        ,  0.06046119,\n",
       "         0.06046119,  0.06289321,  0.06289321,  0.06046119,  0.06289321,\n",
       "         0.05972158,  0.07063207,  0.07302967,  0.07063207,  0.0795124 ,\n",
       "         0.0795124 ,  0.0795124 ,  0.07745967,  0.0795124 ,  0.08698659,\n",
       "         0.08459052,  0.08459052,  0.08459052,  0.08306624,  0.08306624,\n",
       "         0.08306624,  0.08306624,  0.08306624,  0.08137704,  0.07895146,\n",
       "         0.07895146,  0.0795124 ,  0.0795124 ,  0.0795124 ,  0.07717225,\n",
       "         0.07717225,  0.07520343,  0.07520343,  0.07520343,  0.07302967,\n",
       "         0.07302967,  0.06289321,  0.07063207,  0.0795124 ,  0.07781745,\n",
       "         0.08326664,  0.08919392,  0.08919392,  0.        ])}"
      ]
     },
     "execution_count": 2,
     "metadata": {},
     "output_type": "execute_result"
    }
   ],
   "source": [
    "result"
   ]
  },
  {
   "cell_type": "code",
   "execution_count": null,
   "metadata": {
    "collapsed": true
   },
   "outputs": [],
   "source": []
  }
 ],
 "metadata": {
  "kernelspec": {
   "display_name": "Python (env-py36)",
   "language": "python",
   "name": "py36"
  },
  "language_info": {
   "codemirror_mode": {
    "name": "ipython",
    "version": 3
   },
   "file_extension": ".py",
   "mimetype": "text/x-python",
   "name": "python",
   "nbconvert_exporter": "python",
   "pygments_lexer": "ipython3",
   "version": "3.6.1"
  }
 },
 "nbformat": 4,
 "nbformat_minor": 2
}
