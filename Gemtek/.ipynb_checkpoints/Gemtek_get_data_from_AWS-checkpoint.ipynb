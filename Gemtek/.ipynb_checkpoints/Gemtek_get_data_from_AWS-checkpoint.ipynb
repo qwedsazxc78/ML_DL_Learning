{
 "cells": [
  {
   "cell_type": "markdown",
   "metadata": {},
   "source": [
    "## Main function test"
   ]
  },
  {
   "cell_type": "code",
   "execution_count": 69,
   "metadata": {},
   "outputs": [
    {
     "name": "stdout",
     "output_type": "stream",
     "text": [
      "------------- RESTful API parameter --------------\n",
      "mac:  101a0d01019a\n",
      "api_key:  PARK-eMPpua7y17\n",
      "api_secret:  2PHIAGI5qv5IhMGZ56iy\n",
      "unix_time:  1501139831\n",
      "api_token:  118dba38cfed8b07d99c576cb04b9ebefb70537c\n",
      "index:  0 limit:  2\n",
      "--------------------------------------------------\n",
      "\n",
      "------------- Payload Check ----------------------\n",
      "Payload: {'index': 0, 'limit': 2, 'mac': '101a0d01019a', 'api_key': 'PARK-eMPpua7y17', 'api_token': '7a5db58d81e51ce9cb5a7731d6c6b7fa1bb0144a', 'time': '1500874971'}\n",
      "--------------------------------------------------\n",
      "\n",
      "------------- Request Status ---------------------\n",
      "Request URL:  https://s5.securepilot.com/parking/v1/query_record , Status: OK \n",
      "--------------------------------------------------\n",
      "\n",
      "Data: ['AV197R2L-R03vmj0K7en', 'parking_record_index_v2', '2017-07-26T08:04:37.898Z', '2017-07-26T08:04:37.000Z', 'fcffff072d001100f4001c', 'yilan', '宜蘭市中山路二段', '111', '10.5.151.1', 45, 17, 244, 28]\n",
      "Data: ['AV197Q3r-R03vmj0K7ei', 'parking_record_index_v2', '2017-07-26T08:04:33.897Z', '2017-07-26T08:04:33.000Z', 'fcffff072f000b00f8001c', 'yilan', '宜蘭市中山路二段', '111', '10.5.151.1', 47, 11, 248, 28]\n"
     ]
    }
   ],
   "source": [
    "# #-*- coding=utf-8 -*-\n",
    "# import requests\n",
    "# import json\n",
    "# import time\n",
    "# import hashlib\n",
    "# import pandas as pd\n",
    "# from datetime import datetime\n",
    "\n",
    "# URL = \"https://s5.securepilot.com/parking/v1/query_record\"\n",
    "# api_key = \"PARK-eMPpua7y17\"\n",
    "# api_secret = \"2PHIAGI5qv5IhMGZ56iy\"\n",
    "\n",
    "# mac_gemtek = \"101a\"\n",
    "# mac_address1 = mac_gemtek + \"0d0100ab\"\n",
    "# mac_address_test = mac_gemtek + \"0d01019a\"\n",
    "\n",
    "# def byteToMagData(Low_byte, High_byte):\n",
    "#     return twos_comp(byte2SwapToNumber(Low_byte,High_byte), 16)\n",
    "\n",
    "# def byte2SwapToNumber(Low_byte, High_byte):\n",
    "#     return int(Low_byte.encode(), 16) + int(High_byte.encode(), 16) * 256\n",
    "\n",
    "# def twos_comp(val, bits):\n",
    "#     \"\"\"compute the 2's complement of int value val\"\"\"\n",
    "#     if (val & (1 << (bits - 1))) != 0: # if sign bit is set e.g., 8bit: 128-255\n",
    "#         val = val - (1 << bits)        # compute negative value\n",
    "#     return val \n",
    "\n",
    "# def getParkDataResponse(URL, api_key, api_secret, macID):\n",
    "#     current_unix_time = str(int(time.time()))\n",
    "#     api_token = hashlib.sha1((api_secret + current_unix_time).encode('utf-8')).hexdigest()\n",
    "#     index = 0\n",
    "#     limit = 2\n",
    "#     print(\"------------- RESTful API parameter --------------\")\n",
    "#     print(\"mac: \", macID)\n",
    "#     print(\"api_key: \", api_key)\n",
    "#     print(\"api_secret: \", api_secret)\n",
    "#     print(\"unix_time: \", current_unix_time)\n",
    "#     print(\"api_token: \", api_token)\n",
    "#     print(\"index: \", index, \"limit: \", limit)\n",
    "#     print(\"--------------------------------------------------\\n\")\n",
    "\n",
    "#     if len(macID) != 12:\n",
    "#         print(\"mac address is ilegal !!\")\n",
    "\n",
    "# #     payload = { \"index\" : 1, \"limit\" : 20, \"mac\" : macID, \n",
    "# #            \"api_key\" : api_key, \"api_token\" : api_token, \"time\" : current_unix_time\n",
    "# #            }\n",
    "# #     payload = {\n",
    "# #         'mac' : macID, \n",
    "# #         'api_key' : api_key, \n",
    "# #         'api_token' : api_token, \n",
    "# #         'time' : current_unix_time \n",
    "# #     }\n",
    "    \n",
    "#     payload = {\n",
    "#         \"index\": index,\n",
    "#         \"limit\" : limit,\n",
    "#         \"mac\" : \"101a0d01019a\",\n",
    "#         \"api_key\" : \"PARK-eMPpua7y17\",\n",
    "#         \"api_token\" : \"7a5db58d81e51ce9cb5a7731d6c6b7fa1bb0144a\",\n",
    "#         \"time\" : \"1500874971\"\n",
    "#     }\n",
    "#     print(\"------------- Payload Check ----------------------\")\n",
    "#     print(\"Payload:\", payload)\n",
    "#     print(\"--------------------------------------------------\\n\")\n",
    "\n",
    "# #     return requests.post(URL, data = payload)\n",
    "#     return requests.post(URL, json = payload)\n",
    "\n",
    "# def getPraseTargetData(req):\n",
    "#     prase_data = prase_data['value']['hits']\n",
    "    \n",
    "#     prase_data_from_json = []\n",
    "#     # columes in data frame\n",
    "#     prase_data_columes = ['_id', '_index', 'create_at_time','recv_at_time','data',\n",
    "#                           'company','road','slot_num','gwip', \n",
    "#                           \"magX\", \"magY\", \"magZ\", \"magT\"]\n",
    "#     # get data by list\n",
    "#     for each in prase_data:\n",
    "#         fullData = []\n",
    "#         pakcetHeader = \"fcffff07\"\n",
    "#         packetByte = []\n",
    "        \n",
    "#         fullData = [ each['_id'], each['_index'], \n",
    "#              each['_source']['create_at'], each['_source']['recv'],\n",
    "#              each['_source']['data'],\n",
    "#              each['_source']['extra']['company'],  each['_source']['extra']['road'], \n",
    "#              each['_source']['extra']['slot_num'], each['_source']['gwip']\n",
    "#         ]\n",
    "        \n",
    "#         # get high/ low byte\n",
    "#         packetMagData = each['_source']['data']\n",
    "        \n",
    "#         if packetMagData.find(pakcetHeader) != -1:\n",
    "#             index = [i for i in range(len(packetMagData)) if i % 2 == 0]   \n",
    "#             for each in index:\n",
    "#                 packetByte.append(packetMagData[each:each+2])\n",
    "# #             print(\"packet Byte: \", packetByte)\n",
    "#         else:\n",
    "#             print(\"packet header error\")\n",
    "\n",
    "#         magX = byteToMagData(packetByte[4], packetByte[5])\n",
    "#         magY = byteToMagData(packetByte[6], packetByte[7])\n",
    "#         magZ = byteToMagData(packetByte[8], packetByte[9])\n",
    "#         magT = byteToMagData(packetByte[10], '00')\n",
    "        \n",
    "#         fullData.extend([magX, magY, magZ, magT])\n",
    "#         print(\"Data:\", fullData)\n",
    "#         prase_data_from_json.append(fullData)\n",
    "       \n",
    "#     return pd.DataFrame(prase_data_from_json, columns=prase_data_columes) \n",
    "\n",
    "\n",
    "# # main funciton\n",
    "# req = getParkDataResponse(URL, api_key, api_secret, mac_address_test)\n",
    "# server_ReturnCode = req.json()['status']['code']\n",
    "# server_ReturnMsg = req.json()['status']['message']\n",
    "\n",
    "# if(req.ok and server_ReturnCode == 1200):\n",
    "#     print(\"------------- Request Status ---------------------\")\n",
    "#     print(\"Request URL: \",req.url, \", Status: OK \")\n",
    "#     print(\"--------------------------------------------------\\n\")\n",
    "    \n",
    "#     df = getPraseTargetData(req)\n",
    "#     NodeName = df['slot_num'][0]\n",
    "#     timeName = datetime.now().strftime('%Y%m%d_%H%M%S')\n",
    "#     csvFileName = timeName + '_' + NodeName + '.csv'\n",
    "#     df.to_csv(csvFileName, encoding='utf_8_sig')\n",
    "# else:\n",
    "#      print(\"Status: FAIL , Server return code \",server_ReturnCode, \", Msg :\", server_ReturnMsg)\n",
    "    \n",
    "# # #     print(req.text)\n",
    "\n"
   ]
  },
  {
   "cell_type": "markdown",
   "metadata": {
    "collapsed": true
   },
   "source": [
    "## API Class"
   ]
  },
  {
   "cell_type": "code",
   "execution_count": 60,
   "metadata": {
    "collapsed": true
   },
   "outputs": [],
   "source": [
    "#-*- coding=utf-8 -*-\n",
    "from datetime import datetime\n",
    "import hashlib\n",
    "\n",
    "class Gemtek_restful_api:\n",
    "    def __init__(self, URL, api_key, api_secret, macID, index = 0, limit = 10, start_time = 0):\n",
    "        self.URL = URL\n",
    "        self.api_key = api_key\n",
    "        self.api_secret = api_secret\n",
    "        self.macID = macID\n",
    "        self.index = index\n",
    "        self.limit = limit\n",
    "        self.start_time = start_time\n",
    "        self.time = str(int(time.time()))\n",
    "        self.api_token = hashlib.sha1((self.api_secret + self.time).encode('utf-8')).hexdigest()\n",
    "        self.payload = {\n",
    "            \"index\": self.index,\n",
    "            \"start_time\" : self.start_time,\n",
    "            \"limit\" : self.limit,\n",
    "            \"mac\" : self.macID,\n",
    "            \"api_key\" : self.api_key,\n",
    "            \"api_token\" : self.api_token,\n",
    "            \"time\" : self.time\n",
    "        }\n",
    "        self.jsonData = None\n",
    "        self.request_OK = None\n",
    "        self.jsonDataLength = None\n",
    "        \n",
    "        if len(macID) != 12:\n",
    "            print(\"mac address is ilegal !!\")\n",
    "        \n",
    "    def set_query_index(self, index ):\n",
    "        self.index = index\n",
    "\n",
    "    def set_query_limit(self, limit ):\n",
    "        self.limit = limit\n",
    "        \n",
    "    def set_query_start_time(self, start_time = 0):\n",
    "        self.start_time = start_time   \n",
    "        \n",
    "        \n",
    "    def print_API_parameter(self):\n",
    "        print(\"------------- RESTful API parameter --------------\")\n",
    "        print(\"mac: \", self.macID)\n",
    "        print(\"api_key: \", self.api_key)\n",
    "        print(\"api_secret: \", self.api_secret)\n",
    "        print(\"unix_time: \", self.time)\n",
    "        print(\"api_token: \", self.api_token)\n",
    "        print(\"index: \", self.index, \"limit: \", self.limit)\n",
    "        print(\"Payload:\", self.payload)\n",
    "        print(\"--------------------------------------------------\\n\")\n",
    "        \n",
    "    def get_query_data(self):    \n",
    "        req = requests.post(self.URL, json = self.payload)\n",
    "        self.jsonData = req.json()\n",
    "        self.jsonDataLength = self.jsonData['value']['total']\n",
    "        server_ReturnCode = self.jsonData['status']['code']\n",
    "        server_ReturnMsg = self.jsonData['status']['message']\n",
    "        \n",
    "        if (server_ReturnCode == 1200):\n",
    "            self.request_OK = True\n",
    "        else:\n",
    "            self.request_OK = False\n",
    "        \n",
    "        print(\"------------- Request Status ---------------------\")\n",
    "        print(\"Request URL: \", req.url)\n",
    "        print(\"Server return code: \",server_ReturnCode, \", Msg :\", server_ReturnMsg)\n",
    "        print(\"Packet Length: \", self.jsonDataLength)\n",
    "        print(\"--------------------------------------------------\\n\")\n",
    "     \n",
    "        return self.jsonData\n",
    "    \n",
    "    def update_new_api_token(self):    \n",
    "        self.time = str(int(time.time()))\n",
    "        self.api_token = hashlib.sha1((self.api_secret + self.time).encode('utf-8')).hexdigest()\n",
    "        self.payload[\"time\"] = self.time\n",
    "        self.payload[\"api_token\"] = self.api_token\n",
    "    \n"
   ]
  },
  {
   "cell_type": "code",
   "execution_count": 61,
   "metadata": {},
   "outputs": [],
   "source": [
    "# lenth = 100\n",
    "# test_api = Gemtek_restful_api(URL, api_key, api_secret, mac_address1, limit = lenth)\n",
    "# test_api.print_API_parameter()\n",
    "# query_JsonData = test_api.get_query_data()"
   ]
  },
  {
   "cell_type": "code",
   "execution_count": 116,
   "metadata": {
    "collapsed": true
   },
   "outputs": [],
   "source": [
    "def byteToMagData(Low_byte, High_byte):\n",
    "    value = int(Low_byte.encode(), 16) + int(High_byte.encode(), 16) * 256\n",
    "    return twos_comp(value, 16)\n",
    "\n",
    "def twos_comp(val, bits):\n",
    "    \"\"\"compute the 2's complement of int value val\"\"\"\n",
    "    if (val & (1 << (bits - 1))) != 0: # if sign bit is set e.g., 8bit: 128-255\n",
    "        val = val - (1 << bits)        # compute negative value\n",
    "    return val \n",
    "\n",
    "def getPraseTargetData(Data):\n",
    "    prase_data = Data['value']['hits']\n",
    "    prase_data_from_json = []\n",
    "    \n",
    "    # columes in data frame\n",
    "    prase_data_columes = ['_id', '_index', 'mac','create_at_time','recv_at_time','frameCnt', 'data',\n",
    "                          'company','road','slot_num','gwip', \n",
    "                          \"magX\", \"magY\", \"magZ\", \"magT\"]\n",
    "    # get data by list\n",
    "    for each in prase_data:\n",
    "        fullData = []\n",
    "        pakcetHeader = \"fcffff07\"\n",
    "        packetByte = []\n",
    "        \n",
    "        fullData = [ each['_id'], each['_index'], each['_source']['macAddr'],\n",
    "             each['_source']['create_at'], each['_source']['recv'], each['_source']['frameCnt'],\n",
    "             each['_source']['data'], \n",
    "             each['_source']['extra']['company'],  each['_source']['extra']['road'], \n",
    "             each['_source']['extra']['slot_num'], each['_source']['gwip']\n",
    "        ]\n",
    "        \n",
    "        # get high/ low byte\n",
    "        packetMagData = each['_source']['data']\n",
    "        \n",
    "        if packetMagData.find(pakcetHeader) != -1:\n",
    "            index = [i for i in range(len(packetMagData)) if i % 2 == 0]   \n",
    "            for each in index:\n",
    "                packetByte.append(packetMagData[each:each+2])\n",
    "#             print(\"packet Byte: \", packetByte)\n",
    "        else:\n",
    "            print(\"packet header error\")\n",
    "\n",
    "        magX = byteToMagData(packetByte[4], packetByte[5])\n",
    "        magY = byteToMagData(packetByte[6], packetByte[7])\n",
    "        magZ = byteToMagData(packetByte[8], packetByte[9])\n",
    "        magT = byteToMagData(packetByte[10], '00')\n",
    "        \n",
    "        fullData.extend([magX, magY, magZ, magT])\n",
    "#         print(\"Data:\", fullData)\n",
    "        prase_data_from_json.append(fullData)\n",
    "       \n",
    "    return pd.DataFrame(prase_data_from_json, columns=prase_data_columes) \n"
   ]
  },
  {
   "cell_type": "code",
   "execution_count": 131,
   "metadata": {},
   "outputs": [
    {
     "name": "stdout",
     "output_type": "stream",
     "text": [
      "1501643915\n"
     ]
    }
   ],
   "source": [
    "import time\n",
    "from datetime import datetime\n",
    "\n",
    "current_time_obj = time.time()\n",
    "current_datetime_obj = datetime.fromtimestamp(current_time_obj)\n",
    "current_time = int(current_time_obj)\n",
    "print(current_time)"
   ]
  },
  {
   "cell_type": "code",
   "execution_count": 126,
   "metadata": {},
   "outputs": [
    {
     "name": "stdout",
     "output_type": "stream",
     "text": [
      "------------- RESTful API parameter --------------\n",
      "mac:  101a0d01019a\n",
      "api_key:  PARK-eMPpua7y17\n",
      "api_secret:  2PHIAGI5qv5IhMGZ56iy\n",
      "unix_time:  1501643891\n",
      "api_token:  b18f5f4419e3c9474ca73b05789eb280b2136333\n",
      "index:  0 limit:  100\n",
      "Payload: {'index': 0, 'start_time': 1501643760, 'limit': 100, 'mac': '101a0d01019a', 'api_key': 'PARK-eMPpua7y17', 'api_token': 'b18f5f4419e3c9474ca73b05789eb280b2136333', 'time': '1501643891'}\n",
      "--------------------------------------------------\n",
      "\n",
      "------------- Request Status ---------------------\n",
      "Request URL:  https://s5.securepilot.com/parking/v1/query_record\n",
      "Server return code:  1200 , Msg : Command succeeded\n",
      "Packet Length:  4928\n",
      "--------------------------------------------------\n",
      "\n"
     ]
    }
   ],
   "source": [
    "#-*- coding=utf-8 -*-\n",
    "import requests\n",
    "import json\n",
    "import time\n",
    "import hashlib\n",
    "import pandas as pd\n",
    "from datetime import datetime\n",
    "\n",
    "URL = \"https://s5.securepilot.com/parking/v1/query_record\"\n",
    "api_key = \"PARK-eMPpua7y17\"\n",
    "api_secret = \"2PHIAGI5qv5IhMGZ56iy\"\n",
    "\n",
    "mac_gemtek = \"101a\"\n",
    "mac_address1 = mac_gemtek + \"0d0100ab\"\n",
    "mac_address_test = mac_gemtek + \"0d01019a\"\n",
    "\n",
    "mac_query = mac_address_test\n",
    "# main funciton\n",
    "parking_api = Gemtek_restful_api(URL, api_key, api_secret, mac_query, index = 0 , limit = 100, start_time = current_time)\n",
    "parking_api.print_API_parameter()\n",
    "query_JsonData = parking_api.get_query_data()\n",
    "\n",
    "# testName = 'GO_M_2'\n",
    "testName = 'BACK_M_2'\n",
    "\n",
    "if(parking_api.request_OK):\n",
    "    df = getPraseTargetData(query_JsonData)\n",
    "    NodeName = mac_query\n",
    "    timeName = current_datetime_obj.strftime('%m%d_%H%M%S')\n",
    "    csvFileName = testName + 'Node_' + NodeName + '_' + timeName + '_' + str(current_time) + '.csv'\n",
    "    df.to_csv(csvFileName, encoding='utf_8_sig')\n",
    "else:\n",
    "    print(\"Server Request Fail\")\n",
    "    \n"
   ]
  },
  {
   "cell_type": "code",
   "execution_count": 127,
   "metadata": {},
   "outputs": [],
   "source": [
    "# query_JsonData"
   ]
  },
  {
   "cell_type": "markdown",
   "metadata": {},
   "source": [
    "## Data prasing \n",
    " 1. lattency"
   ]
  },
  {
   "cell_type": "code",
   "execution_count": 128,
   "metadata": {},
   "outputs": [],
   "source": [
    "#-*- coding=utf-8 -*-\n",
    "import requests\n",
    "import json\n",
    "import time\n",
    "import hashlib\n",
    "import pandas as pd\n",
    "from datetime import datetime\n",
    "import matplotlib as plt\n",
    "\n",
    "df = pd.read_csv(csvFileName, encoding='utf_8_sig')\n",
    "# df.head(5)\n",
    "\n",
    "def get_datetime_from_timeString(date_string):\n",
    "    date_string = date_string.replace('T',' ').replace('Z','')\n",
    "    datetime_object = datetime.strptime(date_string, '%Y-%m-%d %H:%M:%S.%f')\n",
    "    return datetime_object\n",
    "\n",
    "def get_two_datetime_delta(datetime_object1 , datetime_object2):\n",
    "    datetime_delta   = datetime_object2 - datetime_object1\n",
    "    return datetime_delta.total_seconds()\n",
    "\n",
    "latency_time_list = list()\n",
    "create_time_list  = list()\n",
    "\n",
    "for i in range(len(df.create_at_time)):\n",
    "    create_time = get_datetime_from_timeString( df.create_at_time[i] )\n",
    "    recv_time   = get_datetime_from_timeString( df.recv_at_time[i] )\n",
    "    latency_time = get_two_datetime_delta( recv_time , create_time )\n",
    "#     print(latency_time)\n",
    "    latency_time_list.append(latency_time)\n",
    "    create_time_list.append(latency_time)\n",
    "    \n",
    "df['latency_time'] = latency_time_list"
   ]
  },
  {
   "cell_type": "code",
   "execution_count": 129,
   "metadata": {},
   "outputs": [
    {
     "data": {
      "image/png": "[encoded data removed]",
      "text/plain": [
       "<matplotlib.figure.Figure at 0x11547a390>"
      ]
     },
     "metadata": {},
     "output_type": "display_data"
    }
   ],
   "source": [
    "import matplotlib.pyplot as plt\n",
    "import numpy as np\n",
    "%matplotlib inline\n",
    "\n",
    "count = df.frameCnt\n",
    "magX = df.magX\n",
    "magY = df.magY\n",
    "magZ = df.magZ\n",
    "magT = df.magT\n",
    "\n",
    "plt.figure()\n",
    "plt.plot(count, magX, label='magX')\n",
    "plt.plot(count, magY, label='magY')\n",
    "plt.plot(count, magZ, label='magZ')\n",
    "plt.xlabel('frameCnt')\n",
    "plt.ylabel('Mag Value')\n",
    "plt.title('Mag data Plot \\n ')\n",
    "plt.legend()\n",
    "plt.show()\n",
    "\n",
    "# df2 = pd.DataFrame(np.random.rand(10, 4), columns=['magX', 'magX', 'magX', 'magX'])\n",
    "# plt.figure(); df2.plot();"
   ]
  },
  {
   "cell_type": "code",
   "execution_count": 130,
   "metadata": {},
   "outputs": [
    {
     "data": {
      "image/png": "[encoded data removed]",
      "text/plain": [
       "<matplotlib.figure.Figure at 0x115217240>"
      ]
     },
     "metadata": {},
     "output_type": "display_data"
    }
   ],
   "source": [
    "plt.figure()\n",
    "plt.bar(count, magT, label='degree')\n",
    "plt.xlabel('frameCnt')\n",
    "plt.ylabel('degree')\n",
    "plt.title('Mag temperature Plot \\n ')\n",
    "plt.legend()\n",
    "plt.show()"
   ]
  },
  {
   "cell_type": "code",
   "execution_count": 124,
   "metadata": {},
   "outputs": [
    {
     "data": {
      "image/png": "[encoded data removed]",
      "text/plain": [
       "<matplotlib.figure.Figure at 0x115c51b00>"
      ]
     },
     "metadata": {},
     "output_type": "display_data"
    }
   ],
   "source": [
    "lattency = df.latency_time\n",
    "\n",
    "plt.figure()\n",
    "plt.bar(count, lattency, label='lattency')\n",
    "plt.xlabel('frameCnt')\n",
    "plt.ylabel('sec')\n",
    "plt.title('lattency \\n ')\n",
    "plt.legend()\n",
    "plt.show()"
   ]
  },
  {
   "cell_type": "code",
   "execution_count": null,
   "metadata": {
    "collapsed": true
   },
   "outputs": [],
   "source": []
  },
  {
   "cell_type": "code",
   "execution_count": null,
   "metadata": {
    "collapsed": true
   },
   "outputs": [],
   "source": []
  },
  {
   "cell_type": "code",
   "execution_count": null,
   "metadata": {
    "collapsed": true
   },
   "outputs": [],
   "source": [
    "# latency_time_list = list()\n",
    "# create_time_list  = list()\n",
    "\n",
    "# for i in range(len(df.create_at_time)):\n",
    "#     create_time = get_datetime_from_timeString( df.create_at_time[i] )\n",
    "#     recv_time   = get_datetime_from_timeString( df.recv_at_time[i] )\n",
    "#     latency_time = get_two_datetime_delta( recv_time , create_time )\n",
    "# #     print(latency_time)\n",
    "#     latency_time_list.append(latency_time)\n",
    "#     create_time_list.append(latency_time)\n",
    "    \n",
    "# df['latency_time'] = latency_time_list"
   ]
  },
  {
   "cell_type": "code",
   "execution_count": 45,
   "metadata": {
    "collapsed": true
   },
   "outputs": [],
   "source": [
    "# def get_datetime_from_timeString(date_string):\n",
    "#     date_string = date_string.replace('T',' ').replace('Z','')\n",
    "#     datetime_object = datetime.strptime(date_string, '%Y-%m-%d %H:%M:%S.%f')\n",
    "#     return datetime_object\n",
    "\n",
    "# def get_two_datetime_delta(datetime_object1 , datetime_object2):\n",
    "#     datetime_delta   = datetime_object2 - datetime_object1\n",
    "#     return datetime_delta.total_seconds()\n",
    "\n",
    "# # date_string1 = \"2017-07-26 09:04:33.897\"\n",
    "# # date_string2 = \"2017-07-26 09:08:33.897\"\n",
    "\n",
    "# # datetime_object1= get_datetime_from_timeString(date_string1)\n",
    "# # datetime_object2 = get_datetime_from_timeString(date_string2)\n",
    "# # latency_time = get_two_datetime_delta(datetime_object1,datetime_object2)\n",
    "# # latency_time"
   ]
  }
 ],
 "metadata": {
  "kernelspec": {
   "display_name": "Python (env-py36)",
   "language": "python",
   "name": "py36"
  },
  "language_info": {
   "codemirror_mode": {
    "name": "ipython",
    "version": 3
   },
   "file_extension": ".py",
   "mimetype": "text/x-python",
   "name": "python",
   "nbconvert_exporter": "python",
   "pygments_lexer": "ipython3",
   "version": "3.6.1"
  }
 },
 "nbformat": 4,
 "nbformat_minor": 2
}
