{
 "cells": [
  {
   "cell_type": "markdown",
   "metadata": {},
   "source": [
    "## Detection algorithm "
   ]
  },
  {
   "cell_type": "code",
   "execution_count": 17,
   "metadata": {
    "collapsed": true
   },
   "outputs": [],
   "source": [
    "#-*- coding=utf-8 -*-\n",
    "import requests\n",
    "import json\n",
    "import time\n",
    "import hashlib\n",
    "import pandas as pd\n",
    "from datetime import datetime\n",
    "import matplotlib.pyplot as plt\n",
    "from mpl_toolkits.mplot3d import Axes3D\n",
    "import numpy as np\n",
    "from numpy import linalg as LA\n",
    "from os import listdir\n",
    "from os.path import isfile, join\n",
    "from datetime import datetime\n",
    "import os, sys, errno\n",
    "import threading\n",
    "from sklearn.cluster import KMeans\n",
    "from sklearn.datasets import make_blobs\n",
    "from sklearn.linear_model import LinearRegression\n",
    "from sklearn.linear_model import LogisticRegression\n",
    "from sklearn.ensemble import RandomForestClassifier\n",
    "# from sklearn.cross_validation import cross_val_score\n",
    "from sklearn.model_selection import train_test_split\n",
    "from sklearn import preprocessing\n",
    "from CarDetection_Module.Car_Detection import Car_Detection \n",
    "\n",
    "%matplotlib inline\n",
    "\n",
    "\n",
    "#################### function list ###################\n",
    "def check_file_path_exist(csvName):\n",
    "    if not os.path.exists(os.path.dirname(csvName)):\n",
    "        try:\n",
    "            os.makedirs(os.path.dirname(csvName))\n",
    "        except OSError as exc: # Guard against race condition\n",
    "            if exc.errno != errno.EEXIST:\n",
    "                raise\n",
    "                \n",
    "def get_mag_len(df, mag_number):\n",
    "    for i in range(mag_number):\n",
    "        df[\"Mag\" + str(i+1) + \"_Len\"] = (df[\"Mag\" + str(i+1) +\"_X\"].pow(2) + df[\"Mag\" + str(i+1) +\"_Y\"].pow(2) + df[\"Mag\" + str(i+1) +\"_Z\"].pow(2) ).pow(0.5)\n",
    "    return df\n",
    "\n",
    "def get_mag_env(df, mag_number, offset_points):\n",
    "#     for i in range(mag_number):\n",
    "#         df[\"Mag\" + str(i+1) + \"_EnvX\"] = df[\"Mag\" + str(i+1) +\"_X\"][:offset_points].mean()\n",
    "#         df[\"Mag\" + str(i+1) + \"_EnvY\"] = df[\"Mag\" + str(i+1) +\"_Y\"][:offset_points].mean()\n",
    "#         df[\"Mag\" + str(i+1) + \"_EnvZ\"] = df[\"Mag\" + str(i+1) +\"_Z\"][:offset_points].mean()\n",
    "    for i in range(mag_number):\n",
    "        df[\"Mag\" + str(i+1) + \"_EnvX\"] = df[\"EnvMag\" + str(i+1) +\"_X\"]\n",
    "        df[\"Mag\" + str(i+1) + \"_EnvY\"] = df[\"EnvMag\" + str(i+1) +\"_Y\"]\n",
    "        df[\"Mag\" + str(i+1) + \"_EnvZ\"] = df[\"EnvMag\" + str(i+1) +\"_Z\"]\n",
    "\n",
    "    return df\n",
    "\n",
    "def get_mag_car_field(df, mag_number):\n",
    "    for i in range(mag_number):\n",
    "        df[\"Mag\" + str(i+1) + \"_CarX\"] = df[\"Mag\" + str(i+1) +\"_X\"] - df[\"Mag\" + str(i+1) + \"_EnvX\"]\n",
    "        df[\"Mag\" + str(i+1) + \"_CarY\"] = df[\"Mag\" + str(i+1) +\"_Y\"] - df[\"Mag\" + str(i+1) + \"_EnvY\"]\n",
    "        df[\"Mag\" + str(i+1) + \"_CarZ\"] = df[\"Mag\" + str(i+1) +\"_Z\"] - df[\"Mag\" + str(i+1) + \"_EnvZ\"]\n",
    "        df[\"Mag\" + str(i+1) + \"_CarLen\"] = (df[\"Mag\" + str(i+1) +\"_CarX\"].pow(2) + df[\"Mag\" + str(i+1) +\"_CarY\"].pow(2) + df[\"Mag\" + str(i+1) +\"_CarZ\"].pow(2) ).pow(0.5)\n",
    "    return df    \n",
    "\n",
    "def get_car_brand(df, brand, category):\n",
    "    df[\"Brand\"] = brand\n",
    "    df[\"Category\"] = category\n",
    "    df = df[sorted(df.columns)]\n",
    "    return df \n",
    "\n",
    "def get_car_in_out_type(df, in_out_type):\n",
    "    d_zeros = pd.DataFrame(np.zeros(df.shape[0], ))\n",
    "    d_ones  = pd.DataFrame(np.ones (df.shape[0], ))\n",
    "\n",
    "    if 'Forward' not in df.columns:\n",
    "        df.insert(2, \"Forward\", d_zeros) \n",
    "        df.insert(3, \"Backward\", d_zeros) \n",
    "        df.insert(4, \"Sideway\", d_zeros) \n",
    "    \n",
    "    else:\n",
    "        df['Forward'].replace(0,inplace=True) \n",
    "        df['Backward'].replace(0,inplace=True) \n",
    "        df['Sideway'].replace(0,inplace=True) \n",
    "\n",
    "    if in_out_type == \"Forward\":\n",
    "        df['Forward']  = 1\n",
    "    elif in_out_type == \"Backward\":\n",
    "        df[\"Backward\"] = 1\n",
    "    elif in_out_type == \"Sideway\":\n",
    "        df[\"Sideway\"]  = 1\n",
    "    else:\n",
    "        print(\"car_in_out_type : error input\")\n",
    "    return df \n",
    "\n",
    "def get_kmean_label(df, feature):\n",
    "    random_state = 170\n",
    "    X_filtered = df[feature].as_matrix()\n",
    "    Kmean_model = KMeans(n_clusters=3, random_state=random_state)\n",
    "    y_pred = Kmean_model.fit_predict(X_filtered)\n",
    "    if \"Class_Target\" in df.columns:\n",
    "        df[\"Class_Target\"].replace(y_pred,inplace=True) \n",
    "        df[\"Class\"].replace( y_pred * df[\"Mag1_CarLen\"].max()/2,inplace=True) \n",
    "    else:\n",
    "        df[\"Class_Target\"] = y_pred \n",
    "        df[\"Class\"] = y_pred * df[\"Mag1_CarLen\"].max()/2\n",
    "    print(\"Cluster centers \", Kmean_model.cluster_centers_ )\n",
    "    \n",
    "    fig = plt.figure()\n",
    "    ax = Axes3D(fig)\n",
    "    ax.scatter(X_filtered[:,0], X_filtered[:,1], X_filtered[:,2], c=y_pred)\n",
    "    plt.title('Mag scatter plot with car')\n",
    "    plt.xlabel('MagX')\n",
    "    plt.ylabel('MagY')\n",
    "    plt.show()\n",
    "    return df\n",
    "\n",
    "\n",
    "################ Romdam Forest ##########################################\n",
    "def set_Training_RandomForest(trainDataFrame, targetingDataFrame):\n",
    "    X_train, X_test, y_train, y_test = train_test_split(trainDataFrame, targetingDataFrame, test_size=0.30, random_state=30)\n",
    "    model = RandomForestClassifier(n_estimators=100, max_depth=5)\n",
    "    model.fit(X_train, y_train)\n",
    "    print('Test Model Score: ',model.score(X_test, y_test) )\n",
    "#     print('Model Parameter: ',model.get_params )\n",
    "#     print('Cross Validation Score', np.mean(cross_val_score(model, X_train, y_train, cv=10)))\n",
    "    print(\"Click Rate: \",targetingDataFrame.sum()/len(targetingDataFrame)*100, \"%\")\n",
    "    return model\n",
    "\n",
    "def set_Training_LogisticRegression(trainDataFrame, targetingDataFrame):\n",
    "    X_train, X_test, y_train, y_test = train_test_split(trainDataFrame, targetingDataFrame, test_size=0.30, random_state=30)\n",
    "    model = LogisticRegression()\n",
    "    model.fit(X_train, y_train)\n",
    "    print('Test Model Score: ',model.score(X_test, y_test) )\n",
    "#     print('Model Parameter: ',model.get_params )\n",
    "#     print('Cross Validation Score', np.mean(cross_val_score(model, X_train, y_train, cv=10)))\n",
    "    print(\"Click Rate: \",targetingDataFrame.sum()/len(targetingDataFrame)*100, \"%\")\n",
    "    return model\n",
    "\n",
    "def get_FeatureImportance(model, featureName, important_rate = 0):\n",
    "    importances = model.feature_importances_\n",
    "    std = np.std([tree.feature_importances_ for tree in model.estimators_], axis=0)\n",
    "    indices = np.argsort(importances)[::-1]\n",
    "    print(\"Feature ranking:\")\n",
    "#     for f in range(len(featureName)):\n",
    "#         print(\"%d. feature %d - %s (%f)\" % (f + 1, indices[f], featureName[indices[f]], importances[indices[f]]))\n",
    "    for f in range(len(featureName)):\n",
    "        if importances[indices[f]] >= important_rate:\n",
    "            print(\"%d. feature %d - %s (%f)\" % (f + 1, indices[f], featureName[indices[f]], importances[indices[f]]))\n",
    "\n",
    "def get_FeatureImportance_Boxplot(model, featureName):\n",
    "    importances = model.feature_importances_\n",
    "    std = np.std([tree.feature_importances_ for tree in model.estimators_], axis=0)\n",
    "    indices = np.argsort(importances)[::-1]\n",
    "    \n",
    "    featureLenght = len(featureName)\n",
    "    plt.figure()\n",
    "    plt.title(\"Feature importances\")\n",
    "    plt.bar(range(featureLenght), importances[indices],\n",
    "           color=\"r\", yerr=std[indices], align=\"center\")\n",
    "    plt.xticks(range(featureLenght), indices)\n",
    "    plt.xlim([-1, featureLenght])\n",
    "    plt.show()"
   ]
  },
  {
   "cell_type": "code",
   "execution_count": 18,
   "metadata": {
    "collapsed": true
   },
   "outputs": [],
   "source": [
    "# Rawdata_folderName = os.getcwd() + '/Detection_Database/Raw/'\n",
    "# Newdata_folderName = os.getcwd() + '/Detection_Database/New/'\n",
    "Rawdata_folderName = os.getcwd() + '/Detection_Database/Raw2/'\n",
    "Newdata_folderName = os.getcwd() + '/Detection_Database/New2/'\n",
    "Prasedata_folderName = os.getcwd() + '/Detection_Database/SperateNode/'\n",
    "check_file_path_exist(Rawdata_folderName)\n",
    "check_file_path_exist(Prasedata_folderName)\n",
    "\n",
    "csvFiles = [f for f in listdir(Rawdata_folderName) if isfile(join(Rawdata_folderName, f)) and f[-3:] == \"csv\" ]"
   ]
  },
  {
   "cell_type": "code",
   "execution_count": 19,
   "metadata": {},
   "outputs": [
    {
     "data": {
      "text/plain": [
       "['nisson_bluebird_backward_in.csv',\n",
       " 'nisson_teana_backward_in.csv',\n",
       " 'nisson_teana_forward_in.csv',\n",
       " 'nisson_bluebird_forward_in.csv']"
      ]
     },
     "execution_count": 19,
     "metadata": {},
     "output_type": "execute_result"
    }
   ],
   "source": [
    "csvFiles"
   ]
  },
  {
   "cell_type": "code",
   "execution_count": 25,
   "metadata": {
    "scrolled": true
   },
   "outputs": [
    {
     "name": "stdout",
     "output_type": "stream",
     "text": [
      "teana\n"
     ]
    },
    {
     "ename": "KeyError",
     "evalue": "'Mag1_X'",
     "output_type": "error",
     "traceback": [
      "\u001b[0;31m---------------------------------------------------------------------------\u001b[0m",
      "\u001b[0;31mKeyError\u001b[0m                                  Traceback (most recent call last)",
      "\u001b[0;32m/home/qwedsazxc78/anaconda3/envs/py36/lib/python3.6/site-packages/pandas/core/indexes/base.py\u001b[0m in \u001b[0;36mget_loc\u001b[0;34m(self, key, method, tolerance)\u001b[0m\n\u001b[1;32m   2441\u001b[0m             \u001b[0;32mtry\u001b[0m\u001b[0;34m:\u001b[0m\u001b[0;34m\u001b[0m\u001b[0m\n\u001b[0;32m-> 2442\u001b[0;31m                 \u001b[0;32mreturn\u001b[0m \u001b[0mself\u001b[0m\u001b[0;34m.\u001b[0m\u001b[0m_engine\u001b[0m\u001b[0;34m.\u001b[0m\u001b[0mget_loc\u001b[0m\u001b[0;34m(\u001b[0m\u001b[0mkey\u001b[0m\u001b[0;34m)\u001b[0m\u001b[0;34m\u001b[0m\u001b[0m\n\u001b[0m\u001b[1;32m   2443\u001b[0m             \u001b[0;32mexcept\u001b[0m \u001b[0mKeyError\u001b[0m\u001b[0;34m:\u001b[0m\u001b[0;34m\u001b[0m\u001b[0m\n",
      "\u001b[0;32mpandas/_libs/index.pyx\u001b[0m in \u001b[0;36mpandas._libs.index.IndexEngine.get_loc (pandas/_libs/index.c:5280)\u001b[0;34m()\u001b[0m\n",
      "\u001b[0;32mpandas/_libs/index.pyx\u001b[0m in \u001b[0;36mpandas._libs.index.IndexEngine.get_loc (pandas/_libs/index.c:5126)\u001b[0;34m()\u001b[0m\n",
      "\u001b[0;32mpandas/_libs/hashtable_class_helper.pxi\u001b[0m in \u001b[0;36mpandas._libs.hashtable.PyObjectHashTable.get_item (pandas/_libs/hashtable.c:20523)\u001b[0;34m()\u001b[0m\n",
      "\u001b[0;32mpandas/_libs/hashtable_class_helper.pxi\u001b[0m in \u001b[0;36mpandas._libs.hashtable.PyObjectHashTable.get_item (pandas/_libs/hashtable.c:20477)\u001b[0;34m()\u001b[0m\n",
      "\u001b[0;31mKeyError\u001b[0m: 'Mag1_X'",
      "\nDuring handling of the above exception, another exception occurred:\n",
      "\u001b[0;31mKeyError\u001b[0m                                  Traceback (most recent call last)",
      "\u001b[0;32m<ipython-input-25-6f96e6fa18bd>\u001b[0m in \u001b[0;36m<module>\u001b[0;34m()\u001b[0m\n\u001b[1;32m     26\u001b[0m \u001b[0;34m\u001b[0m\u001b[0m\n\u001b[1;32m     27\u001b[0m \u001b[0mdf\u001b[0m \u001b[0;34m=\u001b[0m \u001b[0mpd\u001b[0m\u001b[0;34m.\u001b[0m\u001b[0mread_csv\u001b[0m\u001b[0;34m(\u001b[0m\u001b[0mcsvRawDataName\u001b[0m\u001b[0;34m)\u001b[0m\u001b[0;34m\u001b[0m\u001b[0m\n\u001b[0;32m---> 28\u001b[0;31m \u001b[0mdf\u001b[0m \u001b[0;34m=\u001b[0m \u001b[0mget_mag_len\u001b[0m\u001b[0;34m(\u001b[0m\u001b[0mdf\u001b[0m\u001b[0;34m,\u001b[0m \u001b[0mExperiment_Mag_number\u001b[0m\u001b[0;34m)\u001b[0m\u001b[0;34m\u001b[0m\u001b[0m\n\u001b[0m\u001b[1;32m     29\u001b[0m \u001b[0mdf\u001b[0m \u001b[0;34m=\u001b[0m \u001b[0mget_mag_env\u001b[0m\u001b[0;34m(\u001b[0m\u001b[0mdf\u001b[0m\u001b[0;34m,\u001b[0m \u001b[0mExperiment_Mag_number\u001b[0m\u001b[0;34m,\u001b[0m \u001b[0mExperiment_Mag_Env_number\u001b[0m\u001b[0;34m)\u001b[0m\u001b[0;34m\u001b[0m\u001b[0m\n\u001b[1;32m     30\u001b[0m \u001b[0mdf\u001b[0m \u001b[0;34m=\u001b[0m \u001b[0mget_mag_car_field\u001b[0m\u001b[0;34m(\u001b[0m\u001b[0mdf\u001b[0m\u001b[0;34m,\u001b[0m \u001b[0mExperiment_Mag_number\u001b[0m\u001b[0;34m)\u001b[0m\u001b[0;34m\u001b[0m\u001b[0m\n",
      "\u001b[0;32m<ipython-input-17-e78bd3af411c>\u001b[0m in \u001b[0;36mget_mag_len\u001b[0;34m(df, mag_number)\u001b[0m\n\u001b[1;32m     39\u001b[0m \u001b[0;32mdef\u001b[0m \u001b[0mget_mag_len\u001b[0m\u001b[0;34m(\u001b[0m\u001b[0mdf\u001b[0m\u001b[0;34m,\u001b[0m \u001b[0mmag_number\u001b[0m\u001b[0;34m)\u001b[0m\u001b[0;34m:\u001b[0m\u001b[0;34m\u001b[0m\u001b[0m\n\u001b[1;32m     40\u001b[0m     \u001b[0;32mfor\u001b[0m \u001b[0mi\u001b[0m \u001b[0;32min\u001b[0m \u001b[0mrange\u001b[0m\u001b[0;34m(\u001b[0m\u001b[0mmag_number\u001b[0m\u001b[0;34m)\u001b[0m\u001b[0;34m:\u001b[0m\u001b[0;34m\u001b[0m\u001b[0m\n\u001b[0;32m---> 41\u001b[0;31m         \u001b[0mdf\u001b[0m\u001b[0;34m[\u001b[0m\u001b[0;34m\"Mag\"\u001b[0m \u001b[0;34m+\u001b[0m \u001b[0mstr\u001b[0m\u001b[0;34m(\u001b[0m\u001b[0mi\u001b[0m\u001b[0;34m+\u001b[0m\u001b[0;36m1\u001b[0m\u001b[0;34m)\u001b[0m \u001b[0;34m+\u001b[0m \u001b[0;34m\"_Len\"\u001b[0m\u001b[0;34m]\u001b[0m \u001b[0;34m=\u001b[0m \u001b[0;34m(\u001b[0m\u001b[0mdf\u001b[0m\u001b[0;34m[\u001b[0m\u001b[0;34m\"Mag\"\u001b[0m \u001b[0;34m+\u001b[0m \u001b[0mstr\u001b[0m\u001b[0;34m(\u001b[0m\u001b[0mi\u001b[0m\u001b[0;34m+\u001b[0m\u001b[0;36m1\u001b[0m\u001b[0;34m)\u001b[0m \u001b[0;34m+\u001b[0m\u001b[0;34m\"_X\"\u001b[0m\u001b[0;34m]\u001b[0m\u001b[0;34m.\u001b[0m\u001b[0mpow\u001b[0m\u001b[0;34m(\u001b[0m\u001b[0;36m2\u001b[0m\u001b[0;34m)\u001b[0m \u001b[0;34m+\u001b[0m \u001b[0mdf\u001b[0m\u001b[0;34m[\u001b[0m\u001b[0;34m\"Mag\"\u001b[0m \u001b[0;34m+\u001b[0m \u001b[0mstr\u001b[0m\u001b[0;34m(\u001b[0m\u001b[0mi\u001b[0m\u001b[0;34m+\u001b[0m\u001b[0;36m1\u001b[0m\u001b[0;34m)\u001b[0m \u001b[0;34m+\u001b[0m\u001b[0;34m\"_Y\"\u001b[0m\u001b[0;34m]\u001b[0m\u001b[0;34m.\u001b[0m\u001b[0mpow\u001b[0m\u001b[0;34m(\u001b[0m\u001b[0;36m2\u001b[0m\u001b[0;34m)\u001b[0m \u001b[0;34m+\u001b[0m \u001b[0mdf\u001b[0m\u001b[0;34m[\u001b[0m\u001b[0;34m\"Mag\"\u001b[0m \u001b[0;34m+\u001b[0m \u001b[0mstr\u001b[0m\u001b[0;34m(\u001b[0m\u001b[0mi\u001b[0m\u001b[0;34m+\u001b[0m\u001b[0;36m1\u001b[0m\u001b[0;34m)\u001b[0m \u001b[0;34m+\u001b[0m\u001b[0;34m\"_Z\"\u001b[0m\u001b[0;34m]\u001b[0m\u001b[0;34m.\u001b[0m\u001b[0mpow\u001b[0m\u001b[0;34m(\u001b[0m\u001b[0;36m2\u001b[0m\u001b[0;34m)\u001b[0m \u001b[0;34m)\u001b[0m\u001b[0;34m.\u001b[0m\u001b[0mpow\u001b[0m\u001b[0;34m(\u001b[0m\u001b[0;36m0.5\u001b[0m\u001b[0;34m)\u001b[0m\u001b[0;34m\u001b[0m\u001b[0m\n\u001b[0m\u001b[1;32m     42\u001b[0m     \u001b[0;32mreturn\u001b[0m \u001b[0mdf\u001b[0m\u001b[0;34m\u001b[0m\u001b[0m\n\u001b[1;32m     43\u001b[0m \u001b[0;34m\u001b[0m\u001b[0m\n",
      "\u001b[0;32m/home/qwedsazxc78/anaconda3/envs/py36/lib/python3.6/site-packages/pandas/core/frame.py\u001b[0m in \u001b[0;36m__getitem__\u001b[0;34m(self, key)\u001b[0m\n\u001b[1;32m   1962\u001b[0m             \u001b[0;32mreturn\u001b[0m \u001b[0mself\u001b[0m\u001b[0;34m.\u001b[0m\u001b[0m_getitem_multilevel\u001b[0m\u001b[0;34m(\u001b[0m\u001b[0mkey\u001b[0m\u001b[0;34m)\u001b[0m\u001b[0;34m\u001b[0m\u001b[0m\n\u001b[1;32m   1963\u001b[0m         \u001b[0;32melse\u001b[0m\u001b[0;34m:\u001b[0m\u001b[0;34m\u001b[0m\u001b[0m\n\u001b[0;32m-> 1964\u001b[0;31m             \u001b[0;32mreturn\u001b[0m \u001b[0mself\u001b[0m\u001b[0;34m.\u001b[0m\u001b[0m_getitem_column\u001b[0m\u001b[0;34m(\u001b[0m\u001b[0mkey\u001b[0m\u001b[0;34m)\u001b[0m\u001b[0;34m\u001b[0m\u001b[0m\n\u001b[0m\u001b[1;32m   1965\u001b[0m \u001b[0;34m\u001b[0m\u001b[0m\n\u001b[1;32m   1966\u001b[0m     \u001b[0;32mdef\u001b[0m \u001b[0m_getitem_column\u001b[0m\u001b[0;34m(\u001b[0m\u001b[0mself\u001b[0m\u001b[0;34m,\u001b[0m \u001b[0mkey\u001b[0m\u001b[0;34m)\u001b[0m\u001b[0;34m:\u001b[0m\u001b[0;34m\u001b[0m\u001b[0m\n",
      "\u001b[0;32m/home/qwedsazxc78/anaconda3/envs/py36/lib/python3.6/site-packages/pandas/core/frame.py\u001b[0m in \u001b[0;36m_getitem_column\u001b[0;34m(self, key)\u001b[0m\n\u001b[1;32m   1969\u001b[0m         \u001b[0;31m# get column\u001b[0m\u001b[0;34m\u001b[0m\u001b[0;34m\u001b[0m\u001b[0m\n\u001b[1;32m   1970\u001b[0m         \u001b[0;32mif\u001b[0m \u001b[0mself\u001b[0m\u001b[0;34m.\u001b[0m\u001b[0mcolumns\u001b[0m\u001b[0;34m.\u001b[0m\u001b[0mis_unique\u001b[0m\u001b[0;34m:\u001b[0m\u001b[0;34m\u001b[0m\u001b[0m\n\u001b[0;32m-> 1971\u001b[0;31m             \u001b[0;32mreturn\u001b[0m \u001b[0mself\u001b[0m\u001b[0;34m.\u001b[0m\u001b[0m_get_item_cache\u001b[0m\u001b[0;34m(\u001b[0m\u001b[0mkey\u001b[0m\u001b[0;34m)\u001b[0m\u001b[0;34m\u001b[0m\u001b[0m\n\u001b[0m\u001b[1;32m   1972\u001b[0m \u001b[0;34m\u001b[0m\u001b[0m\n\u001b[1;32m   1973\u001b[0m         \u001b[0;31m# duplicate columns & possible reduce dimensionality\u001b[0m\u001b[0;34m\u001b[0m\u001b[0;34m\u001b[0m\u001b[0m\n",
      "\u001b[0;32m/home/qwedsazxc78/anaconda3/envs/py36/lib/python3.6/site-packages/pandas/core/generic.py\u001b[0m in \u001b[0;36m_get_item_cache\u001b[0;34m(self, item)\u001b[0m\n\u001b[1;32m   1643\u001b[0m         \u001b[0mres\u001b[0m \u001b[0;34m=\u001b[0m \u001b[0mcache\u001b[0m\u001b[0;34m.\u001b[0m\u001b[0mget\u001b[0m\u001b[0;34m(\u001b[0m\u001b[0mitem\u001b[0m\u001b[0;34m)\u001b[0m\u001b[0;34m\u001b[0m\u001b[0m\n\u001b[1;32m   1644\u001b[0m         \u001b[0;32mif\u001b[0m \u001b[0mres\u001b[0m \u001b[0;32mis\u001b[0m \u001b[0;32mNone\u001b[0m\u001b[0;34m:\u001b[0m\u001b[0;34m\u001b[0m\u001b[0m\n\u001b[0;32m-> 1645\u001b[0;31m             \u001b[0mvalues\u001b[0m \u001b[0;34m=\u001b[0m \u001b[0mself\u001b[0m\u001b[0;34m.\u001b[0m\u001b[0m_data\u001b[0m\u001b[0;34m.\u001b[0m\u001b[0mget\u001b[0m\u001b[0;34m(\u001b[0m\u001b[0mitem\u001b[0m\u001b[0;34m)\u001b[0m\u001b[0;34m\u001b[0m\u001b[0m\n\u001b[0m\u001b[1;32m   1646\u001b[0m             \u001b[0mres\u001b[0m \u001b[0;34m=\u001b[0m \u001b[0mself\u001b[0m\u001b[0;34m.\u001b[0m\u001b[0m_box_item_values\u001b[0m\u001b[0;34m(\u001b[0m\u001b[0mitem\u001b[0m\u001b[0;34m,\u001b[0m \u001b[0mvalues\u001b[0m\u001b[0;34m)\u001b[0m\u001b[0;34m\u001b[0m\u001b[0m\n\u001b[1;32m   1647\u001b[0m             \u001b[0mcache\u001b[0m\u001b[0;34m[\u001b[0m\u001b[0mitem\u001b[0m\u001b[0;34m]\u001b[0m \u001b[0;34m=\u001b[0m \u001b[0mres\u001b[0m\u001b[0;34m\u001b[0m\u001b[0m\n",
      "\u001b[0;32m/home/qwedsazxc78/anaconda3/envs/py36/lib/python3.6/site-packages/pandas/core/internals.py\u001b[0m in \u001b[0;36mget\u001b[0;34m(self, item, fastpath)\u001b[0m\n\u001b[1;32m   3588\u001b[0m \u001b[0;34m\u001b[0m\u001b[0m\n\u001b[1;32m   3589\u001b[0m             \u001b[0;32mif\u001b[0m \u001b[0;32mnot\u001b[0m \u001b[0misnull\u001b[0m\u001b[0;34m(\u001b[0m\u001b[0mitem\u001b[0m\u001b[0;34m)\u001b[0m\u001b[0;34m:\u001b[0m\u001b[0;34m\u001b[0m\u001b[0m\n\u001b[0;32m-> 3590\u001b[0;31m                 \u001b[0mloc\u001b[0m \u001b[0;34m=\u001b[0m \u001b[0mself\u001b[0m\u001b[0;34m.\u001b[0m\u001b[0mitems\u001b[0m\u001b[0;34m.\u001b[0m\u001b[0mget_loc\u001b[0m\u001b[0;34m(\u001b[0m\u001b[0mitem\u001b[0m\u001b[0;34m)\u001b[0m\u001b[0;34m\u001b[0m\u001b[0m\n\u001b[0m\u001b[1;32m   3591\u001b[0m             \u001b[0;32melse\u001b[0m\u001b[0;34m:\u001b[0m\u001b[0;34m\u001b[0m\u001b[0m\n\u001b[1;32m   3592\u001b[0m                 \u001b[0mindexer\u001b[0m \u001b[0;34m=\u001b[0m \u001b[0mnp\u001b[0m\u001b[0;34m.\u001b[0m\u001b[0marange\u001b[0m\u001b[0;34m(\u001b[0m\u001b[0mlen\u001b[0m\u001b[0;34m(\u001b[0m\u001b[0mself\u001b[0m\u001b[0;34m.\u001b[0m\u001b[0mitems\u001b[0m\u001b[0;34m)\u001b[0m\u001b[0;34m)\u001b[0m\u001b[0;34m[\u001b[0m\u001b[0misnull\u001b[0m\u001b[0;34m(\u001b[0m\u001b[0mself\u001b[0m\u001b[0;34m.\u001b[0m\u001b[0mitems\u001b[0m\u001b[0;34m)\u001b[0m\u001b[0;34m]\u001b[0m\u001b[0;34m\u001b[0m\u001b[0m\n",
      "\u001b[0;32m/home/qwedsazxc78/anaconda3/envs/py36/lib/python3.6/site-packages/pandas/core/indexes/base.py\u001b[0m in \u001b[0;36mget_loc\u001b[0;34m(self, key, method, tolerance)\u001b[0m\n\u001b[1;32m   2442\u001b[0m                 \u001b[0;32mreturn\u001b[0m \u001b[0mself\u001b[0m\u001b[0;34m.\u001b[0m\u001b[0m_engine\u001b[0m\u001b[0;34m.\u001b[0m\u001b[0mget_loc\u001b[0m\u001b[0;34m(\u001b[0m\u001b[0mkey\u001b[0m\u001b[0;34m)\u001b[0m\u001b[0;34m\u001b[0m\u001b[0m\n\u001b[1;32m   2443\u001b[0m             \u001b[0;32mexcept\u001b[0m \u001b[0mKeyError\u001b[0m\u001b[0;34m:\u001b[0m\u001b[0;34m\u001b[0m\u001b[0m\n\u001b[0;32m-> 2444\u001b[0;31m                 \u001b[0;32mreturn\u001b[0m \u001b[0mself\u001b[0m\u001b[0;34m.\u001b[0m\u001b[0m_engine\u001b[0m\u001b[0;34m.\u001b[0m\u001b[0mget_loc\u001b[0m\u001b[0;34m(\u001b[0m\u001b[0mself\u001b[0m\u001b[0;34m.\u001b[0m\u001b[0m_maybe_cast_indexer\u001b[0m\u001b[0;34m(\u001b[0m\u001b[0mkey\u001b[0m\u001b[0;34m)\u001b[0m\u001b[0;34m)\u001b[0m\u001b[0;34m\u001b[0m\u001b[0m\n\u001b[0m\u001b[1;32m   2445\u001b[0m \u001b[0;34m\u001b[0m\u001b[0m\n\u001b[1;32m   2446\u001b[0m         \u001b[0mindexer\u001b[0m \u001b[0;34m=\u001b[0m \u001b[0mself\u001b[0m\u001b[0;34m.\u001b[0m\u001b[0mget_indexer\u001b[0m\u001b[0;34m(\u001b[0m\u001b[0;34m[\u001b[0m\u001b[0mkey\u001b[0m\u001b[0;34m]\u001b[0m\u001b[0;34m,\u001b[0m \u001b[0mmethod\u001b[0m\u001b[0;34m=\u001b[0m\u001b[0mmethod\u001b[0m\u001b[0;34m,\u001b[0m \u001b[0mtolerance\u001b[0m\u001b[0;34m=\u001b[0m\u001b[0mtolerance\u001b[0m\u001b[0;34m)\u001b[0m\u001b[0;34m\u001b[0m\u001b[0m\n",
      "\u001b[0;32mpandas/_libs/index.pyx\u001b[0m in \u001b[0;36mpandas._libs.index.IndexEngine.get_loc (pandas/_libs/index.c:5280)\u001b[0;34m()\u001b[0m\n",
      "\u001b[0;32mpandas/_libs/index.pyx\u001b[0m in \u001b[0;36mpandas._libs.index.IndexEngine.get_loc (pandas/_libs/index.c:5126)\u001b[0;34m()\u001b[0m\n",
      "\u001b[0;32mpandas/_libs/hashtable_class_helper.pxi\u001b[0m in \u001b[0;36mpandas._libs.hashtable.PyObjectHashTable.get_item (pandas/_libs/hashtable.c:20523)\u001b[0;34m()\u001b[0m\n",
      "\u001b[0;32mpandas/_libs/hashtable_class_helper.pxi\u001b[0m in \u001b[0;36mpandas._libs.hashtable.PyObjectHashTable.get_item (pandas/_libs/hashtable.c:20477)\u001b[0;34m()\u001b[0m\n",
      "\u001b[0;31mKeyError\u001b[0m: 'Mag1_X'"
     ]
    }
   ],
   "source": [
    "def csv_file_get_key(csv_name, key):\n",
    "    strlist = csvFile.replace(\".\",\" \").replace(\",\",\" \").replace(\"_\",\" \").split(\" \")\n",
    "    return strlist[key]\n",
    "\n",
    "# for csvFile in csvFiles:\n",
    "csvFile = csvFiles[2]\n",
    "car_category = csv_file_get_key(csvFile, 1)\n",
    "print(car_category)\n",
    "# car_category = \"tercel\"\n",
    "car_brand = \"nisson\"\n",
    "\n",
    "csvRawDataName = Rawdata_folderName + csvFile\n",
    "csvNewDataName = Newdata_folderName + \"New_\" + csvFile\n",
    "\n",
    "# can change by string funciton\n",
    "if csvFile.find(\"back\") != -1:\n",
    "    car_in_out_type = \"Backward\"\n",
    "elif csvFile.find(\"forward\") != -1:\n",
    "    car_in_out_type = \"Forward\"\n",
    "elif csvFile.find(\"side\") != -1:\n",
    "    car_in_out_type = \"Sideway\"\n",
    "\n",
    "Experiment_Mag_number = 4\n",
    "Experiment_Mag_Env_number = 10\n",
    "\n",
    "\n",
    "df = pd.read_csv(csvRawDataName)\n",
    "df = get_mag_len(df, Experiment_Mag_number)\n",
    "df = get_mag_env(df, Experiment_Mag_number, Experiment_Mag_Env_number)\n",
    "df = get_mag_car_field(df, Experiment_Mag_number)\n",
    "df = get_car_brand(df, car_brand, car_category)\n",
    "df = get_car_in_out_type(df, car_in_out_type)\n",
    "\n",
    "# clustering\n",
    "Kmean_feature = [\"Mag1_CarX\",\"Mag1_CarY\",\"Mag1_CarZ\"]\n",
    "df = get_kmean_label(df, Kmean_feature)\n",
    "df = df[sorted(df.columns)]\n",
    "df.to_csv(csvNewDataName)\n",
    "\n",
    "plt.figure(); \n",
    "df.plot(x='time', y=['Mag1_CarLen','Mag2_CarLen','Mag3_CarLen','Mag4_CarLen', 'Class'], grid = True);\n"
   ]
  },
  {
   "cell_type": "code",
   "execution_count": 15,
   "metadata": {},
   "outputs": [
    {
     "data": {
      "text/plain": [
       "'nisson_bluebird_backward_in.csv'"
      ]
     },
     "execution_count": 15,
     "metadata": {},
     "output_type": "execute_result"
    }
   ],
   "source": [
    "csvFile"
   ]
  },
  {
   "cell_type": "code",
   "execution_count": 14,
   "metadata": {
    "scrolled": true
   },
   "outputs": [
    {
     "ename": "KeyError",
     "evalue": "'Mag1_X'",
     "output_type": "error",
     "traceback": [
      "\u001b[0;31m---------------------------------------------------------------------------\u001b[0m",
      "\u001b[0;31mKeyError\u001b[0m                                  Traceback (most recent call last)",
      "\u001b[0;32m/home/qwedsazxc78/anaconda3/envs/py36/lib/python3.6/site-packages/pandas/core/indexes/base.py\u001b[0m in \u001b[0;36mget_loc\u001b[0;34m(self, key, method, tolerance)\u001b[0m\n\u001b[1;32m   2441\u001b[0m             \u001b[0;32mtry\u001b[0m\u001b[0;34m:\u001b[0m\u001b[0;34m\u001b[0m\u001b[0m\n\u001b[0;32m-> 2442\u001b[0;31m                 \u001b[0;32mreturn\u001b[0m \u001b[0mself\u001b[0m\u001b[0;34m.\u001b[0m\u001b[0m_engine\u001b[0m\u001b[0;34m.\u001b[0m\u001b[0mget_loc\u001b[0m\u001b[0;34m(\u001b[0m\u001b[0mkey\u001b[0m\u001b[0;34m)\u001b[0m\u001b[0;34m\u001b[0m\u001b[0m\n\u001b[0m\u001b[1;32m   2443\u001b[0m             \u001b[0;32mexcept\u001b[0m \u001b[0mKeyError\u001b[0m\u001b[0;34m:\u001b[0m\u001b[0;34m\u001b[0m\u001b[0m\n",
      "\u001b[0;32mpandas/_libs/index.pyx\u001b[0m in \u001b[0;36mpandas._libs.index.IndexEngine.get_loc (pandas/_libs/index.c:5280)\u001b[0;34m()\u001b[0m\n",
      "\u001b[0;32mpandas/_libs/index.pyx\u001b[0m in \u001b[0;36mpandas._libs.index.IndexEngine.get_loc (pandas/_libs/index.c:5126)\u001b[0;34m()\u001b[0m\n",
      "\u001b[0;32mpandas/_libs/hashtable_class_helper.pxi\u001b[0m in \u001b[0;36mpandas._libs.hashtable.PyObjectHashTable.get_item (pandas/_libs/hashtable.c:20523)\u001b[0;34m()\u001b[0m\n",
      "\u001b[0;32mpandas/_libs/hashtable_class_helper.pxi\u001b[0m in \u001b[0;36mpandas._libs.hashtable.PyObjectHashTable.get_item (pandas/_libs/hashtable.c:20477)\u001b[0;34m()\u001b[0m\n",
      "\u001b[0;31mKeyError\u001b[0m: 'Mag1_X'",
      "\nDuring handling of the above exception, another exception occurred:\n",
      "\u001b[0;31mKeyError\u001b[0m                                  Traceback (most recent call last)",
      "\u001b[0;32m<ipython-input-14-de4a314f9eb6>\u001b[0m in \u001b[0;36m<module>\u001b[0;34m()\u001b[0m\n\u001b[0;32m----> 1\u001b[0;31m \u001b[0mdf\u001b[0m\u001b[0;34m[\u001b[0m\u001b[0;34m\"Mag1_X\"\u001b[0m\u001b[0;34m]\u001b[0m\u001b[0;34m\u001b[0m\u001b[0m\n\u001b[0m",
      "\u001b[0;32m/home/qwedsazxc78/anaconda3/envs/py36/lib/python3.6/site-packages/pandas/core/frame.py\u001b[0m in \u001b[0;36m__getitem__\u001b[0;34m(self, key)\u001b[0m\n\u001b[1;32m   1962\u001b[0m             \u001b[0;32mreturn\u001b[0m \u001b[0mself\u001b[0m\u001b[0;34m.\u001b[0m\u001b[0m_getitem_multilevel\u001b[0m\u001b[0;34m(\u001b[0m\u001b[0mkey\u001b[0m\u001b[0;34m)\u001b[0m\u001b[0;34m\u001b[0m\u001b[0m\n\u001b[1;32m   1963\u001b[0m         \u001b[0;32melse\u001b[0m\u001b[0;34m:\u001b[0m\u001b[0;34m\u001b[0m\u001b[0m\n\u001b[0;32m-> 1964\u001b[0;31m             \u001b[0;32mreturn\u001b[0m \u001b[0mself\u001b[0m\u001b[0;34m.\u001b[0m\u001b[0m_getitem_column\u001b[0m\u001b[0;34m(\u001b[0m\u001b[0mkey\u001b[0m\u001b[0;34m)\u001b[0m\u001b[0;34m\u001b[0m\u001b[0m\n\u001b[0m\u001b[1;32m   1965\u001b[0m \u001b[0;34m\u001b[0m\u001b[0m\n\u001b[1;32m   1966\u001b[0m     \u001b[0;32mdef\u001b[0m \u001b[0m_getitem_column\u001b[0m\u001b[0;34m(\u001b[0m\u001b[0mself\u001b[0m\u001b[0;34m,\u001b[0m \u001b[0mkey\u001b[0m\u001b[0;34m)\u001b[0m\u001b[0;34m:\u001b[0m\u001b[0;34m\u001b[0m\u001b[0m\n",
      "\u001b[0;32m/home/qwedsazxc78/anaconda3/envs/py36/lib/python3.6/site-packages/pandas/core/frame.py\u001b[0m in \u001b[0;36m_getitem_column\u001b[0;34m(self, key)\u001b[0m\n\u001b[1;32m   1969\u001b[0m         \u001b[0;31m# get column\u001b[0m\u001b[0;34m\u001b[0m\u001b[0;34m\u001b[0m\u001b[0m\n\u001b[1;32m   1970\u001b[0m         \u001b[0;32mif\u001b[0m \u001b[0mself\u001b[0m\u001b[0;34m.\u001b[0m\u001b[0mcolumns\u001b[0m\u001b[0;34m.\u001b[0m\u001b[0mis_unique\u001b[0m\u001b[0;34m:\u001b[0m\u001b[0;34m\u001b[0m\u001b[0m\n\u001b[0;32m-> 1971\u001b[0;31m             \u001b[0;32mreturn\u001b[0m \u001b[0mself\u001b[0m\u001b[0;34m.\u001b[0m\u001b[0m_get_item_cache\u001b[0m\u001b[0;34m(\u001b[0m\u001b[0mkey\u001b[0m\u001b[0;34m)\u001b[0m\u001b[0;34m\u001b[0m\u001b[0m\n\u001b[0m\u001b[1;32m   1972\u001b[0m \u001b[0;34m\u001b[0m\u001b[0m\n\u001b[1;32m   1973\u001b[0m         \u001b[0;31m# duplicate columns & possible reduce dimensionality\u001b[0m\u001b[0;34m\u001b[0m\u001b[0;34m\u001b[0m\u001b[0m\n",
      "\u001b[0;32m/home/qwedsazxc78/anaconda3/envs/py36/lib/python3.6/site-packages/pandas/core/generic.py\u001b[0m in \u001b[0;36m_get_item_cache\u001b[0;34m(self, item)\u001b[0m\n\u001b[1;32m   1643\u001b[0m         \u001b[0mres\u001b[0m \u001b[0;34m=\u001b[0m \u001b[0mcache\u001b[0m\u001b[0;34m.\u001b[0m\u001b[0mget\u001b[0m\u001b[0;34m(\u001b[0m\u001b[0mitem\u001b[0m\u001b[0;34m)\u001b[0m\u001b[0;34m\u001b[0m\u001b[0m\n\u001b[1;32m   1644\u001b[0m         \u001b[0;32mif\u001b[0m \u001b[0mres\u001b[0m \u001b[0;32mis\u001b[0m \u001b[0;32mNone\u001b[0m\u001b[0;34m:\u001b[0m\u001b[0;34m\u001b[0m\u001b[0m\n\u001b[0;32m-> 1645\u001b[0;31m             \u001b[0mvalues\u001b[0m \u001b[0;34m=\u001b[0m \u001b[0mself\u001b[0m\u001b[0;34m.\u001b[0m\u001b[0m_data\u001b[0m\u001b[0;34m.\u001b[0m\u001b[0mget\u001b[0m\u001b[0;34m(\u001b[0m\u001b[0mitem\u001b[0m\u001b[0;34m)\u001b[0m\u001b[0;34m\u001b[0m\u001b[0m\n\u001b[0m\u001b[1;32m   1646\u001b[0m             \u001b[0mres\u001b[0m \u001b[0;34m=\u001b[0m \u001b[0mself\u001b[0m\u001b[0;34m.\u001b[0m\u001b[0m_box_item_values\u001b[0m\u001b[0;34m(\u001b[0m\u001b[0mitem\u001b[0m\u001b[0;34m,\u001b[0m \u001b[0mvalues\u001b[0m\u001b[0;34m)\u001b[0m\u001b[0;34m\u001b[0m\u001b[0m\n\u001b[1;32m   1647\u001b[0m             \u001b[0mcache\u001b[0m\u001b[0;34m[\u001b[0m\u001b[0mitem\u001b[0m\u001b[0;34m]\u001b[0m \u001b[0;34m=\u001b[0m \u001b[0mres\u001b[0m\u001b[0;34m\u001b[0m\u001b[0m\n",
      "\u001b[0;32m/home/qwedsazxc78/anaconda3/envs/py36/lib/python3.6/site-packages/pandas/core/internals.py\u001b[0m in \u001b[0;36mget\u001b[0;34m(self, item, fastpath)\u001b[0m\n\u001b[1;32m   3588\u001b[0m \u001b[0;34m\u001b[0m\u001b[0m\n\u001b[1;32m   3589\u001b[0m             \u001b[0;32mif\u001b[0m \u001b[0;32mnot\u001b[0m \u001b[0misnull\u001b[0m\u001b[0;34m(\u001b[0m\u001b[0mitem\u001b[0m\u001b[0;34m)\u001b[0m\u001b[0;34m:\u001b[0m\u001b[0;34m\u001b[0m\u001b[0m\n\u001b[0;32m-> 3590\u001b[0;31m                 \u001b[0mloc\u001b[0m \u001b[0;34m=\u001b[0m \u001b[0mself\u001b[0m\u001b[0;34m.\u001b[0m\u001b[0mitems\u001b[0m\u001b[0;34m.\u001b[0m\u001b[0mget_loc\u001b[0m\u001b[0;34m(\u001b[0m\u001b[0mitem\u001b[0m\u001b[0;34m)\u001b[0m\u001b[0;34m\u001b[0m\u001b[0m\n\u001b[0m\u001b[1;32m   3591\u001b[0m             \u001b[0;32melse\u001b[0m\u001b[0;34m:\u001b[0m\u001b[0;34m\u001b[0m\u001b[0m\n\u001b[1;32m   3592\u001b[0m                 \u001b[0mindexer\u001b[0m \u001b[0;34m=\u001b[0m \u001b[0mnp\u001b[0m\u001b[0;34m.\u001b[0m\u001b[0marange\u001b[0m\u001b[0;34m(\u001b[0m\u001b[0mlen\u001b[0m\u001b[0;34m(\u001b[0m\u001b[0mself\u001b[0m\u001b[0;34m.\u001b[0m\u001b[0mitems\u001b[0m\u001b[0;34m)\u001b[0m\u001b[0;34m)\u001b[0m\u001b[0;34m[\u001b[0m\u001b[0misnull\u001b[0m\u001b[0;34m(\u001b[0m\u001b[0mself\u001b[0m\u001b[0;34m.\u001b[0m\u001b[0mitems\u001b[0m\u001b[0;34m)\u001b[0m\u001b[0;34m]\u001b[0m\u001b[0;34m\u001b[0m\u001b[0m\n",
      "\u001b[0;32m/home/qwedsazxc78/anaconda3/envs/py36/lib/python3.6/site-packages/pandas/core/indexes/base.py\u001b[0m in \u001b[0;36mget_loc\u001b[0;34m(self, key, method, tolerance)\u001b[0m\n\u001b[1;32m   2442\u001b[0m                 \u001b[0;32mreturn\u001b[0m \u001b[0mself\u001b[0m\u001b[0;34m.\u001b[0m\u001b[0m_engine\u001b[0m\u001b[0;34m.\u001b[0m\u001b[0mget_loc\u001b[0m\u001b[0;34m(\u001b[0m\u001b[0mkey\u001b[0m\u001b[0;34m)\u001b[0m\u001b[0;34m\u001b[0m\u001b[0m\n\u001b[1;32m   2443\u001b[0m             \u001b[0;32mexcept\u001b[0m \u001b[0mKeyError\u001b[0m\u001b[0;34m:\u001b[0m\u001b[0;34m\u001b[0m\u001b[0m\n\u001b[0;32m-> 2444\u001b[0;31m                 \u001b[0;32mreturn\u001b[0m \u001b[0mself\u001b[0m\u001b[0;34m.\u001b[0m\u001b[0m_engine\u001b[0m\u001b[0;34m.\u001b[0m\u001b[0mget_loc\u001b[0m\u001b[0;34m(\u001b[0m\u001b[0mself\u001b[0m\u001b[0;34m.\u001b[0m\u001b[0m_maybe_cast_indexer\u001b[0m\u001b[0;34m(\u001b[0m\u001b[0mkey\u001b[0m\u001b[0;34m)\u001b[0m\u001b[0;34m)\u001b[0m\u001b[0;34m\u001b[0m\u001b[0m\n\u001b[0m\u001b[1;32m   2445\u001b[0m \u001b[0;34m\u001b[0m\u001b[0m\n\u001b[1;32m   2446\u001b[0m         \u001b[0mindexer\u001b[0m \u001b[0;34m=\u001b[0m \u001b[0mself\u001b[0m\u001b[0;34m.\u001b[0m\u001b[0mget_indexer\u001b[0m\u001b[0;34m(\u001b[0m\u001b[0;34m[\u001b[0m\u001b[0mkey\u001b[0m\u001b[0;34m]\u001b[0m\u001b[0;34m,\u001b[0m \u001b[0mmethod\u001b[0m\u001b[0;34m=\u001b[0m\u001b[0mmethod\u001b[0m\u001b[0;34m,\u001b[0m \u001b[0mtolerance\u001b[0m\u001b[0;34m=\u001b[0m\u001b[0mtolerance\u001b[0m\u001b[0;34m)\u001b[0m\u001b[0;34m\u001b[0m\u001b[0m\n",
      "\u001b[0;32mpandas/_libs/index.pyx\u001b[0m in \u001b[0;36mpandas._libs.index.IndexEngine.get_loc (pandas/_libs/index.c:5280)\u001b[0;34m()\u001b[0m\n",
      "\u001b[0;32mpandas/_libs/index.pyx\u001b[0m in \u001b[0;36mpandas._libs.index.IndexEngine.get_loc (pandas/_libs/index.c:5126)\u001b[0;34m()\u001b[0m\n",
      "\u001b[0;32mpandas/_libs/hashtable_class_helper.pxi\u001b[0m in \u001b[0;36mpandas._libs.hashtable.PyObjectHashTable.get_item (pandas/_libs/hashtable.c:20523)\u001b[0;34m()\u001b[0m\n",
      "\u001b[0;32mpandas/_libs/hashtable_class_helper.pxi\u001b[0m in \u001b[0;36mpandas._libs.hashtable.PyObjectHashTable.get_item (pandas/_libs/hashtable.c:20477)\u001b[0;34m()\u001b[0m\n",
      "\u001b[0;31mKeyError\u001b[0m: 'Mag1_X'"
     ]
    }
   ],
   "source": [
    "df.Mag1"
   ]
  },
  {
   "cell_type": "code",
   "execution_count": 48,
   "metadata": {
    "collapsed": true
   },
   "outputs": [],
   "source": [
    "def prase_node_data(df, mag_number, csv_path, csvFile):\n",
    "    namelist = df.columns\n",
    "    feature_name = ['Mag_CarLen', 'Mag_CarX','Mag_CarY','Mag_CarZ',\n",
    "    'Mag_EnvX','Mag_EnvY','Mag_EnvZ','Mag_Len','Mag_X','Mag_Y','Mag_Z']\n",
    "    \n",
    "    for i in range(mag_number):\n",
    "        mag_df = pd\n",
    "        mag_start = namelist.get_loc(\"Mag\" + str(i+1) + \"_CarLen\")\n",
    "        mag_end   = namelist.get_loc(\"Mag\" + str(i+1) + \"_Z\")    \n",
    "        mag_df    = df.iloc[:,:namelist.get_loc(\"Forward\") +1 ]\n",
    "        mag_df[\"Sideway\"] = df[\"Sideway\"]\n",
    "        mag_df[\"time\"] = df[\"time\"]\n",
    "        mag_df[feature_name] = df[namelist[mag_start:mag_end+1]]\n",
    "        csvFilepath = csv_path + \"Mag\"+ str(i+1) + \"_\"+ csvFile\n",
    "#         print(csvFilepath)\n",
    "        mag_df.to_csv(csvFilepath)\n",
    "\n",
    "        \n",
    "csvNewFiles = [f for f in listdir(Newdata_folderName) if isfile(join(Newdata_folderName, f)) and f[-3:] == \"csv\" ]\n",
    "\n",
    "for csvFile in csvNewFiles:\n",
    "    csvName = Newdata_folderName + csvFile\n",
    "    df_new = pd.read_csv(csvName, index_col = 0 )\n",
    "    prase_node_data(df_new, 4, Prasedata_folderName, csvFile)\n"
   ]
  },
  {
   "cell_type": "markdown",
   "metadata": {
    "collapsed": true
   },
   "source": [
    "## test algorithm "
   ]
  },
  {
   "cell_type": "code",
   "execution_count": 49,
   "metadata": {},
   "outputs": [
    {
     "data": {
      "text/plain": [
       "['Mag1_New_clotplus_back_in.csv',\n",
       " 'Mag1_New_clotplus_forward_in.csv',\n",
       " 'Mag1_New_tercel_backward_in.csv',\n",
       " 'Mag1_New_tercel_forward_in.csv',\n",
       " 'Mag2_New_clotplus_back_in.csv',\n",
       " 'Mag2_New_clotplus_forward_in.csv',\n",
       " 'Mag2_New_tercel_backward_in.csv',\n",
       " 'Mag2_New_tercel_forward_in.csv',\n",
       " 'Mag3_New_clotplus_back_in.csv',\n",
       " 'Mag3_New_clotplus_forward_in.csv',\n",
       " 'Mag3_New_tercel_backward_in.csv',\n",
       " 'Mag3_New_tercel_forward_in.csv',\n",
       " 'Mag4_New_clotplus_back_in.csv',\n",
       " 'Mag4_New_clotplus_forward_in.csv',\n",
       " 'Mag4_New_tercel_backward_in.csv',\n",
       " 'Mag4_New_tercel_forward_in.csv']"
      ]
     },
     "execution_count": 49,
     "metadata": {},
     "output_type": "execute_result"
    }
   ],
   "source": [
    "Mag_csvFiles = [f for f in listdir(Prasedata_folderName) if isfile(join(Prasedata_folderName, f)) and f[-3:] == \"csv\"]\n",
    "Mag_csvFiles.sort()\n",
    "Mag_csvFiles"
   ]
  },
  {
   "cell_type": "code",
   "execution_count": 54,
   "metadata": {},
   "outputs": [
    {
     "name": "stdout",
     "output_type": "stream",
     "text": [
      "train_data :  (299, 21)\n",
      "target_data:  (299,)\n"
     ]
    },
    {
     "data": {
      "text/plain": [
       "<matplotlib.legend.Legend at 0x7f64c499e898>"
      ]
     },
     "execution_count": 54,
     "metadata": {},
     "output_type": "execute_result"
    },
    {
     "data": {
      "image/png": "[encoded data removed]",
      "text/plain": [
       "<matplotlib.figure.Figure at 0x7f64c499ea58>"
      ]
     },
     "metadata": {},
     "output_type": "display_data"
    }
   ],
   "source": [
    "def get_algorithm_feature(df):\n",
    "\n",
    "    EnvX = df['Mag_EnvX'][0]\n",
    "    EnvY = df['Mag_EnvY'][0]\n",
    "    EnvZ = df['Mag_EnvZ'][0]\n",
    "    Detection = Car_Detection(EnvX, EnvY, EnvZ)\n",
    "    \n",
    "    # implement detection method(10)\n",
    "    df[\"Mag_Zcompoment_norm\"] = df.apply(lambda row: Detection.detect_1_Zcompoment_norm(row['Mag_X'], row['Mag_Y'], row['Mag_Z']), axis = 1)\n",
    "    df[\"Mag_performance_XY_plane\"] = 500 * df.apply(lambda row: Detection.detect_2_performance_XY_plane(row['Mag_X'], row['Mag_Y'], row['Mag_Z']), axis = 1)\n",
    "    df[\"Mag_cosine_variations_product_XY_plane\"] = df.apply(lambda row: Detection.detect_3_cosine_variations_product_XY_plane(row['Mag_X'], row['Mag_Y'], row['Mag_Z']), axis = 1)\n",
    "    df[\"Mag_cosine_variations_Kcriterion\"] = df.apply(lambda row: Detection.detect_4_cosine_variations_Kcriterion(row['Mag_X'], row['Mag_Y'], row['Mag_Z']), axis = 1)\n",
    "    df[\"Mag_square_deviation\"] = df.apply(lambda row: Detection.detect_5_square_deviation(row['Mag_X'], row['Mag_Y'], row['Mag_Z']), axis = 1)\n",
    "    df[\"Mag_vectorial_deviation\"] = 1000 * df.apply(lambda row: Detection.detect_6_vectorial_deviation(row['Mag_X'], row['Mag_Y'], row['Mag_Z']), axis = 1)\n",
    "    df[\"Mag_combined_vectorial_deviation\"] = 1000 * df.apply(lambda row: Detection.detect_7_combined_vectorial_deviation(row['Mag_X'], row['Mag_Y'], row['Mag_Z']), axis = 1)\n",
    "    df[\"Mag_weighting_vectorial_deviation\"] = 1000 * df.apply(lambda row: Detection.detect_8_weighting_vectorial_deviation(row['Mag_X'], row['Mag_Y'], row['Mag_Z']), axis = 1)\n",
    "    df[\"Mag_each_axis_difference\"] = df.apply(lambda row: Detection.detect_9_each_axis_difference(row['Mag_X'], row['Mag_Y'], row['Mag_Z']), axis = 1)\n",
    "    df[\"Mag_each_axis_distance\"] = df.apply(lambda row: Detection.detect_10_each_axis_distance(row['Mag_X'], row['Mag_Y'], row['Mag_Z']), axis = 1)\n",
    "\n",
    "    return df\n",
    "\n",
    "\n",
    "Mag_csvFiles = [f for f in listdir(Prasedata_folderName) if isfile(join(Prasedata_folderName, f)) and f[-3:] == \"csv\"]\n",
    "Mag_csvFiles.sort()\n",
    "\n",
    "Mag_csvFile = Prasedata_folderName + Mag_csvFiles[0]\n",
    "mag_df = pd.read_csv(Mag_csvFile, index_col = 0 )\n",
    "mag_df = get_algorithm_feature(mag_df)\n",
    "\n",
    "feature_start_index = mag_df.columns.get_loc(\"Mag_CarLen\") \n",
    "feature_list = list(mag_df.columns[feature_start_index:]) \n",
    "train_data  = mag_df[feature_list]\n",
    "target_data = mag_df[\"Class_Target\"]\n",
    "print(\"train_data : \", train_data.shape)\n",
    "print(\"target_data: \", target_data.shape)\n",
    "\n",
    "# plt.figure(figsize = (10, 8))\n",
    "# mag_df.plot(x = 'time', y = ['Mag_CarLen', 'Mag_Zcompoment_norm', 'Mag_performance_XY_plane',\n",
    "#     'Mag_cosine_variations_product_XY_plane', 'Mag_cosine_variations_Kcriterion',\n",
    "#     'Class'\n",
    "# ], grid = True)\n",
    "# plt.legend(bbox_to_anchor = (1.05, 1.05), ncol = 3, fancybox = True, shadow = True)\n",
    "\n",
    "\n",
    "# mag_df.plot(x = 'time', y = ['Mag_CarLen',\n",
    "#     'Mag_square_deviation', 'Mag_vectorial_deviation',\n",
    "#     'Mag_combined_vectorial_deviation', 'Mag_weighting_vectorial_deviation',\n",
    "#     'Class'\n",
    "# ], grid = True)\n",
    "# plt.legend(bbox_to_anchor = (1.05, 1.05), ncol = 3, fancybox = True, shadow = True)\n",
    "\n",
    "\n",
    "# mag_df.plot(x = 'time', y = ['Mag_CarLen',\n",
    "#     'Mag_each_axis_difference', 'Mag_each_axis_distance',\n",
    "#     'Class'\n",
    "# ], grid = True)\n",
    "# plt.legend(bbox_to_anchor = (1.05, 1.05), ncol = 3, fancybox = True, shadow = True)\n",
    "\n",
    "mag_df.plot(x = 'time', y = ['Mag_each_axis_difference', 'Mag_performance_XY_plane',\n",
    "    'Mag_each_axis_distance', 'Mag_square_deviation','Mag_vectorial_deviation',\n",
    "    'Class'\n",
    "], grid = True)\n",
    "plt.legend(bbox_to_anchor = (1.05, 1.05), ncol = 3, fancybox = True, shadow = True)\n",
    "\n",
    "\n"
   ]
  },
  {
   "cell_type": "code",
   "execution_count": null,
   "metadata": {
    "collapsed": true
   },
   "outputs": [],
   "source": [
    "feature_list = [\"Mag_each_axis_difference\",\"Mag_each_axis_distance\",\"Mag_square_deviation\",\n",
    "                \"Mag_performance_XY_plane\",\"Mag_vectorial_deviation\"]\n",
    "\n",
    "for csvFile in Mag_csvFiles:\n",
    "    Mag_csvFile = Prasedata_folderName + csvFile\n",
    "    mag_df = pd.read_csv(Mag_csvFile, index_col = 0 )\n",
    "    mag_df = get_algorithm_feature(mag_df)\n",
    "    mag_df.to_csv(Mag_csvFile)\n",
    "\n",
    "    train_data  = mag_df[feature_list]\n",
    "    target_data = mag_df[\"Class_Target\"]\n",
    "    \n",
    "    print(\"\\n-----------------------\", csvFile, \"---------------------- \")\n",
    "#     print(mag_df.columns)\n",
    "    model_RandomForest  = set_Training_RandomForest(train_data, target_data)\n",
    "    get_FeatureImportance(model_RandomForest, feature_list, 0.1)"
   ]
  },
  {
   "cell_type": "code",
   "execution_count": null,
   "metadata": {
    "collapsed": true
   },
   "outputs": [],
   "source": [
    "for csvFile in Mag_csvFiles:\n",
    "    Mag_csvFile = Prasedata_folderName + csvFile\n",
    "    mag_df = pd.read_csv(Mag_csvFile, index_col = 0 )\n",
    "    mag_df = get_algorithm_feature(mag_df)\n",
    "    mag_df.to_csv(Mag_csvFile)\n",
    "\n",
    "    feature_start_index = mag_df.columns.get_loc(\"Mag_Zcompoment_norm\")\n",
    "#     feature_start_index = mag_df.columns.get_loc(\"Mag_CarLen\") \n",
    "    feature_list = list(mag_df.columns[feature_start_index:]) \n",
    "    train_data  = mag_df[feature_list]\n",
    "    target_data = mag_df[\"Class_Target\"]\n",
    "    \n",
    "    print(\"\\n-----------------------\", csvFile, \"---------------------- \")\n",
    "#     print(mag_df.columns)\n",
    "    model_RandomForest  = set_Training_RandomForest(train_data, target_data)\n",
    "    get_FeatureImportance(model_RandomForest, feature_list, 0.05)"
   ]
  },
  {
   "cell_type": "markdown",
   "metadata": {},
   "source": [
    "## Random Forest"
   ]
  },
  {
   "cell_type": "code",
   "execution_count": 219,
   "metadata": {},
   "outputs": [
    {
     "name": "stdout",
     "output_type": "stream",
     "text": [
      "Test Model Score:  0.988505747126\n",
      "Click Rate:  38.5416666667 %\n",
      "Feature ranking:\n",
      "1. feature 2 - Mag_square_deviation (0.351127)\n",
      "2. feature 3 - Mag_performance_XY_plane (0.248362)\n",
      "3. feature 1 - Mag_each_axis_distance (0.172470)\n",
      "4. feature 0 - Mag_each_axis_difference (0.114911)\n",
      "5. feature 4 - Mag_vectorial_deviation (0.113130)\n"
     ]
    },
    {
     "data": {
      "image/png": "[encoded data removed]",
      "text/plain": [
       "<matplotlib.figure.Figure at 0x7feba7cfa9e8>"
      ]
     },
     "metadata": {},
     "output_type": "display_data"
    }
   ],
   "source": [
    "model_RandomForest  = set_Training_RandomForest(train_data, target_data)\n",
    "# model_LogisticRegression = set_Training_LogisticRegression(train_data, target_data)\n",
    "\n",
    "get_FeatureImportance(model_RandomForest, feature_list)\n",
    "get_FeatureImportance_Boxplot(model_RandomForest, feature_list)"
   ]
  },
  {
   "cell_type": "code",
   "execution_count": 31,
   "metadata": {},
   "outputs": [
    {
     "data": {
      "text/plain": [
       "array([ 0.11754451,  0.0187946 ,  0.10444065,  0.00155457,  0.        ,\n",
       "        0.        ,  0.        ,  0.04508185,  0.02642953,  0.10254274,\n",
       "        0.00111874,  0.00103513,  0.08960469,  0.00500738,  0.02376417,\n",
       "        0.13812739,  0.04764345,  0.02547576,  0.01708163,  0.07989427,\n",
       "        0.15485893])"
      ]
     },
     "execution_count": 31,
     "metadata": {},
     "output_type": "execute_result"
    }
   ],
   "source": []
  },
  {
   "cell_type": "code",
   "execution_count": null,
   "metadata": {
    "collapsed": true
   },
   "outputs": [],
   "source": []
  }
 ],
 "metadata": {
  "kernelspec": {
   "display_name": "Python (myenv-py36)",
   "language": "python",
   "name": "py36"
  },
  "language_info": {
   "codemirror_mode": {
    "name": "ipython",
    "version": 3
   },
   "file_extension": ".py",
   "mimetype": "text/x-python",
   "name": "python",
   "nbconvert_exporter": "python",
   "pygments_lexer": "ipython3",
   "version": "3.6.1"
  }
 },
 "nbformat": 4,
 "nbformat_minor": 2
}
