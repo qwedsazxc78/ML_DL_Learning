{
 "cells": [
  {
   "cell_type": "markdown",
   "metadata": {},
   "source": [
    "## Detection algorithm "
   ]
  },
  {
   "cell_type": "code",
   "execution_count": 8,
   "metadata": {},
   "outputs": [],
   "source": [
    "#-*- coding=utf-8 -*-\n",
    "import requests\n",
    "import json\n",
    "import time\n",
    "import hashlib\n",
    "import pandas as pd\n",
    "from datetime import datetime\n",
    "import matplotlib.pyplot as plt\n",
    "from mpl_toolkits.mplot3d import Axes3D\n",
    "import numpy as np\n",
    "from numpy import linalg as LA\n",
    "from os import listdir\n",
    "from os.path import isfile, join\n",
    "from datetime import datetime\n",
    "import os, sys, errno\n",
    "import threading\n",
    "from sklearn.cluster import KMeans\n",
    "from sklearn.datasets import make_blobs\n",
    "from sklearn.linear_model import LinearRegression\n",
    "from sklearn.linear_model import LogisticRegression\n",
    "from sklearn.ensemble import RandomForestClassifier\n",
    "# from sklearn.cross_validation import cross_val_score\n",
    "from sklearn.model_selection import train_test_split\n",
    "from sklearn import preprocessing\n",
    "from CarDetection_Module.Car_Detection import Car_Detection \n",
    "from CarDetection_Module.detect_algorithm import detect_algorithm\n",
    "\n",
    "%matplotlib inline\n",
    "\n",
    "\n",
    "#################### function list ###################\n",
    "def check_file_path_exist(csvName):\n",
    "    if not os.path.exists(os.path.dirname(csvName)):\n",
    "        try:\n",
    "            os.makedirs(os.path.dirname(csvName))\n",
    "        except OSError as exc: # Guard against race condition\n",
    "            if exc.errno != errno.EEXIST:\n",
    "                raise\n",
    "                \n",
    "def get_mag_len(df, mag_number):\n",
    "    for i in range(mag_number):\n",
    "        df[\"Mag\" + str(i+1) + \"_Len\"] = (df[\"Mag\" + str(i+1) +\"_X\"].pow(2) + df[\"Mag\" + str(i+1) +\"_Y\"].pow(2) + df[\"Mag\" + str(i+1) +\"_Z\"].pow(2) ).pow(0.5)\n",
    "    return df\n",
    "\n",
    "def get_mag_env(df, mag_number, offset_points):\n",
    "#     for i in range(mag_number):\n",
    "#         df[\"Mag\" + str(i+1) + \"_EnvX\"] = df[\"Mag\" + str(i+1) +\"_X\"][:offset_points].mean()\n",
    "#         df[\"Mag\" + str(i+1) + \"_EnvY\"] = df[\"Mag\" + str(i+1) +\"_Y\"][:offset_points].mean()\n",
    "#         df[\"Mag\" + str(i+1) + \"_EnvZ\"] = df[\"Mag\" + str(i+1) +\"_Z\"][:offset_points].mean()\n",
    "    for i in range(mag_number):\n",
    "        df[\"Mag\" + str(i+1) + \"_EnvX\"] = df[\"EnvMag\" + str(i+1) +\"_X\"]\n",
    "        df[\"Mag\" + str(i+1) + \"_EnvY\"] = df[\"EnvMag\" + str(i+1) +\"_Y\"]\n",
    "        df[\"Mag\" + str(i+1) + \"_EnvZ\"] = df[\"EnvMag\" + str(i+1) +\"_Z\"]\n",
    "\n",
    "    return df\n",
    "\n",
    "def get_mag_car_field(df, mag_number):\n",
    "    for i in range(mag_number):\n",
    "        df[\"Mag\" + str(i+1) + \"_CarX\"] = df[\"Mag\" + str(i+1) +\"_X\"] - df[\"Mag\" + str(i+1) + \"_EnvX\"]\n",
    "        df[\"Mag\" + str(i+1) + \"_CarY\"] = df[\"Mag\" + str(i+1) +\"_Y\"] - df[\"Mag\" + str(i+1) + \"_EnvY\"]\n",
    "        df[\"Mag\" + str(i+1) + \"_CarZ\"] = df[\"Mag\" + str(i+1) +\"_Z\"] - df[\"Mag\" + str(i+1) + \"_EnvZ\"]\n",
    "        df[\"Mag\" + str(i+1) + \"_CarLen\"] = (df[\"Mag\" + str(i+1) +\"_CarX\"].pow(2) + df[\"Mag\" + str(i+1) +\"_CarY\"].pow(2) + df[\"Mag\" + str(i+1) +\"_CarZ\"].pow(2) ).pow(0.5)\n",
    "    return df    \n",
    "\n",
    "def get_car_brand(df, brand, category):\n",
    "    df[\"Brand\"] = brand\n",
    "    df[\"Category\"] = category\n",
    "    df = df[sorted(df.columns)]\n",
    "    return df \n",
    "\n",
    "def get_car_in_out_type(df, in_out_type):\n",
    "    d_zeros = pd.DataFrame(np.zeros(df.shape[0], ))\n",
    "    d_ones  = pd.DataFrame(np.ones (df.shape[0], ))\n",
    "\n",
    "    if 'Forward' not in df.columns:\n",
    "        df.insert(2, \"Forward\", d_zeros) \n",
    "        df.insert(3, \"Backward\", d_zeros) \n",
    "        df.insert(4, \"Sideway\", d_zeros) \n",
    "    \n",
    "    else:\n",
    "        df['Forward'].replace(0,inplace=True) \n",
    "        df['Backward'].replace(0,inplace=True) \n",
    "        df['Sideway'].replace(0,inplace=True) \n",
    "\n",
    "    if in_out_type == \"Forward\":\n",
    "        df['Forward']  = 1\n",
    "    elif in_out_type == \"Backward\":\n",
    "        df[\"Backward\"] = 1\n",
    "    elif in_out_type == \"Sideway\":\n",
    "        df[\"Sideway\"]  = 1\n",
    "    else:\n",
    "        print(\"car_in_out_type : error input\")\n",
    "    return df \n",
    "\n",
    "def get_kmean_label(df, feature):\n",
    "    random_state = 170\n",
    "    X_filtered = df[feature].as_matrix()\n",
    "    Kmean_model = KMeans(n_clusters=3, random_state=random_state)\n",
    "    y_pred = Kmean_model.fit_predict(X_filtered)\n",
    "    if \"Class_Target\" in df.columns:\n",
    "        df[\"Class_Target\"].replace(y_pred,inplace=True) \n",
    "        df[\"Class\"].replace( y_pred * df[\"Mag1_CarLen\"].max()/2,inplace=True) \n",
    "    else:\n",
    "        df[\"Class_Target\"] = y_pred \n",
    "        df[\"Class\"] = y_pred * df[\"Mag1_CarLen\"].max()/2\n",
    "    print(\"Cluster centers \", Kmean_model.cluster_centers_ )\n",
    "    \n",
    "    fig = plt.figure()\n",
    "    ax = Axes3D(fig)\n",
    "    ax.scatter(X_filtered[:,0], X_filtered[:,1], X_filtered[:,2], c=y_pred)\n",
    "    plt.title('Mag scatter plot with car')\n",
    "    plt.xlabel('MagX')\n",
    "    plt.ylabel('MagY')\n",
    "    plt.show()\n",
    "    return df\n",
    "\n",
    "\n",
    "################ Romdam Forest ##########################################\n",
    "def set_Training_RandomForest(trainDataFrame, targetingDataFrame):\n",
    "    X_train, X_test, y_train, y_test = train_test_split(trainDataFrame, targetingDataFrame, test_size=0.30, random_state=30)\n",
    "    model = RandomForestClassifier(n_estimators=100, max_depth=5)\n",
    "    model.fit(X_train, y_train)\n",
    "    print('Test Model Score: ',model.score(X_test, y_test) )\n",
    "#     print('Model Parameter: ',model.get_params )\n",
    "#     print('Cross Validation Score', np.mean(cross_val_score(model, X_train, y_train, cv=10)))\n",
    "    print(\"Click Rate: \",targetingDataFrame.sum()/len(targetingDataFrame)*100, \"%\")\n",
    "    return model\n",
    "\n",
    "def set_Training_LogisticRegression(trainDataFrame, targetingDataFrame):\n",
    "    X_train, X_test, y_train, y_test = train_test_split(trainDataFrame, targetingDataFrame, test_size=0.30, random_state=30)\n",
    "    model = LogisticRegression()\n",
    "    model.fit(X_train, y_train)\n",
    "    print('Test Model Score: ',model.score(X_test, y_test) )\n",
    "#     print('Model Parameter: ',model.get_params )\n",
    "#     print('Cross Validation Score', np.mean(cross_val_score(model, X_train, y_train, cv=10)))\n",
    "    print(\"Click Rate: \",targetingDataFrame.sum()/len(targetingDataFrame)*100, \"%\")\n",
    "    return model\n",
    "\n",
    "def get_FeatureImportance(model, featureName, important_rate = 0):\n",
    "    important_feature = []\n",
    "    importances = model.feature_importances_\n",
    "    std = np.std([tree.feature_importances_ for tree in model.estimators_], axis=0)\n",
    "    indices = np.argsort(importances)[::-1]\n",
    "    print(\"Feature ranking:\")\n",
    "#     for f in range(len(featureName)):\n",
    "#         print(\"%d. feature %d - %s (%f)\" % (f + 1, indices[f], featureName[indices[f]], importances[indices[f]]))\n",
    "    for f in range(len(featureName)):\n",
    "        if importances[indices[f]] >= important_rate:\n",
    "            print(\"%d. feature %d - %s (%f)\" % (f + 1, indices[f], featureName[indices[f]], importances[indices[f]]))\n",
    "            important_feature.append(featureName[indices[f]])\n",
    "    return important_feature\n",
    "            \n",
    "def get_FeatureImportance_Boxplot(model, featureName):\n",
    "    importances = model.feature_importances_\n",
    "    std = np.std([tree.feature_importances_ for tree in model.estimators_], axis=0)\n",
    "    indices = np.argsort(importances)[::-1]\n",
    "    \n",
    "    featureLenght = len(featureName)\n",
    "    plt.figure()\n",
    "    plt.title(\"Feature importances\")\n",
    "    plt.bar(range(featureLenght), importances[indices],\n",
    "           color=\"r\", yerr=std[indices], align=\"center\")\n",
    "    plt.xticks(range(featureLenght), indices)\n",
    "    plt.xlim([-1, featureLenght])\n",
    "    plt.show()"
   ]
  },
  {
   "cell_type": "code",
   "execution_count": 9,
   "metadata": {},
   "outputs": [
    {
     "ename": "NameError",
     "evalue": "name 'csvFiles' is not defined",
     "output_type": "error",
     "traceback": [
      "\u001b[0;31m---------------------------------------------------------------------------\u001b[0m",
      "\u001b[0;31mNameError\u001b[0m                                 Traceback (most recent call last)",
      "\u001b[0;32m<ipython-input-9-4aa5eeccc348>\u001b[0m in \u001b[0;36m<module>\u001b[0;34m()\u001b[0m\n\u001b[0;32m----> 1\u001b[0;31m \u001b[0mcsvFiles\u001b[0m\u001b[0;34m\u001b[0m\u001b[0m\n\u001b[0m",
      "\u001b[0;31mNameError\u001b[0m: name 'csvFiles' is not defined"
     ]
    }
   ],
   "source": [
    "Rawdata_folderName = os.getcwd() + '/Detection_Database/Raw/'\n",
    "Newdata_folderName = os.getcwd() + '/Detection_Database/New/'\n",
    "Prasedata_folderName = os.getcwd() + '/Detection_Database/SperateNode/'\n",
    "check_file_path_exist(Rawdata_folderName)\n",
    "check_file_path_exist(Prasedata_folderName)\n",
    "\n",
    "csvFiles = [f for f in listdir(Rawdata_folderName) if isfile(join(Rawdata_folderName, f)) and f[-3:] == \"csv\" ]\n",
    "\n",
    "csvNewFiles = [f for f in listdir(Newdata_folderName) if isfile(join(Newdata_folderName, f)) and f[-3:] == \"csv\" ]\n",
    "Mag_csvFiles = [f for f in listdir(Prasedata_folderName) if isfile(join(Prasedata_folderName, f)) and f[-3:] == \"csv\"]\n",
    "Mag_csvFiles.sort()\n",
    "csvFiles"
   ]
  },
  {
   "cell_type": "code",
   "execution_count": 10,
   "metadata": {
    "scrolled": true
   },
   "outputs": [
    {
     "ename": "NameError",
     "evalue": "name 'csvFiles' is not defined",
     "output_type": "error",
     "traceback": [
      "\u001b[0;31m---------------------------------------------------------------------------\u001b[0m",
      "\u001b[0;31mNameError\u001b[0m                                 Traceback (most recent call last)",
      "\u001b[0;32m<ipython-input-10-581a19b7bb93>\u001b[0m in \u001b[0;36m<module>\u001b[0;34m()\u001b[0m\n\u001b[1;32m      4\u001b[0m \u001b[0;34m\u001b[0m\u001b[0m\n\u001b[1;32m      5\u001b[0m \u001b[0;31m# for csvFile in csvFiles:\u001b[0m\u001b[0;34m\u001b[0m\u001b[0;34m\u001b[0m\u001b[0m\n\u001b[0;32m----> 6\u001b[0;31m \u001b[0mcsvFile\u001b[0m \u001b[0;34m=\u001b[0m \u001b[0mcsvFiles\u001b[0m\u001b[0;34m[\u001b[0m\u001b[0;36m1\u001b[0m\u001b[0;34m]\u001b[0m\u001b[0;34m\u001b[0m\u001b[0m\n\u001b[0m\u001b[1;32m      7\u001b[0m \u001b[0mcar_category\u001b[0m \u001b[0;34m=\u001b[0m \u001b[0mcsv_file_get_key\u001b[0m\u001b[0;34m(\u001b[0m\u001b[0mcsvFile\u001b[0m\u001b[0;34m,\u001b[0m \u001b[0;36m1\u001b[0m\u001b[0;34m)\u001b[0m\u001b[0;34m\u001b[0m\u001b[0m\n\u001b[1;32m      8\u001b[0m \u001b[0mprint\u001b[0m\u001b[0;34m(\u001b[0m\u001b[0mcar_category\u001b[0m\u001b[0;34m)\u001b[0m\u001b[0;34m\u001b[0m\u001b[0m\n",
      "\u001b[0;31mNameError\u001b[0m: name 'csvFiles' is not defined"
     ]
    }
   ],
   "source": [
    "def csv_file_get_key(csv_name, key):\n",
    "    strlist = csvFile.replace(\".\",\" \").replace(\",\",\" \").replace(\"_\",\" \").split(\" \")\n",
    "    return strlist[key]\n",
    "\n",
    "# for csvFile in csvFiles:\n",
    "csvFile = csvFiles[1]\n",
    "car_category = csv_file_get_key(csvFile, 1)\n",
    "print(car_category)\n",
    "# car_category = \"tercel\"\n",
    "car_brand = \"nisson\"\n",
    "\n",
    "csvRawDataName = Rawdata_folderName + csvFile\n",
    "csvNewDataName = Newdata_folderName + \"New_\" + csvFile\n",
    "\n",
    "# can change by string funciton\n",
    "if csvFile.find(\"back\") != -1:\n",
    "    car_in_out_type = \"Backward\"\n",
    "elif csvFile.find(\"forward\") != -1:\n",
    "    car_in_out_type = \"Forward\"\n",
    "elif csvFile.find(\"side\") != -1:\n",
    "    car_in_out_type = \"Sideway\"\n",
    "\n",
    "Experiment_Mag_number = 4\n",
    "Experiment_Mag_Env_number = 10\n",
    "\n",
    "\n",
    "df = pd.read_csv(csvRawDataName)\n",
    "df = get_mag_len(df, Experiment_Mag_number)\n",
    "df = get_mag_env(df, Experiment_Mag_number, Experiment_Mag_Env_number)\n",
    "df = get_mag_car_field(df, Experiment_Mag_number)\n",
    "df = get_car_brand(df, car_brand, car_category)\n",
    "df = get_car_in_out_type(df, car_in_out_type)\n",
    "\n",
    "# clustering\n",
    "Kmean_feature = [\"Mag1_CarX\",\"Mag1_CarY\",\"Mag1_CarZ\"]\n",
    "df = get_kmean_label(df, Kmean_feature)\n",
    "df = df[sorted(df.columns)]\n",
    "df.to_csv(csvNewDataName)\n",
    "\n",
    "plt.figure(); \n",
    "df.plot(x='time', y=['Mag1_CarLen','Mag2_CarLen','Mag3_CarLen','Mag4_CarLen', 'Class'], grid = True);\n"
   ]
  },
  {
   "cell_type": "code",
   "execution_count": null,
   "metadata": {
    "collapsed": true
   },
   "outputs": [],
   "source": [
    "def prase_node_data(df, mag_number, csv_path, csvFile):\n",
    "    namelist = df.columns\n",
    "    feature_name = ['Mag_CarLen', 'Mag_CarX','Mag_CarY','Mag_CarZ',\n",
    "    'Mag_EnvX','Mag_EnvY','Mag_EnvZ','Mag_Len','Mag_X','Mag_Y','Mag_Z']\n",
    "    \n",
    "    for i in range(mag_number):\n",
    "        mag_df = pd\n",
    "        mag_start = namelist.get_loc(\"Mag\" + str(i+1) + \"_CarLen\")\n",
    "        mag_end   = namelist.get_loc(\"Mag\" + str(i+1) + \"_Z\")    \n",
    "        mag_df    = df.iloc[:,:namelist.get_loc(\"Forward\") +1 ]\n",
    "        mag_df[\"Sideway\"] = df[\"Sideway\"]\n",
    "        mag_df[\"time\"] = df[\"time\"]\n",
    "        mag_df[feature_name] = df[namelist[mag_start:mag_end+1]]\n",
    "        csvFilepath = csv_path + \"Mag\"+ str(i+1) + \"_\"+ csvFile\n",
    "#         print(csvFilepath)\n",
    "        mag_df.to_csv(csvFilepath)\n",
    "\n",
    "        \n",
    "csvNewFiles = [f for f in listdir(Newdata_folderName) if isfile(join(Newdata_folderName, f)) and f[-3:] == \"csv\" ]\n",
    "\n",
    "for csvFile in csvNewFiles:\n",
    "    csvName = Newdata_folderName + csvFile\n",
    "    df_new = pd.read_csv(csvName, index_col = 0 )\n",
    "    prase_node_data(df_new, 4, Prasedata_folderName, csvFile)\n"
   ]
  },
  {
   "cell_type": "markdown",
   "metadata": {
    "collapsed": true
   },
   "source": [
    "## test algorithm "
   ]
  },
  {
   "cell_type": "code",
   "execution_count": null,
   "metadata": {},
   "outputs": [],
   "source": [
    "Mag_csvFiles = [f for f in listdir(Prasedata_folderName) if isfile(join(Prasedata_folderName, f)) and f[-3:] == \"csv\"]\n",
    "Mag_csvFiles.sort()\n",
    "Mag_csvFiles"
   ]
  },
  {
   "cell_type": "code",
   "execution_count": null,
   "metadata": {},
   "outputs": [],
   "source": [
    "def get_algorithm_feature(df):\n",
    "\n",
    "    EnvX = df['Mag_EnvX'][0]\n",
    "    EnvY = df['Mag_EnvY'][0]\n",
    "    EnvZ = df['Mag_EnvZ'][0]\n",
    "    Detection = Car_Detection(EnvX, EnvY, EnvZ)\n",
    "    \n",
    "    # implement detection method(10)\n",
    "    df[\"Mag_Zcompoment_norm\"] = df.apply(lambda row: Detection.detect_1_Zcompoment_norm(row['Mag_X'], row['Mag_Y'], row['Mag_Z']), axis = 1)\n",
    "    df[\"Mag_performance_XY_plane\"] = 500 * df.apply(lambda row: Detection.detect_2_performance_XY_plane(row['Mag_X'], row['Mag_Y'], row['Mag_Z']), axis = 1)\n",
    "    df[\"Mag_cosine_variations_product_XY_plane\"] = df.apply(lambda row: Detection.detect_3_cosine_variations_product_XY_plane(row['Mag_X'], row['Mag_Y'], row['Mag_Z']), axis = 1)\n",
    "    df[\"Mag_cosine_variations_Kcriterion\"] = df.apply(lambda row: Detection.detect_4_cosine_variations_Kcriterion(row['Mag_X'], row['Mag_Y'], row['Mag_Z']), axis = 1)\n",
    "    df[\"Mag_square_deviation\"] = df.apply(lambda row: Detection.detect_5_square_deviation(row['Mag_X'], row['Mag_Y'], row['Mag_Z']), axis = 1)\n",
    "    df[\"Mag_vectorial_deviation\"] = 1000 * df.apply(lambda row: Detection.detect_6_vectorial_deviation(row['Mag_X'], row['Mag_Y'], row['Mag_Z']), axis = 1)\n",
    "    df[\"Mag_combined_vectorial_deviation\"] = 1000 * df.apply(lambda row: Detection.detect_7_combined_vectorial_deviation(row['Mag_X'], row['Mag_Y'], row['Mag_Z']), axis = 1)\n",
    "    df[\"Mag_weighting_vectorial_deviation\"] = 1000 * df.apply(lambda row: Detection.detect_8_weighting_vectorial_deviation(row['Mag_X'], row['Mag_Y'], row['Mag_Z']), axis = 1)\n",
    "    df[\"Mag_each_axis_difference\"] = df.apply(lambda row: Detection.detect_9_each_axis_difference(row['Mag_X'], row['Mag_Y'], row['Mag_Z']), axis = 1)\n",
    "    df[\"Mag_each_axis_distance\"] = df.apply(lambda row: Detection.detect_10_each_axis_distance(row['Mag_X'], row['Mag_Y'], row['Mag_Z']), axis = 1)\n",
    "\n",
    "    return df\n",
    "\n",
    "Mag_csvFiles = [f for f in listdir(Prasedata_folderName) if isfile(join(Prasedata_folderName, f)) and f[-3:] == \"csv\"]\n",
    "Mag_csvFiles.sort()\n",
    "\n",
    "Mag_csvFile = Prasedata_folderName + Mag_csvFiles[0]\n",
    "mag_df = pd.read_csv(Mag_csvFile, index_col = 0 )\n",
    "mag_df = get_algorithm_feature(mag_df)\n",
    "\n",
    "feature_start_index = mag_df.columns.get_loc(\"Mag_CarLen\") \n",
    "feature_list = list(mag_df.columns[feature_start_index:]) \n",
    "train_data  = mag_df[feature_list]\n",
    "target_data = mag_df[\"Class_Target\"]\n",
    "print(\"train_data : \", train_data.shape)\n",
    "print(\"target_data: \", target_data.shape)\n",
    "\n",
    "# plt.figure(figsize = (10, 8))\n",
    "# mag_df.plot(x = 'time', y = ['Mag_CarLen', 'Mag_Zcompoment_norm', 'Mag_performance_XY_plane',\n",
    "#     'Mag_cosine_variations_product_XY_plane', 'Mag_cosine_variations_Kcriterion',\n",
    "#     'Class'\n",
    "# ], grid = True)\n",
    "# plt.legend(bbox_to_anchor = (1.05, 1.05), ncol = 3, fancybox = True, shadow = True)\n",
    "\n",
    "\n",
    "# mag_df.plot(x = 'time', y = ['Mag_CarLen',\n",
    "#     'Mag_square_deviation', 'Mag_vectorial_deviation',\n",
    "#     'Mag_combined_vectorial_deviation', 'Mag_weighting_vectorial_deviation',\n",
    "#     'Class'\n",
    "# ], grid = True)\n",
    "# plt.legend(bbox_to_anchor = (1.05, 1.05), ncol = 3, fancybox = True, shadow = True)\n",
    "\n",
    "\n",
    "# mag_df.plot(x = 'time', y = ['Mag_CarLen',\n",
    "#     'Mag_each_axis_difference', 'Mag_each_axis_distance',\n",
    "#     'Class'\n",
    "# ], grid = True)\n",
    "# plt.legend(bbox_to_anchor = (1.05, 1.05), ncol = 3, fancybox = True, shadow = True)\n",
    "\n",
    "mag_df.plot(x = 'time', y = ['Mag_each_axis_difference', 'Mag_performance_XY_plane',\n",
    "    'Mag_each_axis_distance', 'Mag_square_deviation','Mag_vectorial_deviation',\n",
    "    'Class'\n",
    "], grid = True)\n",
    "plt.legend(bbox_to_anchor = (1.05, 1.05), ncol = 3, fancybox = True, shadow = True)\n"
   ]
  },
  {
   "cell_type": "markdown",
   "metadata": {},
   "source": [
    "## test all csv"
   ]
  },
  {
   "cell_type": "code",
   "execution_count": null,
   "metadata": {},
   "outputs": [],
   "source": [
    "mag_df.columns"
   ]
  },
  {
   "cell_type": "code",
   "execution_count": null,
   "metadata": {},
   "outputs": [],
   "source": [
    "feature_sum = []\n",
    "\n",
    "for csvFile in Mag_csvFiles:\n",
    "    Mag_csvFile = Prasedata_folderName + csvFile\n",
    "    mag_df = pd.read_csv(Mag_csvFile, index_col = 0 )\n",
    "    mag_df = get_algorithm_feature(mag_df)\n",
    "    mag_df.to_csv(Mag_csvFile)\n",
    "#     print(\"----- \", csvFile, \"-----\")\n",
    "    feature_start_index = mag_df.columns.get_loc(\"Mag_Zcompoment_norm\")\n",
    "    feature_end_index = mag_df.columns.get_loc(\"Mag_each_axis_distance\") + 1\n",
    "#     feature_start_index = mag_df.columns.get_loc(\"Mag_CarLen\") \n",
    "    feature_list  = [ 'Mag_CarX', 'Mag_CarY', 'Mag_CarZ']\n",
    "    feature_list += list(mag_df.columns[feature_start_index:feature_end_index]) \n",
    "    train_data    = mag_df[feature_list]\n",
    "    target_data   = mag_df[\"Class_Target\"]\n",
    "    \n",
    "    print(\"\\n-----------------------\", csvFile, \"---------------------- \")\n",
    "#     print(mag_df.columns)\n",
    "    model_RandomForest  = set_Training_RandomForest(train_data, target_data)\n",
    "    feature_filter = get_FeatureImportance(model_RandomForest, feature_list, 0.05)\n",
    "    feature_sum += feature_filter"
   ]
  },
  {
   "cell_type": "code",
   "execution_count": null,
   "metadata": {},
   "outputs": [],
   "source": [
    "feature_sum.sort()\n",
    "feature_type_count = [[feature_sum.count(x),x] for x in set(feature_sum)]\n",
    "feature_type_count.sort(reverse=True)\n",
    "feature_type_count[:10]"
   ]
  },
  {
   "cell_type": "markdown",
   "metadata": {},
   "source": [
    "## test  csv with top 5 feature"
   ]
  },
  {
   "cell_type": "code",
   "execution_count": null,
   "metadata": {},
   "outputs": [],
   "source": [
    "feature_list = [each[1] for each in feature_type_count ][:5]\n",
    "feature_list"
   ]
  },
  {
   "cell_type": "code",
   "execution_count": null,
   "metadata": {},
   "outputs": [],
   "source": [
    "feature_list = [each[1] for each in feature_type_count ][:5]\n",
    "feature_sum = []\n",
    "\n",
    "for csvFile in Mag_csvFiles:\n",
    "    Mag_csvFile = Prasedata_folderName + csvFile\n",
    "    mag_df = pd.read_csv(Mag_csvFile, index_col = 0 )\n",
    "    mag_df = get_algorithm_feature(mag_df)\n",
    "    mag_df.to_csv(Mag_csvFile)\n",
    "\n",
    "    train_data  = mag_df[feature_list]\n",
    "    target_data = mag_df[\"Class_Target\"]\n",
    "    \n",
    "    print(\"\\n-----------------------\", csvFile, \"---------------------- \")\n",
    "#     print(mag_df.columns)\n",
    "    model_RandomForest  = set_Training_RandomForest(train_data, target_data)\n",
    "    feature_filter = get_FeatureImportance(model_RandomForest, feature_list, 0.05)\n",
    "    feature_sum += feature_filter"
   ]
  },
  {
   "cell_type": "code",
   "execution_count": null,
   "metadata": {},
   "outputs": [],
   "source": [
    "feature_sum.sort()\n",
    "feature_type_count = [[feature_sum.count(x),x] for x in set(feature_sum)]\n",
    "feature_type_count.sort(reverse=True)\n",
    "feature_type_count[:5]"
   ]
  },
  {
   "cell_type": "markdown",
   "metadata": {},
   "source": [
    "## Random Forest"
   ]
  },
  {
   "cell_type": "code",
   "execution_count": 3,
   "metadata": {},
   "outputs": [],
   "source": [
    "# model_RandomForest  = set_Training_RandomForest(train_data, target_data)\n",
    "# # model_LogisticRegression = set_Training_LogisticRegression(train_data, target_data)\n",
    "\n",
    "# get_FeatureImportance(model_RandomForest, feature_list)\n",
    "# get_FeatureImportance_Boxplot(model_RandomForest, feature_list)"
   ]
  },
  {
   "cell_type": "markdown",
   "metadata": {
    "collapsed": true
   },
   "source": [
    "## b0.2 algorithm"
   ]
  },
  {
   "cell_type": "code",
   "execution_count": 5,
   "metadata": {},
   "outputs": [
    {
     "ename": "NameError",
     "evalue": "name 'Mag_csvFiles' is not defined",
     "output_type": "error",
     "traceback": [
      "\u001b[0;31m---------------------------------------------------------------------------\u001b[0m",
      "\u001b[0;31mNameError\u001b[0m                                 Traceback (most recent call last)",
      "\u001b[0;32m<ipython-input-5-4214def0e5df>\u001b[0m in \u001b[0;36m<module>\u001b[0;34m()\u001b[0m\n\u001b[1;32m     42\u001b[0m \u001b[0;34m\u001b[0m\u001b[0m\n\u001b[1;32m     43\u001b[0m \u001b[0;34m\u001b[0m\u001b[0m\n\u001b[0;32m---> 44\u001b[0;31m \u001b[0;32mfor\u001b[0m \u001b[0mcsvFile\u001b[0m \u001b[0;32min\u001b[0m \u001b[0mMag_csvFiles\u001b[0m\u001b[0;34m:\u001b[0m\u001b[0;34m\u001b[0m\u001b[0m\n\u001b[0m\u001b[1;32m     45\u001b[0m     \u001b[0mMag_csvFile\u001b[0m \u001b[0;34m=\u001b[0m \u001b[0mPrasedata_folderName\u001b[0m \u001b[0;34m+\u001b[0m \u001b[0mcsvFile\u001b[0m\u001b[0;34m\u001b[0m\u001b[0m\n\u001b[1;32m     46\u001b[0m     \u001b[0mmag_df\u001b[0m \u001b[0;34m=\u001b[0m \u001b[0mpd\u001b[0m\u001b[0;34m.\u001b[0m\u001b[0mread_csv\u001b[0m\u001b[0;34m(\u001b[0m\u001b[0mMag_csvFile\u001b[0m\u001b[0;34m,\u001b[0m \u001b[0mindex_col\u001b[0m \u001b[0;34m=\u001b[0m \u001b[0;36m0\u001b[0m \u001b[0;34m)\u001b[0m\u001b[0;34m\u001b[0m\u001b[0m\n",
      "\u001b[0;31mNameError\u001b[0m: name 'Mag_csvFiles' is not defined"
     ]
    }
   ],
   "source": [
    "def get_car_algorithm(df):\n",
    "    Detection = detect_algorithm()\n",
    "    Mag_detect_rate = []\n",
    "    Mag_detect_sendflag = []\n",
    "    Mag_detect_status = []\n",
    "    Mag_detect_envbias = []\n",
    "    Mag_detect_score = []\n",
    "    \n",
    "    MagRawdata = mag_df[[\"Mag_X\", \"Mag_Y\",\"Mag_Z\"]].values.tolist()\n",
    "\n",
    "    for Rawdata in MagRawdata: \n",
    "        Mag_detect_rate.append(Detection.Get_VehicleDetection_Rate(Rawdata))\n",
    "        Mag_detect_sendflag.append(Detection.Get_VehicleDetection_SendData())\n",
    "        Mag_detect_status.append(Detection.Get_VehicleDetection_Status())\n",
    "        Mag_detect_envbias.append(Detection.Get_VehicleDetection_EnvBias())\n",
    "        Mag_detect_score.append(Detection.Get_VehicleDetection_Score())\n",
    "        \n",
    "    df[\"Mag_detect_rate\"]     = Mag_detect_rate\n",
    "    df[\"Mag_detect_sendflag\"] = Mag_detect_sendflag\n",
    "    df[\"Mag_detect_status\"]   = Mag_detect_status\n",
    "    df[\"Mag_detect_envbias\"]  = Mag_detect_envbias\n",
    "    df[\"Mag_detect_score\"]  = Mag_detect_score\n",
    "    max_value = df[\"Mag_CarLen\"].max()/2\n",
    "    df[\"Mag_detect_status_show\"]   = [ x * max_value for x in Mag_detect_status ]\n",
    "\n",
    "    return df\n",
    "\n",
    "# Detection = detect_algorithm()\n",
    "# MagRawdata = []\n",
    "# Mag_detect_rate = []\n",
    "# Mag_detect_sendflag = []\n",
    "# Mag_detect_status = []\n",
    "# Mag_detect_envbias = []\n",
    "\n",
    "# MagRawdata = mag_df[[\"Mag_X\", \"Mag_Y\",\"Mag_Z\"]].values.tolist()\n",
    "# # MagRawdata\n",
    "# for Rawdata in MagRawdata: \n",
    "#     Mag_detect_rate.append(Detection.Get_VehicleDetection_Rate(Rawdata))\n",
    "#     Mag_detect_sendflag.append(Detection.Get_VehicleDetection_SendData())\n",
    "#     Mag_detect_status.append(Detection.Get_VehicleDetection_Status())\n",
    "#     Mag_detect_envbias.append(Detection.Get_VehicleDetection_EnvBias())\n",
    "\n",
    "\n",
    "for csvFile in Mag_csvFiles:\n",
    "    Mag_csvFile = Prasedata_folderName + csvFile\n",
    "    mag_df = pd.read_csv(Mag_csvFile, index_col = 0 )\n",
    "    mag_df = get_car_algorithm(mag_df)\n",
    "#     mag_df.to_csv(Mag_csvFile)\n",
    "    \n",
    "#     print(\"\\n-----------------------\", csvFile, \"---------------------- \")\n",
    "    mag_df.plot(x = 'time', y = ['Mag_square_deviation', \n",
    "    'Class', 'Mag_detect_status_show', 'Mag_detect_score'\n",
    "    ], grid = True)\n",
    "    plt.legend(bbox_to_anchor = (1.05, 1.05), ncol = 3, fancybox = True, shadow = True)\n"
   ]
  },
  {
   "cell_type": "code",
   "execution_count": 2,
   "metadata": {},
   "outputs": [
    {
     "ename": "SyntaxError",
     "evalue": "invalid syntax (<ipython-input-2-9d0f1591e9fb>, line 2)",
     "output_type": "error",
     "traceback": [
      "\u001b[0;36m  File \u001b[0;32m\"<ipython-input-2-9d0f1591e9fb>\"\u001b[0;36m, line \u001b[0;32m2\u001b[0m\n\u001b[0;31m    Detection.\u001b[0m\n\u001b[0m              ^\u001b[0m\n\u001b[0;31mSyntaxError\u001b[0m\u001b[0;31m:\u001b[0m invalid syntax\n"
     ]
    }
   ],
   "source": [
    "Detection = detect_algorithm()"
   ]
  },
  {
   "cell_type": "code",
   "execution_count": 90,
   "metadata": {},
   "outputs": [
    {
     "data": {
      "text/plain": [
       "<matplotlib.legend.Legend at 0x7f174dad8320>"
      ]
     },
     "execution_count": 90,
     "metadata": {},
     "output_type": "execute_result"
    },
    {
     "data": {
      "image/png": "[encoded data removed]",
      "text/plain": [
       "<matplotlib.figure.Figure at 0x7f174dad8ef0>"
      ]
     },
     "metadata": {},
     "output_type": "display_data"
    }
   ],
   "source": [
    "mag_df.plot(x = 'time', y = ['Mag_each_axis_difference', 'Mag_performance_XY_plane',\n",
    "    'Mag_each_axis_distance', 'Mag_square_deviation','Mag_vectorial_deviation',\n",
    "    'Class', 'Mag_detect_status_show'\n",
    "], grid = True)\n",
    "plt.legend(bbox_to_anchor = (1.05, 1.05), ncol = 3, fancybox = True, shadow = True)\n",
    "\n"
   ]
  },
  {
   "cell_type": "code",
   "execution_count": null,
   "metadata": {
    "collapsed": true
   },
   "outputs": [],
   "source": []
  }
 ],
 "metadata": {
  "kernelspec": {
   "display_name": "Python (myenv-py36)",
   "language": "python",
   "name": "py36"
  },
  "language_info": {
   "codemirror_mode": {
    "name": "ipython",
    "version": 3
   },
   "file_extension": ".py",
   "mimetype": "text/x-python",
   "name": "python",
   "nbconvert_exporter": "python",
   "pygments_lexer": "ipython3",
   "version": "3.6.1"
  }
 },
 "nbformat": 4,
 "nbformat_minor": 2
}
