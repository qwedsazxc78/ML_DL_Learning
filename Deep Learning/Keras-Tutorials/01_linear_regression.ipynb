{
 "cells": [
  {
   "cell_type": "code",
   "execution_count": 1,
   "metadata": {},
   "outputs": [
    {
     "name": "stderr",
     "output_type": "stream",
     "text": [
      "Using TensorFlow backend.\n"
     ]
    }
   ],
   "source": [
    "from keras.models import Sequential\n",
    "from keras.layers import Dense\n",
    "import numpy as np\n",
    "import matplotlib.pyplot as plt\n",
    "%matplotlib inline"
   ]
  },
  {
   "cell_type": "code",
   "execution_count": 2,
   "metadata": {
    "collapsed": true
   },
   "outputs": [],
   "source": [
    "# Generate dataset\n",
    "trX = np.linspace(-1, 1, 101)\n",
    "trY = 2 * trX + np.random.randn(*trX.shape) * 0.33 # create a y value which is approximately linear but with some random noise"
   ]
  },
  {
   "cell_type": "code",
   "execution_count": 5,
   "metadata": {},
   "outputs": [
    {
     "data": {
      "image/png": "[encoded data removed]",
      "text/plain": [
       "<matplotlib.figure.Figure at 0x119b2a4e0>"
      ]
     },
     "metadata": {},
     "output_type": "display_data"
    }
   ],
   "source": [
    "plt.plot(trX, trY, label='data')\n",
    "plt.legend()\n",
    "plt.show()"
   ]
  },
  {
   "cell_type": "code",
   "execution_count": 6,
   "metadata": {},
   "outputs": [
    {
     "name": "stderr",
     "output_type": "stream",
     "text": [
      "/Users/MH/anaconda/envs/py36/lib/python3.6/site-packages/ipykernel_launcher.py:3: UserWarning: Update your `Dense` call to the Keras 2 API: `Dense(input_dim=1, activation=\"linear\", units=1, kernel_initializer=\"uniform\")`\n",
      "  This is separate from the ipykernel package so we can avoid doing imports until\n"
     ]
    }
   ],
   "source": [
    "# Linear regression model\n",
    "model = Sequential()\n",
    "model.add(Dense(input_dim=1, output_dim=1, init='uniform', activation='linear'))\n",
    "model.compile(optimizer='sgd', loss='mse')"
   ]
  },
  {
   "cell_type": "code",
   "execution_count": 8,
   "metadata": {},
   "outputs": [
    {
     "name": "stdout",
     "output_type": "stream",
     "text": [
      "Linear regression model is initialized with weight w: -0.03, b: 0.00\n"
     ]
    }
   ],
   "source": [
    "# Print initial weights\n",
    "weights = model.layers[0].get_weights()\n",
    "w_init = weights[0][0][0]\n",
    "b_init = weights[1][0]\n",
    "print('Linear regression model is initialized with weight w: %.2f, b: %.2f' % (w_init, b_init))"
   ]
  },
  {
   "cell_type": "code",
   "execution_count": 10,
   "metadata": {},
   "outputs": [
    {
     "name": "stdout",
     "output_type": "stream",
     "text": [
      "Epoch 1/100\n",
      "101/101 [==============================] - 0s - loss: 0.1015     \n",
      "Epoch 2/100\n",
      "101/101 [==============================] - 0s - loss: 0.1012     \n",
      "Epoch 3/100\n",
      "101/101 [==============================] - 0s - loss: 0.1011     \n",
      "Epoch 4/100\n",
      "101/101 [==============================] - 0s - loss: 0.1009     \n",
      "Epoch 5/100\n",
      "101/101 [==============================] - 0s - loss: 0.1005     \n",
      "Epoch 6/100\n",
      "101/101 [==============================] - 0s - loss: 0.1003     \n",
      "Epoch 7/100\n",
      "101/101 [==============================] - 0s - loss: 0.1001     \n",
      "Epoch 8/100\n",
      "101/101 [==============================] - 0s - loss: 0.0997     \n",
      "Epoch 9/100\n",
      "101/101 [==============================] - 0s - loss: 0.0994     \n",
      "Epoch 10/100\n",
      "101/101 [==============================] - 0s - loss: 0.0993     \n",
      "Epoch 11/100\n",
      "101/101 [==============================] - 0s - loss: 0.0991     \n",
      "Epoch 12/100\n",
      "101/101 [==============================] - 0s - loss: 0.0989     \n",
      "Epoch 13/100\n",
      "101/101 [==============================] - 0s - loss: 0.0988     \n",
      "Epoch 14/100\n",
      "101/101 [==============================] - 0s - loss: 0.0986     \n",
      "Epoch 15/100\n",
      "101/101 [==============================] - 0s - loss: 0.0984     \n",
      "Epoch 16/100\n",
      "101/101 [==============================] - 0s - loss: 0.0983     \n",
      "Epoch 17/100\n",
      "101/101 [==============================] - 0s - loss: 0.0980     \n",
      "Epoch 18/100\n",
      "101/101 [==============================] - 0s - loss: 0.0979     \n",
      "Epoch 19/100\n",
      "101/101 [==============================] - 0s - loss: 0.0977     \n",
      "Epoch 20/100\n",
      "101/101 [==============================] - 0s - loss: 0.0976     "
     ]
    },
    {
     "name": "stderr",
     "output_type": "stream",
     "text": [
      "/Users/MH/anaconda/envs/py36/lib/python3.6/site-packages/keras/models.py:826: UserWarning: The `nb_epoch` argument in `fit` has been renamed `epochs`.\n",
      "  warnings.warn('The `nb_epoch` argument in `fit` '\n"
     ]
    },
    {
     "name": "stdout",
     "output_type": "stream",
     "text": [
      "\n",
      "Epoch 21/100\n",
      "101/101 [==============================] - 0s - loss: 0.0975     \n",
      "Epoch 22/100\n",
      "101/101 [==============================] - ETA: 0s - loss: 0.106 - 0s - loss: 0.0976     \n",
      "Epoch 23/100\n",
      "101/101 [==============================] - 0s - loss: 0.0973     \n",
      "Epoch 24/100\n",
      "101/101 [==============================] - 0s - loss: 0.0972     \n",
      "Epoch 25/100\n",
      "101/101 [==============================] - 0s - loss: 0.0971     \n",
      "Epoch 26/100\n",
      "101/101 [==============================] - 0s - loss: 0.0968     \n",
      "Epoch 27/100\n",
      "101/101 [==============================] - 0s - loss: 0.0968     \n",
      "Epoch 28/100\n",
      "101/101 [==============================] - 0s - loss: 0.0966     \n",
      "Epoch 29/100\n",
      "101/101 [==============================] - 0s - loss: 0.0966     \n",
      "Epoch 30/100\n",
      "101/101 [==============================] - 0s - loss: 0.0966     \n",
      "Epoch 31/100\n",
      "101/101 [==============================] - 0s - loss: 0.0966     \n",
      "Epoch 32/100\n",
      "101/101 [==============================] - 0s - loss: 0.0964     \n",
      "Epoch 33/100\n",
      "101/101 [==============================] - 0s - loss: 0.0963     \n",
      "Epoch 34/100\n",
      "101/101 [==============================] - 0s - loss: 0.0962     \n",
      "Epoch 35/100\n",
      "101/101 [==============================] - 0s - loss: 0.0961     \n",
      "Epoch 36/100\n",
      "101/101 [==============================] - 0s - loss: 0.0961     \n",
      "Epoch 37/100\n",
      "101/101 [==============================] - 0s - loss: 0.0960     \n",
      "Epoch 38/100\n",
      "101/101 [==============================] - 0s - loss: 0.0962     \n",
      "Epoch 39/100\n",
      "101/101 [==============================] - 0s - loss: 0.0960     \n",
      "Epoch 40/100\n",
      "101/101 [==============================] - 0s - loss: 0.0959     \n",
      "Epoch 41/100\n",
      "101/101 [==============================] - 0s - loss: 0.0959     \n",
      "Epoch 42/100\n",
      "101/101 [==============================] - 0s - loss: 0.0959     \n",
      "Epoch 43/100\n",
      "101/101 [==============================] - 0s - loss: 0.0959     \n",
      "Epoch 44/100\n",
      "101/101 [==============================] - 0s - loss: 0.0959     \n",
      "Epoch 45/100\n",
      "101/101 [==============================] - 0s - loss: 0.0959     \n",
      "Epoch 46/100\n",
      "101/101 [==============================] - 0s - loss: 0.0958     \n",
      "Epoch 47/100\n",
      "101/101 [==============================] - 0s - loss: 0.0959     \n",
      "Epoch 48/100\n",
      "101/101 [==============================] - 0s - loss: 0.0958     \n",
      "Epoch 49/100\n",
      "101/101 [==============================] - 0s - loss: 0.0957     \n",
      "Epoch 50/100\n",
      "101/101 [==============================] - ETA: 0s - loss: 0.114 - 0s - loss: 0.0957     \n",
      "Epoch 51/100\n",
      "101/101 [==============================] - 0s - loss: 0.0957     \n",
      "Epoch 52/100\n",
      "101/101 [==============================] - 0s - loss: 0.0959     \n",
      "Epoch 53/100\n",
      "101/101 [==============================] - 0s - loss: 0.0957     \n",
      "Epoch 54/100\n",
      "101/101 [==============================] - 0s - loss: 0.0957     \n",
      "Epoch 55/100\n",
      "101/101 [==============================] - 0s - loss: 0.0960     \n",
      "Epoch 56/100\n",
      "101/101 [==============================] - 0s - loss: 0.0957     \n",
      "Epoch 57/100\n",
      "101/101 [==============================] - 0s - loss: 0.0957     \n",
      "Epoch 58/100\n",
      "101/101 [==============================] - 0s - loss: 0.0957     \n",
      "Epoch 59/100\n",
      "101/101 [==============================] - 0s - loss: 0.0956     \n",
      "Epoch 60/100\n",
      "101/101 [==============================] - 0s - loss: 0.0957     \n",
      "Epoch 61/100\n",
      "101/101 [==============================] - 0s - loss: 0.0956     \n",
      "Epoch 62/100\n",
      "101/101 [==============================] - 0s - loss: 0.0957     \n",
      "Epoch 63/100\n",
      "101/101 [==============================] - 0s - loss: 0.0956     \n",
      "Epoch 64/100\n",
      "101/101 [==============================] - 0s - loss: 0.0957     \n",
      "Epoch 65/100\n",
      "101/101 [==============================] - 0s - loss: 0.0956     \n",
      "Epoch 66/100\n",
      "101/101 [==============================] - 0s - loss: 0.0956     \n",
      "Epoch 67/100\n",
      "101/101 [==============================] - 0s - loss: 0.0957     \n",
      "Epoch 68/100\n",
      "101/101 [==============================] - 0s - loss: 0.0956     \n",
      "Epoch 69/100\n",
      "101/101 [==============================] - 0s - loss: 0.0956     \n",
      "Epoch 70/100\n",
      "101/101 [==============================] - 0s - loss: 0.0955     \n",
      "Epoch 71/100\n",
      "101/101 [==============================] - 0s - loss: 0.0957     \n",
      "Epoch 72/100\n",
      "101/101 [==============================] - 0s - loss: 0.0957     \n",
      "Epoch 73/100\n",
      "101/101 [==============================] - 0s - loss: 0.0956     \n",
      "Epoch 74/100\n",
      "101/101 [==============================] - 0s - loss: 0.0955     \n",
      "Epoch 75/100\n",
      "101/101 [==============================] - 0s - loss: 0.0956     \n",
      "Epoch 76/100\n",
      "101/101 [==============================] - 0s - loss: 0.0955     \n",
      "Epoch 77/100\n",
      "101/101 [==============================] - 0s - loss: 0.0955     \n",
      "Epoch 78/100\n",
      "101/101 [==============================] - 0s - loss: 0.0955     \n",
      "Epoch 79/100\n",
      "101/101 [==============================] - 0s - loss: 0.0955     \n",
      "Epoch 80/100\n",
      "101/101 [==============================] - 0s - loss: 0.0956     \n",
      "Epoch 81/100\n",
      "101/101 [==============================] - 0s - loss: 0.0955     \n",
      "Epoch 82/100\n",
      "101/101 [==============================] - 0s - loss: 0.0955     \n",
      "Epoch 83/100\n",
      "101/101 [==============================] - 0s - loss: 0.0955     \n",
      "Epoch 84/100\n",
      "101/101 [==============================] - 0s - loss: 0.0955     \n",
      "Epoch 85/100\n",
      "101/101 [==============================] - 0s - loss: 0.0956     \n",
      "Epoch 86/100\n",
      "101/101 [==============================] - 0s - loss: 0.0955     \n",
      "Epoch 87/100\n",
      "101/101 [==============================] - 0s - loss: 0.0956     \n",
      "Epoch 88/100\n",
      "101/101 [==============================] - 0s - loss: 0.0955     \n",
      "Epoch 89/100\n",
      "101/101 [==============================] - 0s - loss: 0.0955     \n",
      "Epoch 90/100\n",
      "101/101 [==============================] - 0s - loss: 0.0956     \n",
      "Epoch 91/100\n",
      "101/101 [==============================] - 0s - loss: 0.0954     \n",
      "Epoch 92/100\n",
      "101/101 [==============================] - 0s - loss: 0.0955     \n",
      "Epoch 93/100\n",
      "101/101 [==============================] - 0s - loss: 0.0954     \n",
      "Epoch 94/100\n",
      "101/101 [==============================] - 0s - loss: 0.0955     \n",
      "Epoch 95/100\n",
      "101/101 [==============================] - 0s - loss: 0.0955     \n",
      "Epoch 96/100\n",
      "101/101 [==============================] - 0s - loss: 0.0954     \n",
      "Epoch 97/100\n",
      "101/101 [==============================] - 0s - loss: 0.0956     \n",
      "Epoch 98/100\n",
      "101/101 [==============================] - 0s - loss: 0.0954     \n",
      "Epoch 99/100\n",
      "101/101 [==============================] - 0s - loss: 0.0955     \n",
      "Epoch 100/100\n",
      "101/101 [==============================] - 0s - loss: 0.0955     \n"
     ]
    },
    {
     "data": {
      "text/plain": [
       "<keras.callbacks.History at 0x119ab6e10>"
      ]
     },
     "execution_count": 10,
     "metadata": {},
     "output_type": "execute_result"
    }
   ],
   "source": [
    "# Train\n",
    "model.fit(trX, trY, nb_epoch=100, batch_size=32, verbose=1)"
   ]
  },
  {
   "cell_type": "code",
   "execution_count": 11,
   "metadata": {},
   "outputs": [
    {
     "name": "stdout",
     "output_type": "stream",
     "text": [
      "Linear regression model is trained with weight w: 1.95, b: 0.01\n"
     ]
    }
   ],
   "source": [
    "# Print trained weights\n",
    "weights = model.layers[0].get_weights()\n",
    "w = weights[0][0][0]\n",
    "b = weights[1][0]\n",
    "print('Linear regression model is trained with weight w: %.2f, b: %.2f' % (w, b))"
   ]
  },
  {
   "cell_type": "code",
   "execution_count": 12,
   "metadata": {},
   "outputs": [
    {
     "data": {
      "image/png": "[encoded data removed]",
      "text/plain": [
       "<matplotlib.figure.Figure at 0x119ab6588>"
      ]
     },
     "metadata": {},
     "output_type": "display_data"
    }
   ],
   "source": [
    "plt.plot(trX, trY, label='data')\n",
    "plt.plot(trX, w_init*trX + b_init, label='init')\n",
    "plt.plot(trX, w*trX + b, label='prediction')\n",
    "plt.legend()\n",
    "plt.show()"
   ]
  },
  {
   "cell_type": "code",
   "execution_count": null,
   "metadata": {
    "collapsed": true
   },
   "outputs": [],
   "source": []
  }
 ],
 "metadata": {
  "kernelspec": {
   "display_name": "Python 3",
   "language": "python",
   "name": "python3"
  },
  "language_info": {
   "codemirror_mode": {
    "name": "ipython",
    "version": 3
   },
   "file_extension": ".py",
   "mimetype": "text/x-python",
   "name": "python",
   "nbconvert_exporter": "python",
   "pygments_lexer": "ipython3",
   "version": "3.6.1"
  }
 },
 "nbformat": 4,
 "nbformat_minor": 1
}
