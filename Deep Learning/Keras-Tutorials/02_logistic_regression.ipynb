{
 "cells": [
  {
   "cell_type": "code",
   "execution_count": 31,
   "metadata": {},
   "outputs": [],
   "source": [
    "from keras.models import Sequential\n",
    "from keras.layers import Dense\n",
    "from keras.optimizers import SGD\n",
    "from keras.datasets import mnist\n",
    "from keras.utils import np_utils\n",
    "\n",
    "import numpy as np\n",
    "%matplotlib inline\n",
    "import matplotlib.pyplot as plt\n",
    "import matplotlib.cm as cm"
   ]
  },
  {
   "cell_type": "code",
   "execution_count": 2,
   "metadata": {
    "collapsed": true
   },
   "outputs": [],
   "source": [
    "batch_size = 128\n",
    "nb_classes = 10\n",
    "nb_epoch = 100"
   ]
  },
  {
   "cell_type": "code",
   "execution_count": 3,
   "metadata": {},
   "outputs": [],
   "source": [
    "# Load MNIST dataset\n",
    "(X_train, y_train), (X_test, y_test) = mnist.load_data()\n",
    "X_train = X_train.reshape(60000, 784)\n",
    "X_test = X_test.reshape(10000, 784)\n",
    "X_train = X_train.astype('float32')\n",
    "X_test = X_test.astype('float32')\n",
    "X_train /= 255\n",
    "X_test /= 255\n",
    "Y_Train = np_utils.to_categorical(y_train, nb_classes)\n",
    "Y_Test = np_utils.to_categorical(y_test, nb_classes)"
   ]
  },
  {
   "cell_type": "code",
   "execution_count": 5,
   "metadata": {},
   "outputs": [
    {
     "name": "stdout",
     "output_type": "stream",
     "text": [
      "_________________________________________________________________\n",
      "Layer (type)                 Output Shape              Param #   \n",
      "=================================================================\n",
      "dense_2 (Dense)              (None, 10)                7850      \n",
      "=================================================================\n",
      "Total params: 7,850.0\n",
      "Trainable params: 7,850\n",
      "Non-trainable params: 0.0\n",
      "_________________________________________________________________\n"
     ]
    },
    {
     "name": "stderr",
     "output_type": "stream",
     "text": [
      "/Users/MH/anaconda/envs/py36/lib/python3.6/site-packages/ipykernel_launcher.py:3: UserWarning: Update your `Dense` call to the Keras 2 API: `Dense(input_shape=(784,), activation=\"softmax\", units=10, kernel_initializer=\"normal\")`\n",
      "  This is separate from the ipykernel package so we can avoid doing imports until\n"
     ]
    }
   ],
   "source": [
    "# Logistic regression model\n",
    "model = Sequential()\n",
    "model.add(Dense(output_dim=10, input_shape=(784,), init='normal', activation='softmax'))\n",
    "model.compile(optimizer=SGD(lr=0.05), loss='categorical_crossentropy', metrics=['accuracy'])\n",
    "model.summary()"
   ]
  },
  {
   "cell_type": "code",
   "execution_count": 6,
   "metadata": {},
   "outputs": [
    {
     "name": "stderr",
     "output_type": "stream",
     "text": [
      "/Users/MH/anaconda/envs/py36/lib/python3.6/site-packages/keras/models.py:826: UserWarning: The `nb_epoch` argument in `fit` has been renamed `epochs`.\n",
      "  warnings.warn('The `nb_epoch` argument in `fit` '\n"
     ]
    },
    {
     "name": "stdout",
     "output_type": "stream",
     "text": [
      "Epoch 1/100\n",
      "60000/60000 [==============================] - 1s - loss: 0.7244 - acc: 0.8231     \n",
      "Epoch 2/100\n",
      "60000/60000 [==============================] - 1s - loss: 0.4337 - acc: 0.8840     \n",
      "Epoch 3/100\n",
      "60000/60000 [==============================] - 1s - loss: 0.3871 - acc: 0.8950     \n",
      "Epoch 4/100\n",
      "60000/60000 [==============================] - 1s - loss: 0.3634 - acc: 0.9005     \n",
      "Epoch 5/100\n",
      "60000/60000 [==============================] - 1s - loss: 0.3483 - acc: 0.9043     \n",
      "Epoch 6/100\n",
      "60000/60000 [==============================] - 1s - loss: 0.3377 - acc: 0.9059     \n",
      "Epoch 7/100\n",
      "60000/60000 [==============================] - 1s - loss: 0.3293 - acc: 0.9082     \n",
      "Epoch 8/100\n",
      "60000/60000 [==============================] - 1s - loss: 0.3229 - acc: 0.9102     \n",
      "Epoch 9/100\n",
      "60000/60000 [==============================] - 1s - loss: 0.3176 - acc: 0.9119     \n",
      "Epoch 10/100\n",
      "60000/60000 [==============================] - 1s - loss: 0.3129 - acc: 0.9133     \n",
      "Epoch 11/100\n",
      "60000/60000 [==============================] - 1s - loss: 0.3093 - acc: 0.9140     \n",
      "Epoch 12/100\n",
      "60000/60000 [==============================] - 1s - loss: 0.3059 - acc: 0.9153     \n",
      "Epoch 13/100\n",
      "60000/60000 [==============================] - 1s - loss: 0.3029 - acc: 0.9161     \n",
      "Epoch 14/100\n",
      "60000/60000 [==============================] - 1s - loss: 0.3003 - acc: 0.9163     \n",
      "Epoch 15/100\n",
      "60000/60000 [==============================] - 1s - loss: 0.2980 - acc: 0.9169     \n",
      "Epoch 16/100\n",
      "60000/60000 [==============================] - 1s - loss: 0.2957 - acc: 0.9178     \n",
      "Epoch 17/100\n",
      "60000/60000 [==============================] - 1s - loss: 0.2939 - acc: 0.9182     \n",
      "Epoch 18/100\n",
      "60000/60000 [==============================] - 1s - loss: 0.2921 - acc: 0.9179     \n",
      "Epoch 19/100\n",
      "60000/60000 [==============================] - 1s - loss: 0.2905 - acc: 0.9190     \n",
      "Epoch 20/100\n",
      "60000/60000 [==============================] - 1s - loss: 0.2890 - acc: 0.9193     \n",
      "Epoch 21/100\n",
      "60000/60000 [==============================] - 1s - loss: 0.2875 - acc: 0.9198     \n",
      "Epoch 22/100\n",
      "60000/60000 [==============================] - 1s - loss: 0.2863 - acc: 0.9200     \n",
      "Epoch 23/100\n",
      "60000/60000 [==============================] - 1s - loss: 0.2850 - acc: 0.9205     \n",
      "Epoch 24/100\n",
      "60000/60000 [==============================] - 1s - loss: 0.2838 - acc: 0.9212     \n",
      "Epoch 25/100\n",
      "60000/60000 [==============================] - 1s - loss: 0.2828 - acc: 0.9210     \n",
      "Epoch 26/100\n",
      "60000/60000 [==============================] - 1s - loss: 0.2817 - acc: 0.9217     \n",
      "Epoch 27/100\n",
      "60000/60000 [==============================] - 1s - loss: 0.2808 - acc: 0.9218     \n",
      "Epoch 28/100\n",
      "60000/60000 [==============================] - 1s - loss: 0.2799 - acc: 0.9225     \n",
      "Epoch 29/100\n",
      "60000/60000 [==============================] - 1s - loss: 0.2790 - acc: 0.9227     \n",
      "Epoch 30/100\n",
      "60000/60000 [==============================] - 1s - loss: 0.2782 - acc: 0.9222     \n",
      "Epoch 31/100\n",
      "60000/60000 [==============================] - 1s - loss: 0.2772 - acc: 0.9229     \n",
      "Epoch 32/100\n",
      "60000/60000 [==============================] - 1s - loss: 0.2765 - acc: 0.9233     \n",
      "Epoch 33/100\n",
      "60000/60000 [==============================] - 1s - loss: 0.2758 - acc: 0.9234     \n",
      "Epoch 34/100\n",
      "60000/60000 [==============================] - 1s - loss: 0.2752 - acc: 0.9239     \n",
      "Epoch 35/100\n",
      "60000/60000 [==============================] - 1s - loss: 0.2744 - acc: 0.9237     \n",
      "Epoch 36/100\n",
      "60000/60000 [==============================] - 1s - loss: 0.2736 - acc: 0.9238     \n",
      "Epoch 37/100\n",
      "60000/60000 [==============================] - 1s - loss: 0.2732 - acc: 0.9242     \n",
      "Epoch 38/100\n",
      "60000/60000 [==============================] - 1s - loss: 0.2725 - acc: 0.9242     \n",
      "Epoch 39/100\n",
      "60000/60000 [==============================] - 1s - loss: 0.2720 - acc: 0.9239     \n",
      "Epoch 40/100\n",
      "60000/60000 [==============================] - 1s - loss: 0.2714 - acc: 0.9250     \n",
      "Epoch 41/100\n",
      "60000/60000 [==============================] - 1s - loss: 0.2710 - acc: 0.9250     \n",
      "Epoch 42/100\n",
      "60000/60000 [==============================] - 1s - loss: 0.2705 - acc: 0.9249     \n",
      "Epoch 43/100\n",
      "60000/60000 [==============================] - 1s - loss: 0.2697 - acc: 0.9248     \n",
      "Epoch 44/100\n",
      "60000/60000 [==============================] - 1s - loss: 0.2693 - acc: 0.9253     \n",
      "Epoch 45/100\n",
      "60000/60000 [==============================] - 1s - loss: 0.2689 - acc: 0.9258     \n",
      "Epoch 46/100\n",
      "60000/60000 [==============================] - 1s - loss: 0.2685 - acc: 0.9255     \n",
      "Epoch 47/100\n",
      "60000/60000 [==============================] - 1s - loss: 0.2681 - acc: 0.9256     \n",
      "Epoch 48/100\n",
      "60000/60000 [==============================] - 1s - loss: 0.2677 - acc: 0.9258     \n",
      "Epoch 49/100\n",
      "60000/60000 [==============================] - 1s - loss: 0.2672 - acc: 0.9260     \n",
      "Epoch 50/100\n",
      "60000/60000 [==============================] - 1s - loss: 0.2666 - acc: 0.9262     \n",
      "Epoch 51/100\n",
      "60000/60000 [==============================] - 1s - loss: 0.2664 - acc: 0.9262     \n",
      "Epoch 52/100\n",
      "60000/60000 [==============================] - 1s - loss: 0.2660 - acc: 0.9263     \n",
      "Epoch 53/100\n",
      "60000/60000 [==============================] - 1s - loss: 0.2656 - acc: 0.9261     \n",
      "Epoch 54/100\n",
      "60000/60000 [==============================] - 1s - loss: 0.2653 - acc: 0.9263     \n",
      "Epoch 55/100\n",
      "60000/60000 [==============================] - 1s - loss: 0.2648 - acc: 0.9266     \n",
      "Epoch 56/100\n",
      "60000/60000 [==============================] - 1s - loss: 0.2646 - acc: 0.9267     \n",
      "Epoch 57/100\n",
      "60000/60000 [==============================] - 1s - loss: 0.2642 - acc: 0.9268     \n",
      "Epoch 58/100\n",
      "60000/60000 [==============================] - 1s - loss: 0.2639 - acc: 0.9270     \n",
      "Epoch 59/100\n",
      "60000/60000 [==============================] - 1s - loss: 0.2635 - acc: 0.9270     \n",
      "Epoch 60/100\n",
      "60000/60000 [==============================] - 1s - loss: 0.2632 - acc: 0.9273     \n",
      "Epoch 61/100\n",
      "60000/60000 [==============================] - 1s - loss: 0.2629 - acc: 0.9273     \n",
      "Epoch 62/100\n",
      "60000/60000 [==============================] - 1s - loss: 0.2626 - acc: 0.9275     \n",
      "Epoch 63/100\n",
      "60000/60000 [==============================] - 1s - loss: 0.2622 - acc: 0.9276     \n",
      "Epoch 64/100\n",
      "60000/60000 [==============================] - 1s - loss: 0.2620 - acc: 0.9275     \n",
      "Epoch 65/100\n",
      "60000/60000 [==============================] - 1s - loss: 0.2617 - acc: 0.9278     \n",
      "Epoch 66/100\n",
      "60000/60000 [==============================] - 1s - loss: 0.2614 - acc: 0.9278     \n",
      "Epoch 67/100\n",
      "60000/60000 [==============================] - 1s - loss: 0.2611 - acc: 0.9281     \n",
      "Epoch 68/100\n",
      "60000/60000 [==============================] - 1s - loss: 0.2607 - acc: 0.9278     \n",
      "Epoch 69/100\n",
      "60000/60000 [==============================] - 1s - loss: 0.2607 - acc: 0.9282     \n",
      "Epoch 70/100\n",
      "60000/60000 [==============================] - 1s - loss: 0.2604 - acc: 0.9281     \n",
      "Epoch 71/100\n",
      "60000/60000 [==============================] - 1s - loss: 0.2601 - acc: 0.9281     \n",
      "Epoch 72/100\n",
      "60000/60000 [==============================] - 1s - loss: 0.2598 - acc: 0.9283     \n",
      "Epoch 73/100\n",
      "60000/60000 [==============================] - 1s - loss: 0.2595 - acc: 0.9283     \n",
      "Epoch 74/100\n",
      "60000/60000 [==============================] - 1s - loss: 0.2593 - acc: 0.9285     \n",
      "Epoch 75/100\n",
      "60000/60000 [==============================] - 1s - loss: 0.2590 - acc: 0.9283     \n",
      "Epoch 76/100\n",
      "60000/60000 [==============================] - 1s - loss: 0.2588 - acc: 0.9288     \n",
      "Epoch 77/100\n",
      "60000/60000 [==============================] - 1s - loss: 0.2586 - acc: 0.9287     \n",
      "Epoch 78/100\n",
      "60000/60000 [==============================] - 1s - loss: 0.2585 - acc: 0.9288     \n",
      "Epoch 79/100\n",
      "60000/60000 [==============================] - 1s - loss: 0.2582 - acc: 0.9289     \n",
      "Epoch 80/100\n",
      "60000/60000 [==============================] - 1s - loss: 0.2579 - acc: 0.9292     \n",
      "Epoch 81/100\n",
      "60000/60000 [==============================] - 1s - loss: 0.2578 - acc: 0.9289     \n",
      "Epoch 82/100\n",
      "60000/60000 [==============================] - 1s - loss: 0.2575 - acc: 0.9292     \n",
      "Epoch 83/100\n",
      "60000/60000 [==============================] - 1s - loss: 0.2573 - acc: 0.9291     \n",
      "Epoch 84/100\n",
      "60000/60000 [==============================] - 1s - loss: 0.2571 - acc: 0.9293     \n",
      "Epoch 85/100\n"
     ]
    },
    {
     "name": "stdout",
     "output_type": "stream",
     "text": [
      "60000/60000 [==============================] - 1s - loss: 0.2568 - acc: 0.9293     \n",
      "Epoch 86/100\n",
      "60000/60000 [==============================] - 1s - loss: 0.2565 - acc: 0.9291     \n",
      "Epoch 87/100\n",
      "60000/60000 [==============================] - 1s - loss: 0.2566 - acc: 0.9294     \n",
      "Epoch 88/100\n",
      "60000/60000 [==============================] - 1s - loss: 0.2564 - acc: 0.9294     \n",
      "Epoch 89/100\n",
      "60000/60000 [==============================] - 1s - loss: 0.2561 - acc: 0.9292     \n",
      "Epoch 90/100\n",
      "60000/60000 [==============================] - 1s - loss: 0.2559 - acc: 0.9298     \n",
      "Epoch 91/100\n",
      "60000/60000 [==============================] - 1s - loss: 0.2557 - acc: 0.9297     \n",
      "Epoch 92/100\n",
      "60000/60000 [==============================] - 1s - loss: 0.2556 - acc: 0.9297     \n",
      "Epoch 93/100\n",
      "60000/60000 [==============================] - 1s - loss: 0.2553 - acc: 0.9298     \n",
      "Epoch 94/100\n",
      "60000/60000 [==============================] - 1s - loss: 0.2552 - acc: 0.9296     \n",
      "Epoch 95/100\n",
      "60000/60000 [==============================] - 1s - loss: 0.2550 - acc: 0.9299     \n",
      "Epoch 96/100\n",
      "60000/60000 [==============================] - 1s - loss: 0.2549 - acc: 0.9300     \n",
      "Epoch 97/100\n",
      "60000/60000 [==============================] - 1s - loss: 0.2547 - acc: 0.9301     \n",
      "Epoch 98/100\n",
      "60000/60000 [==============================] - 1s - loss: 0.2545 - acc: 0.9302     \n",
      "Epoch 99/100\n",
      "60000/60000 [==============================] - 1s - loss: 0.2544 - acc: 0.9299     \n",
      "Epoch 100/100\n",
      "60000/60000 [==============================] - 1s - loss: 0.2542 - acc: 0.9300     \n"
     ]
    }
   ],
   "source": [
    "# Train\n",
    "history = model.fit(X_train, Y_Train, nb_epoch=nb_epoch, batch_size=batch_size, verbose=1)"
   ]
  },
  {
   "cell_type": "code",
   "execution_count": 7,
   "metadata": {},
   "outputs": [
    {
     "name": "stdout",
     "output_type": "stream",
     "text": [
      " 9184/10000 [==========================>...] - ETA: 0sSummary: Loss over the test dataset: 0.27, Accuracy: 0.92\n"
     ]
    }
   ],
   "source": [
    "# Evaluate\n",
    "evaluation = model.evaluate(X_test, Y_Test, verbose=1)\n",
    "print('Summary: Loss over the test dataset: %.2f, Accuracy: %.2f' % (evaluation[0], evaluation[1]))"
   ]
  },
  {
   "cell_type": "code",
   "execution_count": 52,
   "metadata": {},
   "outputs": [
    {
     "ename": "ValueError",
     "evalue": "Error when checking : expected dense_2_input to have shape (None, 784) but got array with shape (784, 1)",
     "output_type": "error",
     "traceback": [
      "\u001b[0;31m---------------------------------------------------------------------------\u001b[0m",
      "\u001b[0;31mValueError\u001b[0m                                Traceback (most recent call last)",
      "\u001b[0;32m<ipython-input-52-3ec345347d18>\u001b[0m in \u001b[0;36m<module>\u001b[0;34m()\u001b[0m\n\u001b[1;32m      1\u001b[0m \u001b[0mindex\u001b[0m \u001b[0;34m=\u001b[0m \u001b[0;36m10\u001b[0m\u001b[0;34m\u001b[0m\u001b[0m\n\u001b[1;32m      2\u001b[0m \u001b[0;34m\u001b[0m\u001b[0m\n\u001b[0;32m----> 3\u001b[0;31m \u001b[0mpredictions\u001b[0m \u001b[0;34m=\u001b[0m \u001b[0mmodel\u001b[0m\u001b[0;34m.\u001b[0m\u001b[0mpredict\u001b[0m\u001b[0;34m(\u001b[0m\u001b[0mX_train\u001b[0m\u001b[0;34m[\u001b[0m\u001b[0mindex\u001b[0m\u001b[0;34m]\u001b[0m\u001b[0;34m.\u001b[0m\u001b[0mtranspose\u001b[0m\u001b[0;34m(\u001b[0m\u001b[0;34m)\u001b[0m\u001b[0;34m)\u001b[0m\u001b[0;34m\u001b[0m\u001b[0m\n\u001b[0m\u001b[1;32m      4\u001b[0m \u001b[0;31m# round predictions\u001b[0m\u001b[0;34m\u001b[0m\u001b[0;34m\u001b[0m\u001b[0m\n\u001b[1;32m      5\u001b[0m \u001b[0;31m# rounded = [round(x[0]) for x in predictions]\u001b[0m\u001b[0;34m\u001b[0m\u001b[0;34m\u001b[0m\u001b[0m\n",
      "\u001b[0;32m/Users/MH/anaconda/envs/py36/lib/python3.6/site-packages/keras/models.py\u001b[0m in \u001b[0;36mpredict\u001b[0;34m(self, x, batch_size, verbose)\u001b[0m\n\u001b[1;32m    889\u001b[0m         \u001b[0;32mif\u001b[0m \u001b[0mself\u001b[0m\u001b[0;34m.\u001b[0m\u001b[0mmodel\u001b[0m \u001b[0;32mis\u001b[0m \u001b[0;32mNone\u001b[0m\u001b[0;34m:\u001b[0m\u001b[0;34m\u001b[0m\u001b[0m\n\u001b[1;32m    890\u001b[0m             \u001b[0mself\u001b[0m\u001b[0;34m.\u001b[0m\u001b[0mbuild\u001b[0m\u001b[0;34m(\u001b[0m\u001b[0;34m)\u001b[0m\u001b[0;34m\u001b[0m\u001b[0m\n\u001b[0;32m--> 891\u001b[0;31m         \u001b[0;32mreturn\u001b[0m \u001b[0mself\u001b[0m\u001b[0;34m.\u001b[0m\u001b[0mmodel\u001b[0m\u001b[0;34m.\u001b[0m\u001b[0mpredict\u001b[0m\u001b[0;34m(\u001b[0m\u001b[0mx\u001b[0m\u001b[0;34m,\u001b[0m \u001b[0mbatch_size\u001b[0m\u001b[0;34m=\u001b[0m\u001b[0mbatch_size\u001b[0m\u001b[0;34m,\u001b[0m \u001b[0mverbose\u001b[0m\u001b[0;34m=\u001b[0m\u001b[0mverbose\u001b[0m\u001b[0;34m)\u001b[0m\u001b[0;34m\u001b[0m\u001b[0m\n\u001b[0m\u001b[1;32m    892\u001b[0m \u001b[0;34m\u001b[0m\u001b[0m\n\u001b[1;32m    893\u001b[0m     \u001b[0;32mdef\u001b[0m \u001b[0mpredict_on_batch\u001b[0m\u001b[0;34m(\u001b[0m\u001b[0mself\u001b[0m\u001b[0;34m,\u001b[0m \u001b[0mx\u001b[0m\u001b[0;34m)\u001b[0m\u001b[0;34m:\u001b[0m\u001b[0;34m\u001b[0m\u001b[0m\n",
      "\u001b[0;32m/Users/MH/anaconda/envs/py36/lib/python3.6/site-packages/keras/engine/training.py\u001b[0m in \u001b[0;36mpredict\u001b[0;34m(self, x, batch_size, verbose)\u001b[0m\n\u001b[1;32m   1552\u001b[0m         x = _standardize_input_data(x, self._feed_input_names,\n\u001b[1;32m   1553\u001b[0m                                     \u001b[0mself\u001b[0m\u001b[0;34m.\u001b[0m\u001b[0m_feed_input_shapes\u001b[0m\u001b[0;34m,\u001b[0m\u001b[0;34m\u001b[0m\u001b[0m\n\u001b[0;32m-> 1554\u001b[0;31m                                     check_batch_axis=False)\n\u001b[0m\u001b[1;32m   1555\u001b[0m         \u001b[0;32mif\u001b[0m \u001b[0mself\u001b[0m\u001b[0;34m.\u001b[0m\u001b[0mstateful\u001b[0m\u001b[0;34m:\u001b[0m\u001b[0;34m\u001b[0m\u001b[0m\n\u001b[1;32m   1556\u001b[0m             \u001b[0;32mif\u001b[0m \u001b[0mx\u001b[0m\u001b[0;34m[\u001b[0m\u001b[0;36m0\u001b[0m\u001b[0;34m]\u001b[0m\u001b[0;34m.\u001b[0m\u001b[0mshape\u001b[0m\u001b[0;34m[\u001b[0m\u001b[0;36m0\u001b[0m\u001b[0;34m]\u001b[0m \u001b[0;34m>\u001b[0m \u001b[0mbatch_size\u001b[0m \u001b[0;32mand\u001b[0m \u001b[0mx\u001b[0m\u001b[0;34m[\u001b[0m\u001b[0;36m0\u001b[0m\u001b[0;34m]\u001b[0m\u001b[0;34m.\u001b[0m\u001b[0mshape\u001b[0m\u001b[0;34m[\u001b[0m\u001b[0;36m0\u001b[0m\u001b[0;34m]\u001b[0m \u001b[0;34m%\u001b[0m \u001b[0mbatch_size\u001b[0m \u001b[0;34m!=\u001b[0m \u001b[0;36m0\u001b[0m\u001b[0;34m:\u001b[0m\u001b[0;34m\u001b[0m\u001b[0m\n",
      "\u001b[0;32m/Users/MH/anaconda/envs/py36/lib/python3.6/site-packages/keras/engine/training.py\u001b[0m in \u001b[0;36m_standardize_input_data\u001b[0;34m(data, names, shapes, check_batch_axis, exception_prefix)\u001b[0m\n\u001b[1;32m    131\u001b[0m                             \u001b[0;34m' to have shape '\u001b[0m \u001b[0;34m+\u001b[0m \u001b[0mstr\u001b[0m\u001b[0;34m(\u001b[0m\u001b[0mshapes\u001b[0m\u001b[0;34m[\u001b[0m\u001b[0mi\u001b[0m\u001b[0;34m]\u001b[0m\u001b[0;34m)\u001b[0m \u001b[0;34m+\u001b[0m\u001b[0;34m\u001b[0m\u001b[0m\n\u001b[1;32m    132\u001b[0m                             \u001b[0;34m' but got array with shape '\u001b[0m \u001b[0;34m+\u001b[0m\u001b[0;34m\u001b[0m\u001b[0m\n\u001b[0;32m--> 133\u001b[0;31m                             str(array.shape))\n\u001b[0m\u001b[1;32m    134\u001b[0m     \u001b[0;32mreturn\u001b[0m \u001b[0marrays\u001b[0m\u001b[0;34m\u001b[0m\u001b[0m\n\u001b[1;32m    135\u001b[0m \u001b[0;34m\u001b[0m\u001b[0m\n",
      "\u001b[0;31mValueError\u001b[0m: Error when checking : expected dense_2_input to have shape (None, 784) but got array with shape (784, 1)"
     ]
    }
   ],
   "source": [
    "index = 10\n",
    "\n",
    "predictions = model.predict(X_train[index].transpose())\n",
    "# round predictions\n",
    "# rounded = [round(x[0]) for x in predictions]\n",
    "# print(rounded)"
   ]
  },
  {
   "cell_type": "code",
   "execution_count": 34,
   "metadata": {},
   "outputs": [
    {
     "data": {
      "image/png": "[encoded data removed]",
      "text/plain": [
       "<matplotlib.figure.Figure at 0x131132278>"
      ]
     },
     "metadata": {},
     "output_type": "display_data"
    }
   ],
   "source": [
    "plt.imshow(X_train[index].reshape((28, 28)), cmap=cm.Greys_r)\n",
    "plt.show()"
   ]
  },
  {
   "cell_type": "code",
   "execution_count": 43,
   "metadata": {},
   "outputs": [
    {
     "data": {
      "text/plain": [
       "(784,)"
      ]
     },
     "execution_count": 43,
     "metadata": {},
     "output_type": "execute_result"
    }
   ],
   "source": [
    "X_train[index].shape"
   ]
  },
  {
   "cell_type": "code",
   "execution_count": null,
   "metadata": {
    "collapsed": true
   },
   "outputs": [],
   "source": []
  }
 ],
 "metadata": {
  "kernelspec": {
   "display_name": "Python 3",
   "language": "python",
   "name": "python3"
  },
  "language_info": {
   "codemirror_mode": {
    "name": "ipython",
    "version": 3
   },
   "file_extension": ".py",
   "mimetype": "text/x-python",
   "name": "python",
   "nbconvert_exporter": "python",
   "pygments_lexer": "ipython3",
   "version": "3.6.1"
  }
 },
 "nbformat": 4,
 "nbformat_minor": 1
}
