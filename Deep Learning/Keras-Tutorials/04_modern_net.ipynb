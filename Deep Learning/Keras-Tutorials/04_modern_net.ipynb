{
 "cells": [
  {
   "cell_type": "code",
   "execution_count": 1,
   "metadata": {},
   "outputs": [
    {
     "name": "stderr",
     "output_type": "stream",
     "text": [
      "Using TensorFlow backend.\n"
     ]
    }
   ],
   "source": [
    "from keras.models import Sequential\n",
    "from keras.layers import Dense, Activation, Dropout\n",
    "from keras.optimizers import RMSprop\n",
    "from keras.datasets import mnist\n",
    "from keras.utils import np_utils"
   ]
  },
  {
   "cell_type": "code",
   "execution_count": 2,
   "metadata": {
    "collapsed": true
   },
   "outputs": [],
   "source": [
    "batch_size = 128\n",
    "nb_classes = 10\n",
    "nb_epoch = 100"
   ]
  },
  {
   "cell_type": "code",
   "execution_count": 3,
   "metadata": {
    "collapsed": true
   },
   "outputs": [],
   "source": [
    "# Load MNIST dataset\n",
    "(X_train, y_train), (X_test, y_test) = mnist.load_data()\n",
    "X_train = X_train.reshape(60000, 784)\n",
    "X_test = X_test.reshape(10000, 784)\n",
    "X_train = X_train.astype('float32')\n",
    "X_test = X_test.astype('float32')\n",
    "X_train /= 255\n",
    "X_test /= 255\n",
    "Y_train = np_utils.to_categorical(y_train, nb_classes)\n",
    "Y_test = np_utils.to_categorical(y_test, nb_classes)"
   ]
  },
  {
   "cell_type": "code",
   "execution_count": 4,
   "metadata": {},
   "outputs": [
    {
     "name": "stdout",
     "output_type": "stream",
     "text": [
      "_________________________________________________________________\n",
      "Layer (type)                 Output Shape              Param #   \n",
      "=================================================================\n",
      "dense_1 (Dense)              (None, 625)               490625    \n",
      "_________________________________________________________________\n",
      "activation_1 (Activation)    (None, 625)               0         \n",
      "_________________________________________________________________\n",
      "dropout_1 (Dropout)          (None, 625)               0         \n",
      "_________________________________________________________________\n",
      "dense_2 (Dense)              (None, 625)               391250    \n",
      "_________________________________________________________________\n",
      "activation_2 (Activation)    (None, 625)               0         \n",
      "_________________________________________________________________\n",
      "dropout_2 (Dropout)          (None, 625)               0         \n",
      "_________________________________________________________________\n",
      "dense_3 (Dense)              (None, 10)                6260      \n",
      "_________________________________________________________________\n",
      "activation_3 (Activation)    (None, 10)                0         \n",
      "=================================================================\n",
      "Total params: 888,135.0\n",
      "Trainable params: 888,135.0\n",
      "Non-trainable params: 0.0\n",
      "_________________________________________________________________\n"
     ]
    },
    {
     "name": "stderr",
     "output_type": "stream",
     "text": [
      "/Users/MH/anaconda/envs/py36/lib/python3.6/site-packages/ipykernel_launcher.py:3: UserWarning: Update your `Dense` call to the Keras 2 API: `Dense(input_dim=784, units=625, kernel_initializer=\"normal\")`\n",
      "  This is separate from the ipykernel package so we can avoid doing imports until\n",
      "/Users/MH/anaconda/envs/py36/lib/python3.6/site-packages/ipykernel_launcher.py:6: UserWarning: Update your `Dense` call to the Keras 2 API: `Dense(input_dim=625, units=625, kernel_initializer=\"normal\")`\n",
      "  \n",
      "/Users/MH/anaconda/envs/py36/lib/python3.6/site-packages/ipykernel_launcher.py:9: UserWarning: Update your `Dense` call to the Keras 2 API: `Dense(input_dim=625, units=10, kernel_initializer=\"normal\")`\n",
      "  if __name__ == '__main__':\n"
     ]
    }
   ],
   "source": [
    "# Deep Multilayer Perceptron model\n",
    "model = Sequential()\n",
    "model.add(Dense(output_dim=625, input_dim=784, init='normal'))\n",
    "model.add(Activation('relu'))\n",
    "model.add(Dropout(0.2))\n",
    "model.add(Dense(output_dim=625, input_dim=625, init='normal'))\n",
    "model.add(Activation('relu'))\n",
    "model.add(Dropout(0.5))\n",
    "model.add(Dense(output_dim=10, input_dim=625, init='normal'))\n",
    "model.add(Activation('softmax'))\n",
    "\n",
    "model.compile(optimizer=RMSprop(lr=0.001, rho=0.9), loss='categorical_crossentropy', metrics=['accuracy'])\n",
    "model.summary()"
   ]
  },
  {
   "cell_type": "code",
   "execution_count": null,
   "metadata": {},
   "outputs": [
    {
     "name": "stderr",
     "output_type": "stream",
     "text": [
      "/Users/MH/anaconda/envs/py36/lib/python3.6/site-packages/keras/models.py:826: UserWarning: The `nb_epoch` argument in `fit` has been renamed `epochs`.\n",
      "  warnings.warn('The `nb_epoch` argument in `fit` '\n"
     ]
    },
    {
     "name": "stdout",
     "output_type": "stream",
     "text": [
      "Epoch 1/100\n",
      "60000/60000 [==============================] - 18s - loss: 0.2622 - acc: 0.9186    \n",
      "Epoch 2/100\n",
      "60000/60000 [==============================] - 16s - loss: 0.1107 - acc: 0.9667    \n",
      "Epoch 3/100\n",
      "60000/60000 [==============================] - 15s - loss: 0.0799 - acc: 0.9766    \n",
      "Epoch 4/100\n",
      "60000/60000 [==============================] - 16s - loss: 0.0673 - acc: 0.9806    \n",
      "Epoch 5/100\n",
      "60000/60000 [==============================] - 16s - loss: 0.0576 - acc: 0.9834    - ETA: 1s - loss\n",
      "Epoch 6/100\n",
      "60000/60000 [==============================] - 16s - loss: 0.0495 - acc: 0.9861    \n",
      "Epoch 7/100\n",
      "60000/60000 [==============================] - 16s - loss: 0.0429 - acc: 0.9880    \n",
      "Epoch 8/100\n",
      "60000/60000 [==============================] - 15s - loss: 0.0439 - acc: 0.9880    \n",
      "Epoch 9/100\n",
      "60000/60000 [==============================] - 15s - loss: 0.0374 - acc: 0.9899    \n",
      "Epoch 10/100\n",
      "60000/60000 [==============================] - 16s - loss: 0.0360 - acc: 0.9903    \n",
      "Epoch 11/100\n",
      "60000/60000 [==============================] - 15s - loss: 0.0332 - acc: 0.9909    \n",
      "Epoch 12/100\n",
      "60000/60000 [==============================] - 13s - loss: 0.0333 - acc: 0.9908    \n",
      "Epoch 13/100\n",
      "60000/60000 [==============================] - 13s - loss: 0.0294 - acc: 0.9927    \n",
      "Epoch 14/100\n",
      "60000/60000 [==============================] - 13s - loss: 0.0289 - acc: 0.9929    \n",
      "Epoch 15/100\n",
      "60000/60000 [==============================] - 13s - loss: 0.0288 - acc: 0.9927    \n",
      "Epoch 16/100\n",
      "60000/60000 [==============================] - 13s - loss: 0.0270 - acc: 0.9930    \n",
      "Epoch 17/100\n",
      "60000/60000 [==============================] - 14s - loss: 0.0259 - acc: 0.9933    \n",
      "Epoch 18/100\n",
      "60000/60000 [==============================] - 13s - loss: 0.0307 - acc: 0.9927    \n",
      "Epoch 19/100\n",
      "60000/60000 [==============================] - 14s - loss: 0.0288 - acc: 0.9935    \n",
      "Epoch 20/100\n",
      "60000/60000 [==============================] - 16s - loss: 0.0273 - acc: 0.9942    \n",
      "Epoch 21/100\n",
      "60000/60000 [==============================] - 17s - loss: 0.0269 - acc: 0.9941    \n",
      "Epoch 22/100\n",
      "60000/60000 [==============================] - 16s - loss: 0.0257 - acc: 0.9942    \n",
      "Epoch 23/100\n",
      "60000/60000 [==============================] - 14s - loss: 0.0284 - acc: 0.9941    \n",
      "Epoch 24/100\n",
      "60000/60000 [==============================] - 14s - loss: 0.0265 - acc: 0.9943    \n",
      "Epoch 25/100\n",
      "60000/60000 [==============================] - 19s - loss: 0.0252 - acc: 0.9944    \n",
      "Epoch 26/100\n",
      "60000/60000 [==============================] - 17s - loss: 0.0265 - acc: 0.9943    \n",
      "Epoch 27/100\n",
      "60000/60000 [==============================] - 17s - loss: 0.0241 - acc: 0.9949    - ETA: \n",
      "Epoch 28/100\n",
      "60000/60000 [==============================] - 14s - loss: 0.0263 - acc: 0.9945    \n",
      "Epoch 29/100\n",
      "60000/60000 [==============================] - 15s - loss: 0.0271 - acc: 0.9951    \n",
      "Epoch 30/100\n",
      "60000/60000 [==============================] - 16s - loss: 0.0243 - acc: 0.9954    \n",
      "Epoch 31/100\n",
      " 6784/60000 [==>...........................] - ETA: 18s - loss: 0.0141 - acc: 0.9971"
     ]
    }
   ],
   "source": [
    "# Train\n",
    "history = model.fit(X_train, Y_train, nb_epoch=nb_epoch, batch_size=batch_size, verbose=1)"
   ]
  },
  {
   "cell_type": "code",
   "execution_count": 6,
   "metadata": {},
   "outputs": [
    {
     "name": "stdout",
     "output_type": "stream",
     "text": [
      " 9984/10000 [============================>.] - ETA: 0sSummary: Loss over the test dataset: 0.17, Accuracy: 0.98\n"
     ]
    }
   ],
   "source": [
    "# Evaluate\n",
    "evaluation = model.evaluate(X_test, Y_test, verbose=1)\n",
    "print('Summary: Loss over the test dataset: %.2f, Accuracy: %.2f' % (evaluation[0], evaluation[1]))"
   ]
  }
 ],
 "metadata": {
  "kernelspec": {
   "display_name": "Python 3",
   "language": "python",
   "name": "python3"
  },
  "language_info": {
   "codemirror_mode": {
    "name": "ipython",
    "version": 3
   },
   "file_extension": ".py",
   "mimetype": "text/x-python",
   "name": "python",
   "nbconvert_exporter": "python",
   "pygments_lexer": "ipython3",
   "version": "3.6.1"
  }
 },
 "nbformat": 4,
 "nbformat_minor": 1
}
