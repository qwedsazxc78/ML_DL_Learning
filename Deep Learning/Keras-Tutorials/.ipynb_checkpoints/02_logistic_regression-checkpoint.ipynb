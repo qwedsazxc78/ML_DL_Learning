{
 "cells": [
  {
   "cell_type": "code",
   "execution_count": 1,
   "metadata": {},
   "outputs": [
    {
     "name": "stderr",
     "output_type": "stream",
     "text": [
      "Using TensorFlow backend.\n"
     ]
    }
   ],
   "source": [
    "from keras.models import Sequential\n",
    "from keras.layers import Dense\n",
    "from keras.optimizers import SGD\n",
    "from keras.datasets import mnist\n",
    "from keras.utils import np_utils"
   ]
  },
  {
   "cell_type": "code",
   "execution_count": 2,
   "metadata": {
    "collapsed": true
   },
   "outputs": [],
   "source": [
    "batch_size = 128\n",
    "nb_classes = 10\n",
    "nb_epoch = 100"
   ]
  },
  {
   "cell_type": "code",
   "execution_count": 3,
   "metadata": {},
   "outputs": [
    {
     "name": "stdout",
     "output_type": "stream",
     "text": [
      "Downloading data from https://s3.amazonaws.com/img-datasets/mnist.npz\n"
     ]
    }
   ],
   "source": [
    "# Load MNIST dataset\n",
    "(X_train, y_train), (X_test, y_test) = mnist.load_data()\n",
    "X_train = X_train.reshape(60000, 784)\n",
    "X_test = X_test.reshape(10000, 784)\n",
    "X_train = X_train.astype('float32')\n",
    "X_test = X_test.astype('float32')\n",
    "X_train /= 255\n",
    "X_test /= 255\n",
    "Y_Train = np_utils.to_categorical(y_train, nb_classes)\n",
    "Y_Test = np_utils.to_categorical(y_test, nb_classes)"
   ]
  },
  {
   "cell_type": "code",
   "execution_count": 4,
   "metadata": {},
   "outputs": [
    {
     "name": "stdout",
     "output_type": "stream",
     "text": [
      "_________________________________________________________________\n",
      "Layer (type)                 Output Shape              Param #   \n",
      "=================================================================\n",
      "dense_1 (Dense)              (None, 10)                7850      \n",
      "=================================================================\n",
      "Total params: 7,850.0\n",
      "Trainable params: 7,850\n",
      "Non-trainable params: 0.0\n",
      "_________________________________________________________________\n"
     ]
    },
    {
     "name": "stderr",
     "output_type": "stream",
     "text": [
      "/Users/MH/anaconda/envs/py36/lib/python3.6/site-packages/ipykernel_launcher.py:3: UserWarning: Update your `Dense` call to the Keras 2 API: `Dense(input_shape=(784,), activation=\"softmax\", units=10, kernel_initializer=\"normal\")`\n",
      "  This is separate from the ipykernel package so we can avoid doing imports until\n"
     ]
    }
   ],
   "source": [
    "# Logistic regression model\n",
    "model = Sequential()\n",
    "model.add(Dense(output_dim=10, input_shape=(784,), init='normal', activation='softmax'))\n",
    "model.compile(optimizer=SGD(lr=0.05), loss='categorical_crossentropy', metrics=['accuracy'])\n",
    "model.summary()"
   ]
  },
  {
   "cell_type": "code",
   "execution_count": null,
   "metadata": {},
   "outputs": [
    {
     "name": "stderr",
     "output_type": "stream",
     "text": [
      "/Users/MH/anaconda/envs/py36/lib/python3.6/site-packages/keras/models.py:826: UserWarning: The `nb_epoch` argument in `fit` has been renamed `epochs`.\n",
      "  warnings.warn('The `nb_epoch` argument in `fit` '\n"
     ]
    },
    {
     "name": "stdout",
     "output_type": "stream",
     "text": [
      "Epoch 1/100\n",
      "60000/60000 [==============================] - 1s - loss: 0.7254 - acc: 0.8234     \n",
      "Epoch 2/100\n",
      "60000/60000 [==============================] - 1s - loss: 0.4312 - acc: 0.8859     \n",
      "Epoch 3/100\n",
      "60000/60000 [==============================] - 1s - loss: 0.3850 - acc: 0.8956     \n",
      "Epoch 4/100\n",
      "60000/60000 [==============================] - 1s - loss: 0.3618 - acc: 0.9009     \n",
      "Epoch 5/100\n",
      "60000/60000 [==============================] - 1s - loss: 0.3469 - acc: 0.9038     \n",
      "Epoch 6/100\n",
      "60000/60000 [==============================] - 1s - loss: 0.3363 - acc: 0.9067     \n",
      "Epoch 7/100\n",
      "60000/60000 [==============================] - 1s - loss: 0.3283 - acc: 0.9088     \n",
      "Epoch 8/100\n",
      "60000/60000 [==============================] - 1s - loss: 0.3220 - acc: 0.9106     \n",
      "Epoch 9/100\n",
      "60000/60000 [==============================] - 1s - loss: 0.3167 - acc: 0.9114     \n",
      "Epoch 10/100\n",
      "60000/60000 [==============================] - 1s - loss: 0.3123 - acc: 0.9129     \n",
      "Epoch 11/100\n",
      "60000/60000 [==============================] - 1s - loss: 0.3085 - acc: 0.9142     \n",
      "Epoch 12/100\n",
      "60000/60000 [==============================] - 1s - loss: 0.3051 - acc: 0.9148     \n",
      "Epoch 13/100\n",
      "60000/60000 [==============================] - 1s - loss: 0.3024 - acc: 0.9155     \n",
      "Epoch 14/100\n",
      "60000/60000 [==============================] - 1s - loss: 0.2998 - acc: 0.9162     \n",
      "Epoch 15/100\n",
      "60000/60000 [==============================] - 1s - loss: 0.2975 - acc: 0.9167     \n",
      "Epoch 16/100\n",
      "60000/60000 [==============================] - 1s - loss: 0.2954 - acc: 0.9178     \n",
      "Epoch 17/100\n",
      "60000/60000 [==============================] - 1s - loss: 0.2934 - acc: 0.9183     \n",
      "Epoch 18/100\n",
      "60000/60000 [==============================] - 1s - loss: 0.2917 - acc: 0.9186     \n",
      "Epoch 19/100\n",
      "60000/60000 [==============================] - 1s - loss: 0.2900 - acc: 0.9191     \n",
      "Epoch 20/100\n",
      "60000/60000 [==============================] - 1s - loss: 0.2886 - acc: 0.9192     \n",
      "Epoch 21/100\n",
      "60000/60000 [==============================] - 1s - loss: 0.2871 - acc: 0.9196     \n",
      "Epoch 22/100\n",
      "60000/60000 [==============================] - 1s - loss: 0.2859 - acc: 0.9202     \n",
      "Epoch 23/100\n",
      "60000/60000 [==============================] - 1s - loss: 0.2848 - acc: 0.9205     \n",
      "Epoch 24/100\n",
      "60000/60000 [==============================] - 1s - loss: 0.2835 - acc: 0.9208     \n",
      "Epoch 25/100\n",
      "60000/60000 [==============================] - 1s - loss: 0.2825 - acc: 0.9215     \n",
      "Epoch 26/100\n",
      "60000/60000 [==============================] - 1s - loss: 0.2814 - acc: 0.9216     \n",
      "Epoch 27/100\n",
      "60000/60000 [==============================] - 1s - loss: 0.2804 - acc: 0.9218     \n",
      "Epoch 28/100\n",
      "60000/60000 [==============================] - 1s - loss: 0.2796 - acc: 0.9219     \n",
      "Epoch 29/100\n",
      "60000/60000 [==============================] - 1s - loss: 0.2787 - acc: 0.9224     \n",
      "Epoch 30/100\n",
      "60000/60000 [==============================] - 1s - loss: 0.2779 - acc: 0.9224     \n",
      "Epoch 31/100\n",
      "60000/60000 [==============================] - 1s - loss: 0.2771 - acc: 0.9226     \n",
      "Epoch 32/100\n",
      "60000/60000 [==============================] - 1s - loss: 0.2763 - acc: 0.9229     \n",
      "Epoch 33/100\n",
      "60000/60000 [==============================] - 1s - loss: 0.2755 - acc: 0.9235     \n",
      "Epoch 34/100\n",
      "60000/60000 [==============================] - 1s - loss: 0.2749 - acc: 0.9233     \n",
      "Epoch 35/100\n",
      "60000/60000 [==============================] - 1s - loss: 0.2742 - acc: 0.9236     \n",
      "Epoch 36/100\n",
      "60000/60000 [==============================] - 1s - loss: 0.2736 - acc: 0.9238     \n",
      "Epoch 37/100\n",
      "60000/60000 [==============================] - 1s - loss: 0.2729 - acc: 0.9241     \n",
      "Epoch 38/100\n",
      "60000/60000 [==============================] - 1s - loss: 0.2724 - acc: 0.9243     \n",
      "Epoch 39/100\n",
      "60000/60000 [==============================] - 1s - loss: 0.2717 - acc: 0.9240     \n",
      "Epoch 40/100\n",
      "60000/60000 [==============================] - 0s - loss: 0.2713 - acc: 0.9244     \n",
      "Epoch 41/100\n",
      "60000/60000 [==============================] - 0s - loss: 0.2706 - acc: 0.9247     \n",
      "Epoch 42/100\n",
      "60000/60000 [==============================] - 1s - loss: 0.2703 - acc: 0.9252     \n",
      "Epoch 43/100\n",
      "60000/60000 [==============================] - 1s - loss: 0.2696 - acc: 0.9248     \n",
      "Epoch 44/100\n",
      "60000/60000 [==============================] - 1s - loss: 0.2693 - acc: 0.9253     \n",
      "Epoch 45/100\n",
      "60000/60000 [==============================] - 1s - loss: 0.2688 - acc: 0.9252     \n",
      "Epoch 46/100\n",
      "60000/60000 [==============================] - 1s - loss: 0.2683 - acc: 0.9257     \n",
      "Epoch 47/100\n",
      "60000/60000 [==============================] - 1s - loss: 0.2679 - acc: 0.9257     \n",
      "Epoch 48/100\n",
      "60000/60000 [==============================] - 1s - loss: 0.2675 - acc: 0.9258     \n",
      "Epoch 49/100\n",
      "60000/60000 [==============================] - 1s - loss: 0.2670 - acc: 0.9261     \n",
      "Epoch 50/100\n",
      "60000/60000 [==============================] - 1s - loss: 0.2667 - acc: 0.9260     \n",
      "Epoch 51/100\n",
      "60000/60000 [==============================] - 1s - loss: 0.2663 - acc: 0.9258     \n",
      "Epoch 52/100\n",
      "60000/60000 [==============================] - 1s - loss: 0.2658 - acc: 0.9262     \n",
      "Epoch 53/100\n",
      "60000/60000 [==============================] - 1s - loss: 0.2655 - acc: 0.9264     \n",
      "Epoch 54/100\n",
      "60000/60000 [==============================] - 1s - loss: 0.2652 - acc: 0.9265     \n",
      "Epoch 55/100\n",
      "60000/60000 [==============================] - 1s - loss: 0.2648 - acc: 0.9266     \n",
      "Epoch 56/100\n",
      "60000/60000 [==============================] - 1s - loss: 0.2643 - acc: 0.9267     - ETA: 1s -\n",
      "Epoch 57/100\n",
      "60000/60000 [==============================] - 1s - loss: 0.2641 - acc: 0.9269     \n",
      "Epoch 58/100\n",
      "60000/60000 [==============================] - 1s - loss: 0.2637 - acc: 0.9269     \n",
      "Epoch 59/100\n",
      "60000/60000 [==============================] - 1s - loss: 0.2633 - acc: 0.9269     \n",
      "Epoch 60/100\n",
      "60000/60000 [==============================] - 1s - loss: 0.2629 - acc: 0.9273     \n",
      "Epoch 61/100\n",
      "56320/60000 [===========================>..] - ETA: 0s - loss: 0.2626 - acc: 0.9270"
     ]
    }
   ],
   "source": [
    "# Train\n",
    "history = model.fit(X_train, Y_Train, nb_epoch=nb_epoch, batch_size=batch_size, verbose=1)"
   ]
  },
  {
   "cell_type": "code",
   "execution_count": 6,
   "metadata": {},
   "outputs": [
    {
     "name": "stdout",
     "output_type": "stream",
     "text": [
      "10000/10000 [==============================] - 0s     \n",
      "Summary: Loss over the test dataset: 0.27, Accuracy: 0.93\n"
     ]
    }
   ],
   "source": [
    "# Evaluate\n",
    "evaluation = model.evaluate(X_test, Y_Test, verbose=1)\n",
    "print('Summary: Loss over the test dataset: %.2f, Accuracy: %.2f' % (evaluation[0], evaluation[1]))"
   ]
  }
 ],
 "metadata": {
  "kernelspec": {
   "display_name": "Python 3",
   "language": "python",
   "name": "python3"
  },
  "language_info": {
   "codemirror_mode": {
    "name": "ipython",
    "version": 3
   },
   "file_extension": ".py",
   "mimetype": "text/x-python",
   "name": "python",
   "nbconvert_exporter": "python",
   "pygments_lexer": "ipython3",
   "version": "3.6.1"
  }
 },
 "nbformat": 4,
 "nbformat_minor": 1
}
